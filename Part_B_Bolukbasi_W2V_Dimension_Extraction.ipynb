{
 "cells": [
  {
   "cell_type": "markdown",
   "metadata": {},
   "source": [
    "Notebook to accompany paper in preparation by Arseniev-Koehler and Foster.\n",
    "All code last checked on Python 3 in Windows 5/30/2018. Please do not cite or reuse this code yet. This code is still in preparation and may contain errors. "
   ]
  },
  {
   "cell_type": "markdown",
   "metadata": {},
   "source": [
    "# More Manly or Womanly? Geometrically Identify Biases in Word2Vec Models\n",
    "\n",
    "Using methods inspired by [Bolukbasi et. al. 2016](https://arxiv.org/abs/1607.06520)."
   ]
  },
  {
   "cell_type": "markdown",
   "metadata": {},
   "source": [
    "**Table of Contents**\n",
    "\n",
    "* Part 1: [Motivation](#Motivation)\n",
    "* Part 2: [Functions for dimensions-extraction](#HelperFunctions)\n",
    "* Part 3: [Robustness checks](#Robustness)\n",
    "* Part 4: [Extract a dimension and visualize how this dimension classifies words according to gender, morality, healt, and socio-econonomic status](#Results)\n",
    "\n",
    "\n",
    "*This is a long notebook. Here are some possible adventures you might choose:*\n",
    "    \n",
    "* Get the ideas, see simple examples in Python  (Just do [Part 1](#Motivation))\n",
    "* Get to the results ([Part 2](#HelperFunctions) and [4](#Results))\n",
    "* Do robustness checks and then get the results ([Part 2](#HelperFunctions), [3](#Robustness), and [4](#Results)) "
   ]
  },
  {
   "cell_type": "markdown",
   "metadata": {},
   "source": [
    "Let's start by loading up some libraries and a Word2Vec Model:"
   ]
  },
  {
   "cell_type": "code",
   "execution_count": 4,
   "metadata": {},
   "outputs": [
    {
     "name": "stderr",
     "output_type": "stream",
     "text": [
      "C:\\Users\\Alina Arseniev\\Anaconda3\\lib\\site-packages\\gensim\\utils.py:860: UserWarning: detected Windows; aliasing chunkize to chunkize_serial\n",
      "  warnings.warn(\"detected Windows; aliasing chunkize to chunkize_serial\")\n"
     ]
    }
   ],
   "source": [
    "#load up (and install if needed) libraries\n",
    "import numpy as np\n",
    "from sklearn.metrics import accuracy_score\n",
    "from sklearn.model_selection import KFold \n",
    "from gensim.models import Word2Vec, KeyedVectors\n",
    "from sklearn import preprocessing\n",
    "np.set_printoptions(threshold=np.inf) #don't need this if you don't want to print full output, such as high dimensional vectors\n",
    "from sklearn.decomposition import PCA \n",
    "import csv\n",
    "import gensim\n",
    "import statistics\n",
    "from random import randint\n",
    "from collections import Counter\n",
    "import matplotlib.pyplot as plt\n",
    "from scipy import spatial\n",
    "import seaborn as sns\n",
    "from pylab import rcParams\n",
    "from pylab import xlim\n",
    "from IPython.display import Image\n",
    "from IPython.core.display import HTML\n",
    "%matplotlib inline"
   ]
  },
  {
   "cell_type": "markdown",
   "metadata": {},
   "source": [
    "**Load up a pretrained Word2Vec Model**\n",
    "\n",
    "*Don't have a model? Use a pretrained Word2Vec Model from Google, trained on Google News*\n",
    "* Download a pre-trained model on GoogleNews, find link to download on this [site](https://code.google.com/archive/p/word2vec/) or direct link to [download here](https://drive.google.com/file/d/0B7XkCwpI5KDYNlNUTTlSS21pQmM/edit?usp=sharing).\n",
    "* Extract the files, and make sure you have the one called \"GoogleNews-vectors-negative300.bin.gz\" in your working directory. Your working directory is the folder where this Jupyter notebook is currently saved. Currently, the code assumes that your downloads folder is your working directory. \n",
    "* Some of the vocabulary words used in this notebook may not exist, since the vocabulary words used in this notebook were selected based on a model trained on the New York Times, however the code will still run fine. "
   ]
  },
  {
   "cell_type": "code",
   "execution_count": 63,
   "metadata": {
    "collapsed": true
   },
   "outputs": [],
   "source": [
    "#   An example for a PC computer if your model is in your downloads folder, and you're using the Google model \n",
    "#currentmodel=  KeyedVectors.load_word2vec_format('C:/Users/Alina Arseniev/Downloads/GoogleNews-vectors-negative300.bin.gz', binary=True)\n",
    "\n",
    "#   An example for a Mac if your model is in your downloads folder, and you're using the Google model \n",
    "#currentmodel=  KeyedVectors.load_word2vec_format(\"~/Downloads/GoogleNews-vectors-negative300.bin.gz\", binary=True)\n",
    "\n",
    "#   Example based on my set-up of folders:\n",
    "currentmodel=  KeyedVectors.load_word2vec_format('GoogleNews-vectors-negative300.bin.gz', binary=True)\n"
   ]
  },
  {
   "cell_type": "markdown",
   "metadata": {},
   "source": [
    "*Have your own Word2Vec model? Load it up below.*\n",
    "* Some of the vocabulary words used in this notebook may not exist, since the vocabulary words used in this notebook were selected based on a model trained on the New York Times, however the code will still run fine. You might consider curating the words more to your vocabulary, especially if many words are missing in your vocabulary. "
   ]
  },
  {
   "cell_type": "code",
   "execution_count": 8,
   "metadata": {
    "collapsed": true
   },
   "outputs": [],
   "source": [
    "#    An example for a PC computer if your model is in your downloads folder, and you're using a model named \"modelA_ALLYEARS_500dim_10CW\" \n",
    "#currentmodel=  Word2Vec.load(\"C:/Users/Alina Arseniev/Downloads/modelA_ALLYEARS_500dim_10CW\")\n",
    "\n",
    "#   An example for a Mac if your model is in your downloads folder, and you're using a model named \"modelA_ALLYEARS_500dim_10CW\" \n",
    "#currentmodel=  Word2Vec.load(\"~/Downloads/modelA_ALLYEARS_500dim_10CW\")\n",
    "\n",
    "#   Example based on my set-up of folders:\n",
    "#currentmodel=  Word2Vec.load(\"Word2VecModels/modelA_ALLYEARS_500dim_10CW\") #load up a trained Word2Vec model. You'll need to tailor this path to your computer"
   ]
  },
  {
   "cell_type": "markdown",
   "metadata": {},
   "source": [
    "Now, go through Part 1 for background info or skip right to [Part 2](#HelperFunctions)"
   ]
  },
  {
   "cell_type": "markdown",
   "metadata": {},
   "source": [
    "<a id='Motivation'></a> \n",
    "# Part 1. Motivation"
   ]
  },
  {
   "cell_type": "markdown",
   "metadata": {},
   "source": [
    "\"Dimension,\" \"direction\" and \"subspace\" are used in this notebook interchangeably to refer to a vector that captures a bipolar concept such as gender which is often portrayed as ranging continuosly from hypermasculine to hyperfeminine, or socioeconomic status (SES) which ranges from poor to rich. \n",
    "\n",
    "This notebook explores how a language model (Word2Vec) **learns words with respect to these dimensions.** Word2Vec models words as numeric vectors, for a review of Word2Vec check out this [blog post](http://mccormickml.com/2016/04/19/word2vec-tutorial-the-skip-gram-model/). We classify a word-vector by first finding the dimension (like gender), and then projecting the word-vector onto the vector representing the dimension. We get a scalar that corresponds to how far the word-vector lies at one end of the diemsnion or anotehr (e.g., how masculine or feminine the word-vector is).\n",
    "* To use gender as an example - a larger, positive projection of a word onto the gender dimension suggests this word is learned as highly feminine, while a larger, negative projection of a word onto the gender dimension suggests that this word is learned as highly masculine. A word with a projection near zero suggests that Word2Vec learned this word as gender-neutral. \n",
    "* Dimensions in this juypter notebook that are ready for extraction are **gender, morality, health,** and **ses**. Code is modifiable to extract other dimensions that may be interesting: you will need to adjust the training/testing words and corresponding labels. \n",
    "* This code is written for use with Word2Vec models, modifiable for other word-vector models as well. \n",
    "\n",
    "For the original application of these methods to gender see [Bolukbasi et. al. 2016](https://arxiv.org/abs/1607.06520)."
   ]
  },
  {
   "cell_type": "markdown",
   "metadata": {},
   "source": [
    "__*For a more visual explanation, imagine a 3-D vector space with the word-vectors for woman and man:*__"
   ]
  },
  {
   "cell_type": "code",
   "execution_count": 284,
   "metadata": {},
   "outputs": [
    {
     "data": {
      "text/html": [
       "<img src=\"https://raw.githubusercontent.com/arsena-k/Word2Vec-bias-extraction/master/ProjectionExplanation1.jpg\"/>"
      ],
      "text/plain": [
       "<IPython.core.display.Image object>"
      ]
     },
     "execution_count": 284,
     "metadata": {},
     "output_type": "execute_result"
    }
   ],
   "source": [
    "Image(url= \"https://raw.githubusercontent.com/arsena-k/Word2Vec-bias-extraction/master/ProjectionExplanation1.jpg\")"
   ]
  },
  {
   "cell_type": "markdown",
   "metadata": {},
   "source": [
    "**Want MORE detail on how we can extract dimension (like gender)?**\n",
    "\n",
    "\n",
    "Let's look at gender as an example. To extract a gender dimension, we want to find a direction (vector) that correspond to gender. We'll call this vector $\\overrightarrow{g}$. This vector might be visualized as an axis ranging from negative (masculine) to positive (feminine) with gender-neutral at 0. We can find $\\overrightarrow{g}$ by subtracting feminine word-vectors from their masculine word-vector counterparts (such as $\\overrightarrow{woman}-\\overrightarrow{man}$). Specifically, if we assume that the meanings of woman and man are largely equivalent (both human, adults, nouns, singular, etc.) except for their opposite gender components, then subtraction cancels out all but the gender differences across each component. This gender component is our gender direction ($\\overrightarrow{g}$). \n",
    "\n",
    "Each word-vector in our model is made up of N components, where N is the dimensionality of the vector space. We can write each word-vectors in terms of these N components, below. For example, the first component is $\\overrightarrow{X}$, the second component is $\\overrightarrow{Y}$, and the Nth component is $\\overrightarrow{N}$. For brevity, in the math below we refer to the word-vector for woman as $\\overrightarrow{w}$ and the word-vector for man as $\\overrightarrow{m}$.\n",
    "\n",
    "\n",
    "$\\overrightarrow{w} = w_{1}\\overrightarrow{X} + w_{2}\\overrightarrow{Y} + ... + w_{N}\\overrightarrow{N}$\n",
    "and \n",
    "$\\overrightarrow{m} = m_{1}\\overrightarrow{X} + m_{2}\\overrightarrow{Y} + ... + m_{N}\\overrightarrow{N}$\n",
    "\n",
    "\n",
    "We assume that $\\overrightarrow{w} - \\overrightarrow{m}$ = $\\overrightarrow{g}$, where $\\overrightarrow{g}$ is a gender difference vector as described above.\n",
    "\n",
    "\n",
    "$\\overrightarrow{w} - \\overrightarrow{m}$= $(w_{1}\\overrightarrow{X} + w_{2}\\overrightarrow{Y} + ... + w_{N}\\overrightarrow{N}) - ( m_{1}\\overrightarrow{X} + m_{2}\\overrightarrow{Y} + ... + m_{N}\\overrightarrow{N})$\n",
    "\n",
    "\n",
    "These components may be rearranged:\n",
    "\n",
    "$\\overrightarrow{w} - \\overrightarrow{m} = (w_{1}- m_{1})\\overrightarrow{X} + (w_{2}- m_{2})\\overrightarrow{Y} + ... + (w_{N} - m_{N})\\overrightarrow{N}$\n",
    "\n",
    "$\\overrightarrow{w} - \\overrightarrow{m} = g_{1}\\overrightarrow{X} +  g_{2}\\overrightarrow{Y} + ... + g_{N}\\overrightarrow{N}$\n",
    "\n",
    "This leaves us with a N-dimensional vector corresponding to the vector $\\overrightarrow{g}$, corresponding to *differences* between $\\overrightarrow{man}$ and $\\overrightarrow{woman}$."
   ]
  },
  {
   "cell_type": "markdown",
   "metadata": {},
   "source": [
    "### Let's try extracting a gender direction from our pretrained Word2Vec model"
   ]
  },
  {
   "cell_type": "code",
   "execution_count": 212,
   "metadata": {},
   "outputs": [
    {
     "name": "stdout",
     "output_type": "stream",
     "text": [
      "[ -8.30078125e-02  -2.08007812e-01  -1.37695312e-01  -2.44140625e-02\n",
      "   2.83203125e-02  -6.61621094e-02   8.39843750e-02   1.87377930e-02\n",
      "  -3.17382812e-02   4.66384888e-02  -1.25976562e-01  -9.37500000e-02\n",
      "   2.09960938e-02   2.63671875e-02   7.49511719e-02   5.34667969e-02\n",
      "  -8.98437500e-02  -1.12792969e-01   3.27148438e-02   7.00683594e-02\n",
      "   1.01806641e-01  -4.93927002e-02  -8.12988281e-02  -1.36718750e-01\n",
      "  -5.38330078e-02  -4.10156250e-02  -9.27734375e-02   3.90625000e-03\n",
      "  -2.53906250e-02  -1.66503906e-01  -1.85546875e-02  -1.42944336e-01\n",
      "  -1.61621094e-01  -8.48388672e-02  -1.95312500e-02  -1.30859375e-01\n",
      "   5.85937500e-02   7.81250000e-02  -1.67480469e-01  -1.21093750e-01\n",
      "  -1.88720703e-01   1.04980469e-02  -5.37109375e-02  -1.61743164e-02\n",
      "  -9.27734375e-02   4.49218750e-02   0.00000000e+00   2.49023438e-02\n",
      "   2.11181641e-02   1.14257812e-01   1.86279297e-01  -1.23390198e-01\n",
      "  -2.44140625e-04   2.22167969e-01  -1.58691406e-01   1.31835938e-02\n",
      "  -1.46484375e-02  -2.68554688e-02   1.22070312e-01   2.62451172e-02\n",
      "   1.24023438e-01  -1.30859375e-01  -2.19726562e-03   1.09375000e-01\n",
      "  -4.95605469e-02   8.69140625e-02   1.29150391e-01   2.83203125e-01\n",
      "   7.66601562e-02  -4.76074219e-02   9.81445312e-02   7.22656250e-02\n",
      "   3.90625000e-02   6.83593750e-02   9.37500000e-02   1.09375000e-01\n",
      "   3.39355469e-02   3.49121094e-02   1.76025391e-01   2.15087891e-01\n",
      "  -5.37109375e-02  -1.17187500e-02   5.34667969e-02   8.25195312e-02\n",
      "  -3.62792969e-01   1.61132812e-01   1.02539062e-01   1.04614258e-01\n",
      "   5.17578125e-02   2.28271484e-02  -1.10351562e-01  -1.86767578e-01\n",
      "  -6.23779297e-02   2.57568359e-02   1.17187500e-02   4.16564941e-02\n",
      "   1.98486328e-01  -4.73632812e-02   1.11816406e-01   1.32446289e-01\n",
      "  -5.37109375e-02  -1.39648438e-01  -1.13281250e-01  -1.00585938e-01\n",
      "  -6.15234375e-02   1.85546875e-02  -1.29882812e-01  -1.92800522e-01\n",
      "   5.78613281e-02  -2.14843750e-02  -5.82885742e-02  -1.46484375e-03\n",
      "   1.68579102e-01   9.16748047e-02  -1.52603149e-01  -1.30981445e-01\n",
      "  -4.88281250e-04  -8.95996094e-02   4.92248535e-02   6.05468750e-02\n",
      "  -3.41796875e-03   3.52172852e-02   6.34765625e-02   5.27343750e-02\n",
      "   1.24023438e-01   2.26562500e-01   2.92968750e-02   4.40673828e-02\n",
      "   5.76171875e-02   1.27197266e-01   9.76562500e-04  -7.03125000e-02\n",
      "  -9.03320312e-02   6.25610352e-02   1.18164062e-01   9.93041992e-02\n",
      "   1.31835938e-02  -2.48779297e-01   2.92968750e-02  -1.67968750e-01\n",
      "  -1.17187500e-02  -1.78222656e-01  -3.95507812e-02   3.80859375e-02\n",
      "  -9.17968750e-02   9.96093750e-02  -3.85742188e-02   2.27539062e-01\n",
      "  -9.08203125e-02  -2.10327148e-01   1.44531250e-01   2.05078125e-02\n",
      "   1.94335938e-01  -1.00097656e-01   7.73925781e-02  -5.66406250e-02\n",
      "  -1.16943359e-01   4.25720215e-02  -1.46484375e-02   6.93359375e-02\n",
      "  -2.34375000e-02  -1.12304688e-02   1.07421875e-01   1.18652344e-01\n",
      "  -7.03125000e-02   4.05273438e-02  -9.32617188e-02  -1.13281250e-01\n",
      "  -2.90527344e-02   3.31726074e-02  -1.27929688e-01  -4.88281250e-03\n",
      "   3.02734375e-02   1.26953125e-02  -2.44140625e-02  -1.40380859e-01\n",
      "   1.96533203e-01   1.30371094e-01  -2.44140625e-02   1.26464844e-01\n",
      "  -1.04492188e-01  -3.92761230e-02  -1.64916992e-01  -1.01562500e-01\n",
      "   1.56250000e-02   2.24609375e-02  -5.76171875e-02   9.17968750e-02\n",
      "  -1.92382812e-01   4.56542969e-02   1.26495361e-02  -2.73437500e-02\n",
      "   2.92968750e-02   5.17578125e-02   1.19506836e-01   1.84082031e-01\n",
      "  -4.88281250e-03   1.12304688e-02   8.20312500e-02   9.15527344e-02\n",
      "  -8.49609375e-02   5.85937500e-03  -2.53906250e-02  -4.29687500e-02\n",
      "  -1.18652344e-01   1.85546875e-02  -5.27343750e-02   5.41992188e-02\n",
      "   1.62841797e-01  -1.54296875e-01   4.24804688e-02   5.15136719e-02\n",
      "  -5.59082031e-02  -9.00878906e-02   9.76562500e-02   4.88281250e-02\n",
      "  -2.02636719e-02   1.24511719e-01   1.64062500e-01   4.00390625e-02\n",
      "  -8.54492188e-03   1.56494141e-01   1.36718750e-02   9.83886719e-02\n",
      "  -6.64062500e-02  -2.20825195e-01  -1.75781250e-02  -1.90429688e-02\n",
      "  -3.02734375e-02   5.59692383e-02  -1.63574219e-02   4.98046875e-02\n",
      "  -1.88476562e-01   9.76562500e-03   2.44140625e-03  -3.46679688e-02\n",
      "  -2.73437500e-02  -4.21524048e-02  -4.15649414e-02   1.23779297e-01\n",
      "   6.05468750e-02  -1.71997070e-01   1.46484375e-01  -1.85546875e-02\n",
      "   1.39038086e-01   1.02539062e-01  -2.96020508e-02   3.28979492e-02\n",
      "  -1.15234375e-01  -4.95605469e-02   6.83593750e-02   4.63867188e-03\n",
      "   4.00390625e-02  -1.72607422e-01  -3.02734375e-02  -4.15039062e-02\n",
      "   4.47998047e-02  -6.25000000e-02   5.32226562e-02  -7.92236328e-02\n",
      "  -6.54296875e-02   2.78320312e-02  -5.07812500e-02  -1.26953125e-02\n",
      "   5.46875000e-02  -2.73437500e-02  -1.44042969e-02  -5.85937500e-03\n",
      "  -1.36718750e-02   2.09960938e-02   4.29687500e-02   1.43676758e-01\n",
      "  -1.49658203e-01   1.26464844e-01  -1.45263672e-02  -9.37500000e-02\n",
      "   3.71093750e-02   1.80664062e-02   6.10351562e-02   4.39453125e-03\n",
      "   7.42187500e-02  -2.49023438e-02  -4.76074219e-02  -6.83593750e-02\n",
      "  -5.24902344e-02   4.99877930e-02  -3.41796875e-02  -5.27343750e-02\n",
      "  -7.10182190e-02   2.54882812e-01  -5.17578125e-02  -3.51562500e-02\n",
      "  -6.54296875e-02  -1.17187500e-01   2.78320312e-02   1.71875000e-01\n",
      "   2.02148438e-01   2.19726562e-01   1.45507812e-01  -5.04150391e-02]\n"
     ]
    }
   ],
   "source": [
    "gender_direction_trial= currentmodel['woman']-currentmodel['man'] #subtracting the word-vector for man from that for woman\n",
    "print(gender_direction_trial) #this \"direction\" representing gender is just an N-dimensional vector. Not so meaningful to a human!"
   ]
  },
  {
   "cell_type": "markdown",
   "metadata": {},
   "source": [
    "### Now how do we use this gender direction to find how a word-vector is gendered? \n",
    "We [project](https://en.wikipedia.org/wiki/Vector_projection) the word-vector onto the gender direction! A more visual explantion below. "
   ]
  },
  {
   "cell_type": "markdown",
   "metadata": {},
   "source": [
    "__*Thinking more about our gender direction:*__"
   ]
  },
  {
   "cell_type": "code",
   "execution_count": 285,
   "metadata": {},
   "outputs": [
    {
     "data": {
      "text/html": [
       "<img src=\"https://raw.githubusercontent.com/arsena-k/Word2Vec-bias-extraction/master/ProjectionExplanation2.jpg\"/>"
      ],
      "text/plain": [
       "<IPython.core.display.Image object>"
      ]
     },
     "execution_count": 285,
     "metadata": {},
     "output_type": "execute_result"
    }
   ],
   "source": [
    "Image(url= \"https://raw.githubusercontent.com/arsena-k/Word2Vec-bias-extraction/master/ProjectionExplanation2.jpg\")"
   ]
  },
  {
   "cell_type": "markdown",
   "metadata": {},
   "source": [
    "***\n",
    "\n",
    "__*Projecting a word onto our gender direction:*__"
   ]
  },
  {
   "cell_type": "code",
   "execution_count": 286,
   "metadata": {},
   "outputs": [
    {
     "data": {
      "text/html": [
       "<img src=\"https://raw.githubusercontent.com/arsena-k/Word2Vec-bias-extraction/master/ProjectionExplanation3.jpg\"/>"
      ],
      "text/plain": [
       "<IPython.core.display.Image object>"
      ]
     },
     "execution_count": 286,
     "metadata": {},
     "output_type": "execute_result"
    }
   ],
   "source": [
    "Image(url= \"https://raw.githubusercontent.com/arsena-k/Word2Vec-bias-extraction/master/ProjectionExplanation3.jpg\")"
   ]
  },
  {
   "cell_type": "markdown",
   "metadata": {},
   "source": [
    "***\n",
    "__*Projecting a word onto our gender direction:*__"
   ]
  },
  {
   "cell_type": "code",
   "execution_count": 287,
   "metadata": {},
   "outputs": [
    {
     "data": {
      "text/html": [
       "<img src=\"https://raw.githubusercontent.com/arsena-k/Word2Vec-bias-extraction/master/ProjectionExplanation4.jpg\"/>"
      ],
      "text/plain": [
       "<IPython.core.display.Image object>"
      ]
     },
     "execution_count": 287,
     "metadata": {},
     "output_type": "execute_result"
    }
   ],
   "source": [
    "Image(url= \"https://raw.githubusercontent.com/arsena-k/Word2Vec-bias-extraction/master/ProjectionExplanation4.jpg\")"
   ]
  },
  {
   "cell_type": "markdown",
   "metadata": {},
   "source": [
    "Let's do this for a few words we think will be feminine or masculine, to check that this is working:\n",
    "\n",
    "First, define some helper functions:"
   ]
  },
  {
   "cell_type": "code",
   "execution_count": 58,
   "metadata": {
    "collapsed": true
   },
   "outputs": [],
   "source": [
    "#here's a forumla to project some vector A onto another vector B:\n",
    "def project(A,B):\n",
    "    numerator= A.dot(B) #should be a scalar\n",
    "    denominator= np.linalg.norm(B,1) #should be another scalar\n",
    "    scalarproject = float(numerator) / denominator #divide numerator by denominator, this gives you the scalar projection (LENGTH aka MAGNITUDE) of b onto a\n",
    "    return scalarproject\n",
    "    #if want to get the vector projection (i.e. magnutide and DIRECTION),  result 1 (MAGNITUDE) by vector a, and divded by (norm of A)^2\n",
    "\n",
    "#here's a formula to make sure our vectors are all the same size \n",
    "def normalizeME(vec):\n",
    "    b= vec.reshape(-1,1)\n",
    "    c=b/np.linalg.norm(b, ord=2) \n",
    "    #print np.linalg.norm(1)\n",
    "    return c"
   ]
  },
  {
   "cell_type": "markdown",
   "metadata": {},
   "source": [
    "Do the projections for a few words:"
   ]
  },
  {
   "cell_type": "code",
   "execution_count": 289,
   "metadata": {
    "collapsed": true
   },
   "outputs": [],
   "source": [
    "scalarproject_fem_1 = project(currentmodel['queen'],normalizeME(gender_direction_trial)) \n",
    "scalarproject_fem_2 = project(currentmodel['womanly'],normalizeME(gender_direction_trial))\n",
    "scalarproject_masc_1 = project(currentmodel['king'],normalizeME(gender_direction_trial))\n",
    "scalarproject_masc_2 = project(currentmodel['manly'],normalizeME(gender_direction_trial))"
   ]
  },
  {
   "cell_type": "code",
   "execution_count": 290,
   "metadata": {},
   "outputs": [
    {
     "name": "stdout",
     "output_type": "stream",
     "text": [
      "0.0583079139862 0.0691752387045 -0.023215378155 -0.00890600292843\n"
     ]
    }
   ],
   "source": [
    "print(scalarproject_fem_1, scalarproject_fem_2, scalarproject_masc_1, scalarproject_masc_2) #take a look at the projections"
   ]
  },
  {
   "cell_type": "markdown",
   "metadata": {},
   "source": [
    "If this is working on your trained Word2Vec model, you should see that the feminine words lie on one side of the gender direction, and the masculine words on the other side of the gender direction. In my model, for example, all the feminine words have positive scalar projections and all the masculine words have negative scalar projections. \n",
    "\n",
    "To find dimensions for other concepts, we just use other training words, like healthy-ill to find a \"health\" direction. Try it out by modifying the code above! "
   ]
  },
  {
   "cell_type": "markdown",
   "metadata": {},
   "source": [
    "### More realistically...\n",
    "\n",
    "...this method captures the true gender difference alongside other differences and error. To extract a less noisy gender difference, we can use a variety of word pairs beyond woman and man, such as she and he, and then use **Principal Component Analysis** to extract the dominant direction from the various other directions and errors. \n",
    "\n",
    "Principal Component Analysis is a method to identify the main directions of variation (principal components) in a group of vectors. The eigenvalue of each principal component corresponds to how much of the variation the principal component explains; the principal component which explains the most variation is called the first principal component. If the group of vectors tend to represent a single direction with some noise (such as a gender direction with noise), then the first principal component will explain most of the variation in the dataset.\n",
    "\n",
    "You might also try other methods to extract the domininant direction, such as using an average of the gender difference vectors.\n",
    "\n",
    "The remainder of this notebook tries to extracts a more robust direction using PCA on a large set of training words. We look at three directions in this notebook: gender, morality, health, and SES. This notebook also includes steps to evaluate the robustness of the extracted direction on the training words, and on a new, unseen set of testing words. Finally, we project a new set of words, (obesity keyword) onto the direction to see the meaning of obesity with respect to gender, morality, health, and SES. "
   ]
  },
  {
   "cell_type": "markdown",
   "metadata": {},
   "source": [
    "### Now, let's extract a dimension more robustly\n",
    "\n",
    "<a id='HelperFunctions'></a> \n",
    "\n",
    "# Part 2. Some Helper Functions to Extract a Dimension\n",
    "* We choose a set of word pairs that best represent extremes of the dimennsions you are trying to capture. For example, we use man/woman, he/she, and uncle/aunt, among other word-pairs, to capture a gender dimension. \n",
    "* Words may be used more than once if there is no better antonym. Enter the words from each pair below, in order. \n",
    "* If you're not sure if your word choices are any good, try cross validation across the word possiblities to see how sensitive the process is to word choice. "
   ]
  },
  {
   "cell_type": "markdown",
   "metadata": {},
   "source": [
    "**First, a few helper functions to do a vector projection and normalize our vectors.**"
   ]
  },
  {
   "cell_type": "code",
   "execution_count": 82,
   "metadata": {
    "collapsed": true
   },
   "outputs": [],
   "source": [
    "#a function to do a projection of some vector onto another vector:\n",
    "def project(A,B): #scalar projection of A onto B\n",
    "    numerator= A.dot(B) #should be a scalar\n",
    "    denominator= np.linalg.norm(B,1) #should be another scalar\n",
    "    scalarproject = float(numerator) / denominator #divide numerator by denominator, this gives you the scalar projection (LENGTH aka MAGNITUDE) of b onto a\n",
    "    return scalarproject\n",
    "    #if want to get the vector projection (i.e. magnutide and DIRECTION),  result 1 (MAGNITUDE) by vector a, and divded by (norm of A)^2\n",
    "\n",
    "#a function to make sure our vectors are all the same size \n",
    "def normalizeME(vec):\n",
    "    b= vec.reshape(-1,1)\n",
    "    c=b/np.linalg.norm(b, ord=2) \n",
    "    #print np.linalg.norm(1)\n",
    "    return c"
   ]
  },
  {
   "cell_type": "markdown",
   "metadata": {},
   "source": [
    "**Second, a function to select the dimension and correponding words think represent the two ends of the dimension:**"
   ]
  },
  {
   "cell_type": "markdown",
   "metadata": {},
   "source": [
    "If a word is not in the vocabulary of the model, this function by default replaces the word with a generic word. For example, if \"teenage_girl\", or \"twin_sister\" is not in the vocabulary they will be replaced with the generic feminine word for the gender scale, \"woman.\"\n",
    "\n",
    "You might prefer to change the generic replacement words, manually curate vocaublary words for your interests or model, or just remove word-pairs if one of the words in the pair doesn't exist. Later in this notebook we'll look at how robust the extracted dimension is to the choice of vocabulary words. \n",
    "\n",
    "The training words below were used to capture gender, moral, health, or ses dimensions. "
   ]
  },
  {
   "cell_type": "code",
   "execution_count": 52,
   "metadata": {
    "collapsed": true
   },
   "outputs": [],
   "source": [
    "#a function to select the training words to find a dimensions\n",
    "def select_training_set(trainingset): #options are: gender, moral, health, ses\n",
    "    #gender is the main training set used to extract gender\n",
    "    #gender_2 has fewer precise gender words like \"he\" vs \"she\" than set 1,  and some more noise via words that are gendered but less clearcut than Set1. This set was used for experimenting acorss different methods. \n",
    "    #gender_3 even fewer precise gender words like \"he\" vs \"she\" than set 1,  and same added noise as training set 2. This set was used for experimenting acorss different methods.\n",
    "    if trainingset=='gender':\n",
    "        pos_word_list=['womanly', 'my_wife', 'my_mom', 'my_grandmother', 'woman', 'women', 'girl', 'girls', 'her', 'hers', 'herself', 'she', \n",
    "            'lady', 'gal', 'gals', 'madame', 'ladies', 'lady',\n",
    "          'mother', 'mothers', 'mom', 'moms', 'mommy', 'mama', 'ma', 'granddaughter', 'daughter', 'daughters', 'aunt', 'godmother', \n",
    "          'grandma', 'grandmothers', 'grandmother', 'sister', 'sisters', 'aunts', 'stepmother', 'granddaughters', 'niece',\n",
    "          'fiancee', 'ex_girlfriend', 'girlfriends', 'wife', 'wives', 'girlfriend', 'bride', 'brides', 'widow',\n",
    "           'twin_sister', 'younger_sister', 'teenage_girl', 'teenage_girls', 'eldest_daughter','estranged_wife', 'schoolgirl',\n",
    "          'businesswoman', 'congresswoman' , 'chairwoman', 'councilwoman', 'waitress', 'hostess', 'convent', 'heiress', \n",
    "           'saleswoman', 'queen', 'queens', 'princess', 'nun' , 'nuns', 'heroine', 'actress', 'actresses', 'uterus', 'vagina', 'ovarian_cancer',\n",
    "           'maternal', 'maternity', 'motherhood', 'sisterhood', 'girlhood', 'matriarch', 'sorority', \n",
    "         'older_sister', 'oldest_daughter', 'stepdaughter']\n",
    "        neg_word_list=['manly', 'my_husband', 'my_dad','my_grandfather', 'man', 'men', 'boy', 'boys', 'him', 'his', 'himself', 'he', 'guy', 'dude',\n",
    "            'dudes', 'sir', 'guys', 'gentleman','father', 'fathers', 'dad', 'dads', 'daddy', 'papa', 'pa', 'grandson' , 'son', 'sons', 'uncle', 'godfather', \n",
    "           'grandpa', 'grandfathers', 'grandfather', 'brother', 'brothers' , 'uncles', 'stepfather', 'grandsons', 'nephew',\n",
    "           'fiance', 'ex_boyfriend', 'boyfriends', 'husband', 'husbands', 'boyfriend', 'groom', 'grooms', 'widower',\n",
    "            'twin_brother', 'younger_brother', 'teenage_boy', 'teenage_boys', 'eldest_son', 'estranged_husband', 'schoolboy',\n",
    "            'businessman', 'congressman', 'chairman', 'councilman', 'waiter', 'host', 'monastery', 'heir', 'salesman', \n",
    "            'king', 'kings', 'prince', 'monk', 'monks', 'hero', 'actor', 'actors', 'prostate', 'penis', 'prostate_cancer', \n",
    "           'paternal', 'paternity', 'fatherhood', 'brotherhood', 'boyhood', 'patriarch', 'fraternity', \n",
    "           'older_brother', 'oldest_son', 'stepson']\n",
    "        pos_word_replacement='woman' #here's the generic replacement for feminine words\n",
    "        neg_word_replacement='man' #here's the generic replacement for masculine words\n",
    "    elif trainingset=='moral':\n",
    "        pos_word_list= ['good', 'benevolent', 'nice', 'caring', 'conscientious', 'polite', 'fair', 'virtue', 'respect', 'responsible', \n",
    "            'selfless', 'unselfish', 'sincere', 'truthful', 'wonderful', 'justice', 'innocent', 'innocence',\n",
    "           'complement', 'sympathetic', 'virtue', 'right', 'proud', 'pride','respectful', 'appropriate', 'pleasing', 'pleasant', \n",
    "            'pure', 'decent', 'pleasant', 'compassion' , 'compassionate', 'constructive','graceful', 'gentle', 'reliable',\n",
    "           'careful', 'help', 'decent' , 'moral', 'hero', 'heroic', 'heroism', 'honest', 'honesty',\n",
    "           'selfless', 'humility', 'humble', 'generous', 'generosity', 'faithful', 'fidelity', 'worthy', 'tolerant',\n",
    "            'obedient', 'pious', 'saintly', 'angelic', 'virginal', 'sacred', 'reverent', 'god', 'hero', 'heroic', \n",
    "            'forgiving', 'saintly','holy', 'chastity', 'grateful', 'considerate', 'humane', \n",
    "            'trustworthy', 'loyal', 'loyalty', 'empathetic', 'empathy', 'clean', 'straightforward', 'pure']\n",
    "        neg_word_list= ['bad', 'evil', 'mean', 'uncaring', 'lazy', 'rude', 'unfair', 'sin', 'disrespect','irresponsible', \n",
    "           'self_centered', 'selfish', 'insincere', 'lying', 'horrible', 'injustice', 'guilty', 'guilt', \n",
    "            'insult', 'unsympathetic', 'vice', 'wrong', 'ashamed', 'shame', 'disrespectful', 'inappropriate', 'vulgar', 'crude', \n",
    "            'dirty', 'obscene', 'offensive', 'cruelty','brutal', 'destructive', 'rude', 'harsh', 'unreliable',\n",
    "            'careless', 'harm', 'indecent', 'immoral', 'coward', 'cowardly', 'cowardice', 'dishonest', 'dishonesty',\n",
    "            'narcissistic', 'arrogance', 'arrogant', 'greedy', 'greed', 'betray', 'betrayal', 'unworthy', 'intolerant', \n",
    "             'defiant', 'rebellious', 'demonic','devilish', 'promiscuous', 'profane', 'irreverent', 'devil', 'villain', 'villainous', \n",
    "            'vindictive', 'diabolical', 'unholy', 'promiscuity', 'ungrateful', 'thoughtless', 'inhumane',\n",
    "            'untrustworthy', 'treacherous', 'treachery', 'callous', 'indifference', 'dirty', 'manipulative', 'impure' ]\n",
    "        pos_word_replacement='moral' #here's the generic replacement for moral words\n",
    "        neg_word_replacement='immoral' #here's the generic replacement for immoral words\n",
    "    elif trainingset=='health':\n",
    "        pos_word_list= ['fertile', 'help_prevent', 'considered_safe', 'safer', 'healthy', 'healthy', 'healthy', 'healthy', 'healthy',\n",
    "            'healthful', 'well_balanced', 'natural', 'healthy', 'athletic','physically_active', 'health',\n",
    "            'health', 'nutritious','nourishing', 'stronger', 'strong','wellness', 'safe', 'nutritious_food','exercise',\n",
    "            'physically_fit', 'unprocessed', 'healthier_foods', 'nutritious_foods', 'nutritious', 'nutritious',\n",
    "           'healthy_eating', 'healthy_diet', 'healthy_diet', 'nourishing', 'nourished', 'regular_exercise', 'safety', 'safe', \n",
    "            'helpful', 'beneficial', 'healthy', 'healthy', 'sturdy', 'lower_risk', 'reduced_risk', 'decreased_risk', 'nutritious_foods', 'whole_grains', 'healthier_foods',\n",
    "            'healthier_foods', 'physically_active', 'physical_activity', 'nourished', 'vitality', 'energetic', 'able_bodied',\n",
    "            'resilience', 'strength', 'less_prone', 'sanitary', 'clean',  'healing', 'heal', 'salubrious']   \n",
    "        neg_word_list= ['infertile', 'cause_harm','potentially_harmful','riskier', 'unhealthy', 'sick', 'ill', 'frail', 'sickly', \n",
    "            'unhealthful','unbalanced', 'unnatural', 'dangerous', 'sedentary', 'inactive', 'illness', \n",
    "            'sickness', 'toxic', 'unhealthy', 'weaker', 'weak', 'illness', 'unsafe', 'unhealthy_foods', 'sedentary',\n",
    "            'inactive', 'highly_processed', 'processed_foods', 'junk_foods', 'unhealthy_foods', 'junk_foods',\n",
    "               'processed_foods', 'processed_foods', 'fast_food', 'unhealthy_foods', 'deficient', 'sedentary', 'hazard','hazardous', \n",
    "            'harmful', 'injurious',  'chronically_ill', 'seriously_ill', 'frail', 'higher_risk', 'greater_risk', 'increased_risk', 'fried_foods', 'fried_foods',\n",
    "            'fatty_foods', 'sugary_foods', 'sedentary', 'physical_inactivity', 'malnourished', 'lethargy', 'lethargic', 'disabled',\n",
    "            'susceptibility', 'weakness', 'more_susceptible', 'filthy', 'dirty', 'harming', 'hurt', 'deleterious']\n",
    "        pos_word_replacement='healthy' #here's the generic replacement for healthy words\n",
    "        neg_word_replacement='ill' #here's the generic replacement for unhealthy words\n",
    "    elif trainingset=='ses':\n",
    "        pos_word_list=['wealth', 'wealthier', 'wealthiest', 'affluence', 'prosperity', 'wealthy', 'affluent', 'affluent', 'prosperous',\n",
    "                'prosperous','prosperous','disposable_income',  'wealthy','suburban','luxurious','upscale','upscale', 'luxury', \n",
    "                'richest', 'privileged', 'moneyed', 'privileged', 'privileged', 'educated', 'employed', \n",
    "                'elite', 'upper_income', 'upper_class', 'employment', 'riches', 'millionaire', 'aristocrat', 'college_educated',\n",
    "                'abundant', 'lack', 'luxury', 'profitable', 'profit', 'well_educated', 'elites', 'heir', 'well_heeled', \n",
    "                'white_collar', 'higher_incomes', 'bourgeois', 'fortunate', 'successful','economic_growth', 'prosper', 'suburbanites']\n",
    "        neg_word_list= ['poverty', 'poorer', 'poorest', 'poverty', 'poverty', 'impoverished', 'impoverished',  'needy',  'impoverished',\n",
    "                 'poor', 'needy', 'broke', 'needy', 'slum', 'ghetto', 'slums', 'ghettos', 'poor_neighborhoods', \n",
    "                'poorest', 'underserved', 'disadvantaged','marginalized', 'underprivileged', 'uneducated', 'unemployed', \n",
    "                'marginalized', 'low_income', 'underclass','unemployment', 'rags', 'homeless', 'peasant', 'college_dropout', \n",
    "                'lacking', 'abundance', 'squalor', 'bankrupt', 'debt', 'illiterate' ,'underclass', 'orphan',  'destitute', \n",
    "                'blue_collar', 'low_income', 'neediest', 'less_fortunate', 'unsuccessful', 'economic_crisis', 'low_wage', 'homeless']\n",
    "        pos_word_replacement='wealthy' #here's the generic replacement for rich words\n",
    "        neg_word_replacement='poor' #here's the generic replacement for poor words\n",
    "    elif trainingset=='gender_2':\n",
    "        pos_word_list=[ 'girl', 'girls', 'her', 'hers', 'herself', 'she', \n",
    "            'lady', 'gal', 'gals', 'madame', 'ladies', 'lady',\n",
    "          'mother', 'mothers', 'mom', 'moms', 'mommy', 'mama', 'ma', 'granddaughter', 'daughter', 'daughters', 'aunt', 'godmother', \n",
    "          'grandma', 'grandmothers', 'grandmother', 'sister', 'sisters', 'aunts', 'stepmother', 'granddaughters', 'niece',\n",
    "        'fiancee', 'ex_girlfriend', 'girlfriends', 'wife', 'wives', 'girlfriend', 'bride', 'brides', 'widow',\n",
    "           'twin_sister', 'younger_sister', 'teenage_girl', 'teenage_girls', 'eldest_daughter','estranged_wife', 'schoolgirl',\n",
    "        'businesswoman', 'congresswoman' , 'chairwoman', 'councilwoman', 'waitress', 'hostess', 'convent', 'heiress', \n",
    "           'saleswoman', 'queen', 'queens', 'princess', 'nun' , 'nuns', 'heroine', 'actress', 'actresses', 'uterus', 'vagina', 'ovarian_cancer',\n",
    "        'maternal', 'maternity', 'motherhood', 'sisterhood', 'girlhood', 'matriarch', 'sorority', 'mare', 'hen', 'hens', 'filly', 'fillies',\n",
    "          'deer', 'older_sister', 'oldest_daughter', 'stepdaughter', 'pink',  'cute', 'dependent', 'nurturing', 'hysterical', 'bitch',  'dance', 'dancing'] \n",
    "        neg_word_list=['boy', 'boys', 'him', 'his', 'himself', 'he', 'guy', 'dude',\n",
    "            'dudes', 'sir', 'guys', 'gentleman','father', 'fathers', 'dad', 'dads', 'daddy', 'papa', 'pa', 'grandson' , 'son', 'sons', 'uncle', 'godfather', \n",
    "        'grandpa', 'grandfathers', 'grandfather', 'brother', 'brothers' , 'uncles', 'stepfather', 'grandsons', 'nephew',\n",
    "           'fiance', 'ex_boyfriend', 'boyfriends', 'husband', 'husbands', 'boyfriend', 'groom', 'grooms', 'widower',\n",
    "            'twin_brother', 'younger_brother', 'teenage_boy', 'teenage_boys', 'eldest_son', 'estranged_husband', 'schoolboy',\n",
    "            'businessman', 'congressman', 'chairman', 'councilman', 'waiter', 'host', 'monastery', 'heir', 'salesman', \n",
    "            'king', 'kings', 'prince', 'monk', 'monks', 'hero', 'actor', 'actors', 'prostate', 'penis', 'prostate_cancer', \n",
    "        'paternal', 'paternity', 'fatherhood', 'brotherhood', 'boyhood', 'patriarch', 'fraternity', 'stallion', 'rooster', 'roosters', 'colt',\n",
    "           'colts', 'bull', 'older_brother', 'oldest_son', 'stepson', 'blue' ,'manly', 'independent', 'aggressive', 'angry', 'jerk', 'wrestle', 'wrestling'  ]\n",
    "        pos_word_replacement='woman'\n",
    "        neg_word_replacement='man'\n",
    "    elif trainingset=='gender_3':\n",
    "        pos_word_list=['madame', 'ladies', 'lady',\n",
    "          'mother', 'mothers', 'mom', 'mama', 'granddaughter', 'daughter', 'daughters', 'aunt', 'godmother', \n",
    "          'grandma', 'grandmothers', 'grandmother', 'sister', 'sisters', 'aunts', 'stepmother', 'granddaughters', 'niece',\n",
    "        'fiancee', 'ex_girlfriend', 'girlfriends', 'wife', 'wives', 'girlfriend', 'bride', 'brides', 'widow',\n",
    "           'twin_sister', 'younger_sister', 'teenage_girl', 'teenage_girls', 'eldest_daughter','estranged_wife', 'schoolgirl',\n",
    "        'businesswoman', 'congresswoman' , 'chairwoman', 'councilwoman', 'waitress', 'hostess', 'convent', 'heiress', \n",
    "           'saleswoman', 'queen', 'queens', 'princess', 'nun' , 'nuns', 'heroine', 'actress', 'actresses', 'uterus', 'vagina', 'ovarian_cancer',\n",
    "        'maternal', 'maternity', 'motherhood', 'sisterhood', 'girlhood', 'matriarch', 'sorority', 'mare', 'hen', 'hens', 'filly', 'fillies',\n",
    "          'deer', 'older_sister', 'oldest_daughter', 'stepdaughter', 'pink', 'cute', 'dependent', 'nurturing', 'hysterical', 'bitch',  'dance', 'dancing']\n",
    "        neg_word_list=['sir', 'guys', 'gentleman','father', 'fathers', 'dad', 'papa', 'grandson' , 'son', 'sons', 'uncle', 'godfather', \n",
    "        'grandpa', 'grandfathers', 'grandfather', 'brother', 'brothers' , 'uncles', 'stepfather', 'grandsons', 'nephew',\n",
    "           'fiance', 'ex_boyfriend', 'boyfriends', 'husband', 'husbands', 'boyfriend', 'groom', 'grooms', 'widower',\n",
    "            'twin_brother', 'younger_brother', 'teenage_boy', 'teenage_boys', 'eldest_son', 'estranged_husband', 'schoolboy',\n",
    "            'businessman', 'congressman', 'chairman', 'councilman', 'waiter', 'host', 'monastery', 'heir', 'salesman', \n",
    "            'king', 'kings', 'prince', 'monk', 'monks', 'hero', 'actor', 'actors', 'prostate', 'penis', 'prostate_cancer', \n",
    "        'paternal', 'paternity', 'fatherhood', 'brotherhood', 'boyhood', 'patriarch', 'fraternity', 'stallion', 'rooster', 'roosters', 'colt',\n",
    "           'colts', 'bull', 'older_brother', 'oldest_son', 'stepson', 'blue' ,'manly', 'independent', 'aggressive', 'angry', 'jerk', 'wrestle', 'wrestling'  ]\n",
    "        pos_word_replacement='woman'\n",
    "        neg_word_replacement='man'\n",
    "    \n",
    "    pos_words=[]\n",
    "    neg_words=[]\n",
    "    pos_word_list_checked=[]\n",
    "    neg_word_list_checked=[]\n",
    "    for i in pos_word_list:\n",
    "        try:\n",
    "            pos_words.append(currentmodel[i])\n",
    "            pos_word_list_checked.append(i)\n",
    "        except KeyError:\n",
    "            #print(str(i) +  ' was not in this Word2Vec models vocab, and has been replaced with: ' + str(pos_word_replacement) ) #uncomment this to be alerted each time a pos training word-vector is replaced\n",
    "            pos_words.append(currentmodel[pos_word_replacement])\n",
    "            pos_word_list_checked.append(pos_word_replacement)\n",
    "    for i in neg_word_list:\n",
    "        try:\n",
    "            neg_words.append(currentmodel[i])\n",
    "            neg_word_list_checked.append(i)\n",
    "        except KeyError:\n",
    "            #print(str(i) +  ' was not in this Word2Vec models vocab, and has been replaced with: ' + str(neg_word_replacement) ) #uncomment this to be alerted each time a neg training word-vector is replaced\n",
    "            neg_words.append(currentmodel[neg_word_replacement])\n",
    "            neg_word_list_checked.append(neg_word_replacement)\n",
    "\n",
    "    print('\\033[1m' + \"Number of pos train words: \"+ '\\033[0m' + str(len(pos_words)) + '\\033[1m' + \" Number of neg train words: \" + '\\033[0m' + str(len(neg_words)) )\n",
    "    train_classes_pos=np.array(np.repeat(1, len(pos_words)).tolist()) #1 is feminine/moral/healthy/rich by default, we will need to find the correct labels inductively\n",
    "    train_classes_neg=np.array(np.repeat(0, len(neg_words)).tolist()) #0 is masculine/immoral/unhealthy/poor by default, we will need to find the correct labels inductively\n",
    "    \n",
    "    pos_words=np.asarray(pos_words)\n",
    "    neg_words= np.asarray(neg_words)\n",
    "    return(pos_word_list_checked, neg_word_list_checked, pos_words, neg_words, train_classes_pos, train_classes_neg)"
   ]
  },
  {
   "cell_type": "markdown",
   "metadata": {},
   "source": [
    "**Third, a function to do Principal Component Analysis (PCA), slightly modified for this application**\n",
    "\n",
    "Note this function returns a \"direction\" as well as the eigenvalues found in PCA that can tell you how much signal for this direction there is in the data. We feed this function pos_words (word-vectors corresponding to one end of the dimenion we're interested in, like femininity), and a set of \"neg\" words (word-vectors corresponding to the opposite end of the dimension we're interested in, like mascunlinity. We also feed it a trained Word2Vec model, and possibly an set if indices to specify the set of training words from pos_words and neg_words we'll use. \n",
    "\n",
    "For some help walking through PCA, see [this article](http://sebastianraschka.com/Articles/2014_pca_step_by_step.html) which I modified code from.\n",
    "\n",
    "By default, the below code finds a single direction (vector) to represent a \"dimension.\" To modify for other sizes of subspaces, consider projecting onto first 2 or more principal components rather than only the first principal component. "
   ]
  },
  {
   "cell_type": "code",
   "execution_count": 53,
   "metadata": {
    "collapsed": true
   },
   "outputs": [],
   "source": [
    "#a function to do PCA on a a bunch of the training word-pairs\n",
    "def PCA_get_directionVec(pos_words, neg_words, currentmodel, train_index_list=None):\n",
    "    biggie= []\n",
    "    \n",
    "    if train_index_list is not None:\n",
    "        for i,j in zip(pos_words[train_index_list], neg_words[train_index_list]):\n",
    "            biggie.append(i-j) #get difference vector for a specific word-pair here\n",
    "        Ndiff= len(pos_words[train_index_list])\n",
    "    else:\n",
    "        for i,j in zip(pos_words, neg_words):\n",
    "            biggie.append(i-j) #get difference vector for a specific word-pair here\n",
    "        Ndiff= len(pos_words)\n",
    "    \n",
    "    biggie2= np.reshape(biggie, (Ndiff,len(currentmodel['word']))) #now a Ndiff by #dimensions, menasured by len(currentmodel['word']), matrix, can check with print(biggie2.shape)\n",
    "    biggie2= preprocessing.normalize(biggie2, norm='l2')\n",
    "    #print(np.linalg.norm(biggie2[0], ord=2)) #a check to make sure vector is normalized in case this was not done in pre-processing of word-vectors, should be length of 1 \n",
    "\n",
    "    covmat0= [] #this will be used to make the covariance matrix, cov_mat\n",
    "    for i in range(0,Ndiff):\n",
    "        covmat0.append(biggie2[i,:])\n",
    "    cov_mat= np.cov(covmat0) #covariance matrix \n",
    "    assert cov_mat.shape == (Ndiff, Ndiff) #a check for dimensions, should be Ndiff by Ndiff. Note we are trying to find one gender direction ammong the 85 noisy directions, that is why doing PCA this way.\n",
    "    eig_val_cov, eig_vec_cov = np.linalg.eig(cov_mat) #get eigenvalues and eigenvectors of covariance matrix\n",
    "\n",
    "    #for i in range(len(eig_val_cov)):\n",
    "        #eigvec_cov = eig_vec_cov[:,i].reshape(1,Ndiff).T\n",
    "        #print('Eigenvector {}: \\n{}'.format(i+1 eigvec_cov)) #print out eigenvectors\n",
    "        #print('Eigenvalue {} from covariance matrix: {}'.format(i+1, eig_val_cov[i])) #print out eigenvalues\n",
    "    eig_pairs = [[np.abs(eig_val_cov[i]), eig_vec_cov[:,i]] for i in range(len(eig_val_cov))] # Make a list of (eigenvalue, eigenvector) tuples\n",
    "    eig_pairs.sort(key=lambda x: x[0], reverse=True) # Sort the list (eigenvalue, eigenvector) from high to low\n",
    "    ordered_eig_values=[] \n",
    "    for i in eig_pairs:\n",
    "        ordered_eig_values.append(i[0])\n",
    "    \n",
    "    #To visually confirm that the list is correctly sorted by decreasing eigenvalues:\n",
    "    #for i in eig_pairs:\n",
    "        #print(i[0])\n",
    "    matrix_w = eig_pairs[0][1].reshape(Ndiff,1) #this vector represents a \"direction\" of pos-neg words\n",
    "    direction = matrix_w.T.dot(biggie2)  #multiply transpose of this e-vect (principal component) by whole dataset of genderdiffs to get a \"gender\" direction. for projection inner dimensions must match for dot product\n",
    "    assert direction.shape == (1,len(currentmodel['word'])) #a dimension check to make sure this direction is the same dimensions as a word-vector in the model\n",
    "    extracteddirectionVec= np.hstack(normalizeME(direction)) \n",
    "    return(extracteddirectionVec, ordered_eig_values)"
   ]
  },
  {
   "cell_type": "markdown",
   "metadata": {},
   "source": [
    "\n",
    "<p> <span style=\"color:blue\">**AT THIS POINT,** </span> you can continue to Part 3 to examine the robustness of these methods, or skip right to [Part 4](#Results) to just get to some results. <p>\n",
    " "
   ]
  },
  {
   "cell_type": "markdown",
   "metadata": {},
   "source": [
    "<a id='Robustness'></a> \n",
    "# Part 3. Robustness Checks"
   ]
  },
  {
   "cell_type": "markdown",
   "metadata": {},
   "source": [
    "**First, let's see how robust our methods are to the specific training words we use. We'll do cross validation on training words:**"
   ]
  },
  {
   "cell_type": "markdown",
   "metadata": {},
   "source": [
    "Select the dimension you are interested in (gender, moral, health, or ses)"
   ]
  },
  {
   "cell_type": "code",
   "execution_count": 54,
   "metadata": {},
   "outputs": [
    {
     "name": "stdout",
     "output_type": "stream",
     "text": [
      "\u001b[1mNumber of pos train words: \u001b[0m85\u001b[1m Number of neg train words: \u001b[0m85\n"
     ]
    }
   ],
   "source": [
    "pos_word_list, neg_word_list, pos_words, neg_words, train_classes_pos, train_classes_neg \\\n",
    "    = select_training_set('gender') #its ok if words are replaced"
   ]
  },
  {
   "cell_type": "markdown",
   "metadata": {},
   "source": [
    "Do **cross validation** to see how accuracy changes at classifying words if we just use a subset of training words to extract the dimension and and look at how the dimension classifies that subset of words and how it classifes the held-out words. This tells us, for example, how robust our methods are to our word choices. "
   ]
  },
  {
   "cell_type": "code",
   "execution_count": 220,
   "metadata": {},
   "outputs": [
    {
     "name": "stderr",
     "output_type": "stream",
     "text": [
      "C:\\Users\\Alina Arseniev\\Anaconda3\\lib\\site-packages\\ipykernel_launcher.py:5: ComplexWarning: Casting complex values to real discards the imaginary part\n",
      "  \"\"\"\n"
     ]
    }
   ],
   "source": [
    "#cross valdiation\n",
    "kf= KFold(n_splits=len(pos_words), shuffle=True) \n",
    "#n_splits written here is leave-one-wordpair-out cross validation, which is the maximum for n_splits. You could try various lower numbers of n_splits. \n",
    "#Note that this cross-validaton is by word-pair, so if we leave out one word-pair from the direction extraction process, \n",
    "#we leave out two words on which to \"test,\" giving two test predictions.\n",
    "\n",
    "testacc=[]\n",
    "trainacc=[]\n",
    "\n",
    "for train_index, test_index in kf.split(pos_words): #only need the indices on pos words or neg words, then will be the same indices to use for both\n",
    "    directionVec= PCA_get_directionVec(pos_words, neg_words, currentmodel, train_index_list=train_index)[0] #first element is the vector, second is the list of ordered-eig values\n",
    "    \n",
    "    #In a given model, we don't initially know the \"direction\" of a dimensions. In other words, we don't know whether a positive projection will be feminine or masculine. So, inductively find the correct labels 1/0. \n",
    "    #Consider this assumption that embedded in the code carefully when interpreting accuracy rates. \n",
    "    #We learn this rule on the training model and then apply it on the fresh unseen testing model to make sure we're really detecting something.   \n",
    "    pos_class=[] \n",
    "    for word in range(0, len(train_classes_pos[train_index])): #for word in this set of training words\n",
    "        wordToProject=np.hstack(normalizeME(pos_words[train_index][word]))\n",
    "        proj=project(wordToProject, directionVec)\n",
    "        if proj > 0:\n",
    "            pos_class.append(1) #evidence from this training word that the \"positive words\" are learned as positive\n",
    "        elif proj < 0:\n",
    "            pos_class.append(0) #evidence from this training word that the \"positive words\" are learned as negative\n",
    "    \n",
    "    #Now get predictions on the \"training\" set of the fold\n",
    "    predictions_train=[]\n",
    "    combinedposnegtrain= np.concatenate([pos_words[train_index] ,neg_words[train_index]], axis=0)\n",
    "    if statistics.mode(pos_class)==1: #if the positive class is mostly 1, keep labels as is. Note that if the positive class is split exactly 50/50 this won't work, but also then accuracy is equal to flip of coin.    \n",
    "        for word in range(0, len(combinedposnegtrain)):\n",
    "            wordToProject=np.hstack(normalizeME(combinedposnegtrain[word]))\n",
    "            proj=project(wordToProject, directionVec)\n",
    "            if proj > 0:\n",
    "                predictions_train.append(1)\n",
    "            elif proj<0:\n",
    "                predictions_train.append(0)\n",
    "        classes_train= np.concatenate([train_classes_pos[train_index] , train_classes_neg[train_index]], axis=0)\n",
    "    elif statistics.mode(pos_class)==0: #if the positive class is mostly -1, reverse labels\n",
    "        for word in range(0, len(combinedposnegtrain)):\n",
    "            wordToProject=np.hstack(normalizeME(combinedposnegtrain[word]))\n",
    "            proj=project(wordToProject, directionVec)\n",
    "            if proj > 0:\n",
    "                predictions_train.append(0)\n",
    "            elif proj<0:\n",
    "                predictions_train.append(1)\n",
    "        classes_train= np.concatenate([train_classes_pos[train_index] , train_classes_neg[train_index]], axis=0)\n",
    "    else:\n",
    "        print(\"No clear label\")\n",
    "    \n",
    "    #Now get predictions on the \"testing\" set of the fold\n",
    "    predictions_test=[]\n",
    "    combinedposnegtest= np.concatenate([pos_words[test_index] ,neg_words[test_index]], axis=0)\n",
    "    if statistics.mode(pos_class)==1:\n",
    "        for word in range(0, len(combinedposnegtest)):\n",
    "            wordToProject=np.hstack(normalizeME(combinedposnegtest[word]))\n",
    "            proj=project(wordToProject, directionVec)\n",
    "            if proj > 0:\n",
    "                predictions_test.append(1)\n",
    "            elif proj< 0:\n",
    "                predictions_test.append(0)\n",
    "        classes_test= np.concatenate([train_classes_pos[test_index], train_classes_neg[test_index]], axis=0)\n",
    "    elif statistics.mode(pos_class)==0:\n",
    "        for word in range(0, len(combinedposnegtest)):\n",
    "            wordToProject=np.hstack(normalizeME(combinedposnegtest[word]))\n",
    "            proj=project(wordToProject, directionVec)\n",
    "            if proj > 0:\n",
    "                predictions_test.append(0)\n",
    "            elif proj< 0:\n",
    "                predictions_test.append(1)\n",
    "        classes_test= np.concatenate([train_classes_pos[test_index], train_classes_neg[test_index]], axis=0)\n",
    "    else:\n",
    "        print(\"No clear label\")\n",
    "    trainacc.append(accuracy_score(classes_train, predictions_train))\n",
    "    testacc.append(accuracy_score(classes_test, predictions_test))\n",
    "    \n",
    "print('\\033[1m' +'Mean Accuracy across Training Subsets:'  + '\\033[0m'+ str(statistics.mean(trainacc)))\n",
    "print('\\033[1m' +'Standard Deviation of Accuracy across Training Subsets:'  + '\\033[0m'+ str(statistics.stdev(trainacc)))\n",
    "print('\\033[1m' +  'Mean Accuracy across Held-Out Subsets: ' + '\\033[0m'+ str(statistics.mean(testacc)))\n",
    "print('\\033[1m' +'Standard Deviation of Accuracy across Held-Out Subsets: ' + '\\033[0m' + str(statistics.stdev(testacc)))"
   ]
  },
  {
   "cell_type": "markdown",
   "metadata": {},
   "source": [
    "### Next, let's double check quality of the direction vector by plotting the eigenvalues\n",
    "If there is indeed a specific \"direction\" amongst the many, noisy, difference vectors (such as the difference between the word-pair 'man' and 'woman', and between 'uncle' and 'aunt'), we should see that the eigenvalue of first componenent (the \"direction\") is by far larger than remaining components"
   ]
  },
  {
   "cell_type": "code",
   "execution_count": 222,
   "metadata": {
    "collapsed": true,
    "scrolled": true
   },
   "outputs": [],
   "source": [
    "#a function to look at the eigenvalues\n",
    "def eig_plot(subspace, save=False):\n",
    "    pos_word_list, neg_word_list, pos_words, neg_words, train_classes_pos, train_classes_neg = select_training_set(subspace)\n",
    "    eigvalues= PCA_get_directionVec(pos_words, neg_words, currentmodel, train_index_list=None)[1] \n",
    "\n",
    "    PC_list0= range(1,len(pos_words)+1)\n",
    "    PC_list= np.arange(len(eigvalues))\n",
    "    plt.bar( PC_list, eigvalues, align='center')\n",
    "    plt.title(str(\"Principal components of \"+ subspace +  \" differences matrix\"))\n",
    "    #plt.xticks(PC_list, PC_list0 ) #if few PCs and want to label these, add in this in\n",
    "\n",
    "    #TURN OFF X AXIS TICKS\n",
    "    plt.tick_params( \n",
    "        axis='x',          # changes apply to the x-axis\n",
    "        which='both',      # both major and minor ticks are affected\n",
    "        bottom='off',      # ticks along the bottom edge are off\n",
    "        top='off',         # ticks along the top edge are off\n",
    "        labelbottom='off') # labels along the bottom edge are off\n",
    "    plt.xlabel(\"Principal Component\")\n",
    "    plt.ylabel(\"Eigenvalue\")\n",
    "    if save==True:\n",
    "        plt.savefig('PCs_Model.png') #to save a plot as an image, maybe tailor name here\n",
    "    plt.show()"
   ]
  },
  {
   "cell_type": "code",
   "execution_count": 223,
   "metadata": {},
   "outputs": [
    {
     "name": "stdout",
     "output_type": "stream",
     "text": [
      "\u001b[1mNumber of pos train words: \u001b[0m85\u001b[1m Number of neg train words: \u001b[0m85\n"
     ]
    },
    {
     "data": {
      "image/png": "[encoded data removed]",
      "text/plain": [
       "<matplotlib.figure.Figure at 0x17ca460f5c0>"
      ]
     },
     "metadata": {},
     "output_type": "display_data"
    },
    {
     "name": "stdout",
     "output_type": "stream",
     "text": [
      "\u001b[1mNumber of pos train words: \u001b[0m80\u001b[1m Number of neg train words: \u001b[0m80\n"
     ]
    },
    {
     "data": {
      "image/png": "[encoded data removed]",
      "text/plain": [
       "<matplotlib.figure.Figure at 0x17ca4636860>"
      ]
     },
     "metadata": {},
     "output_type": "display_data"
    },
    {
     "name": "stdout",
     "output_type": "stream",
     "text": [
      "\u001b[1mNumber of pos train words: \u001b[0m65\u001b[1m Number of neg train words: \u001b[0m65\n"
     ]
    },
    {
     "data": {
      "image/png": "[encoded data removed]",
      "text/plain": [
       "<matplotlib.figure.Figure at 0x17ca46368d0>"
      ]
     },
     "metadata": {},
     "output_type": "display_data"
    },
    {
     "name": "stdout",
     "output_type": "stream",
     "text": [
      "\u001b[1mNumber of pos train words: \u001b[0m50\u001b[1m Number of neg train words: \u001b[0m50\n"
     ]
    },
    {
     "data": {
      "image/png": "[encoded data removed]",
      "text/plain": [
       "<matplotlib.figure.Figure at 0x17ca47ae780>"
      ]
     },
     "metadata": {},
     "output_type": "display_data"
    }
   ],
   "source": [
    "eig_plot('gender')\n",
    "eig_plot('moral')\n",
    "eig_plot('health')\n",
    "eig_plot('ses')"
   ]
  },
  {
   "cell_type": "markdown",
   "metadata": {},
   "source": [
    "### Last, let's look to see if these directions are unique \n",
    "\n",
    "Perhaps they are all just capturing sentiment (good vs bad)?"
   ]
  },
  {
   "cell_type": "code",
   "execution_count": 224,
   "metadata": {},
   "outputs": [
    {
     "name": "stdout",
     "output_type": "stream",
     "text": [
      "\u001b[1mNumber of pos train words: \u001b[0m85\u001b[1m Number of neg train words: \u001b[0m85\n",
      "\u001b[1mNumber of pos train words: \u001b[0m80\u001b[1m Number of neg train words: \u001b[0m80\n",
      "\u001b[1mNumber of pos train words: \u001b[0m65\u001b[1m Number of neg train words: \u001b[0m65\n",
      "\u001b[1mNumber of pos train words: \u001b[0m50\u001b[1m Number of neg train words: \u001b[0m50\n"
     ]
    }
   ],
   "source": [
    "#extract all four direction vectors:\n",
    "pos_word_list, neg_word_list, pos_words, neg_words, train_classes_pos, train_classes_neg = select_training_set('gender')\n",
    "genderdirectionVec= PCA_get_directionVec(pos_words, neg_words, currentmodel, train_index_list=None)[0] \n",
    "\n",
    "pos_word_list, neg_word_list, pos_words, neg_words, train_classes_pos, train_classes_neg = select_training_set('moral')\n",
    "moraldirectionVec= PCA_get_directionVec(pos_words, neg_words, currentmodel, train_index_list=None)[0] \n",
    "\n",
    "pos_word_list, neg_word_list, pos_words, neg_words, train_classes_pos, train_classes_neg = select_training_set('health')\n",
    "healthdirectionVec= PCA_get_directionVec(pos_words, neg_words, currentmodel, train_index_list=None)[0] \n",
    "\n",
    "pos_word_list, neg_word_list, pos_words, neg_words, train_classes_pos, train_classes_neg = select_training_set('ses')\n",
    "sesdirectionVec= PCA_get_directionVec(pos_words, neg_words, currentmodel, train_index_list=None)[0] "
   ]
  },
  {
   "cell_type": "code",
   "execution_count": 225,
   "metadata": {},
   "outputs": [
    {
     "name": "stdout",
     "output_type": "stream",
     "text": [
      "Cosine Similarity between gender and morality is: (0.0348560182694+0j)\n",
      "Cosine Similarity between gender and health is: (0.033085536526+0j)\n",
      "Cosine Similarity between gender and ses is: (-0.0202698207139+0j)\n",
      "Cosine Similarity between morality and health is: (-0.526689453308+0j)\n",
      "Cosine Similarity between morality and ses is: -0.158042995344\n",
      "Cosine Similarity between health and ses is: (0.179831082554+0j)\n"
     ]
    }
   ],
   "source": [
    "print(\"Cosine Similarity between gender and morality is: \" + str(1 - spatial.distance.cosine(genderdirectionVec, moraldirectionVec))) #similarity is 1-distance\n",
    "print(\"Cosine Similarity between gender and health is: \" + str(1 - spatial.distance.cosine(genderdirectionVec, healthdirectionVec))) #similarity is 1-distance\n",
    "print(\"Cosine Similarity between gender and ses is: \" + str(1 - spatial.distance.cosine(genderdirectionVec, sesdirectionVec))) #similarity is 1-distance\n",
    "print(\"Cosine Similarity between morality and health is: \" + str(1 - spatial.distance.cosine(moraldirectionVec, healthdirectionVec))) #similarity is 1-distance\n",
    "print(\"Cosine Similarity between morality and ses is: \" + str(1 - spatial.distance.cosine(moraldirectionVec, sesdirectionVec))) #similarity is 1-distance\n",
    "print(\"Cosine Similarity between health and ses is: \" + str(1 - spatial.distance.cosine(healthdirectionVec, sesdirectionVec))) #similarity is 1-distance"
   ]
  },
  {
   "cell_type": "markdown",
   "metadata": {},
   "source": [
    "From Word2Vec models used to develop this code, morality and health are quite similar, though not exactly the same. Gender is not similar to any others, and health, morality, and ses have some similarity. Perhaps another future route to improve these directions even more is to find a \"sentiment\" direction, and find the each the vector *rejection* of morality, health, and SES from sentiment, to \"eliminate\" sentiment. "
   ]
  },
  {
   "cell_type": "code",
   "execution_count": 103,
   "metadata": {
    "collapsed": true
   },
   "outputs": [],
   "source": [
    "#if you want to save a direction vector you extracted!\n",
    "np.savetxt(\"genderdirectionVec_Bolukbasi.csv\", genderdirectionVec, delimiter=\",\") \n",
    "np.savetxt(\"moraldirectionVec_Bolukbasi.csv\", moraldirectionVec, delimiter=\",\") \n",
    "np.savetxt(\"healthdirectionVec_Bolukbasi.csv\", healthdirectionVec, delimiter=\",\") \n",
    "np.savetxt(\"sesdirectionVec_Bolukbasi.csv\", sesdirectionVec, delimiter=\",\")"
   ]
  },
  {
   "cell_type": "markdown",
   "metadata": {},
   "source": [
    "<a id='Results'></a> \n",
    "# Part 4: Let's extract a dimension (gender, morality, health, or socioeconomic status) and then see how words are classified according to that dimension"
   ]
  },
  {
   "cell_type": "markdown",
   "metadata": {},
   "source": [
    "For each dimension, we'll look at how the dimension classifies the **training** words used to find the dimension and then a fresh set of **testing** words *not* used to find the dimension.\n",
    "\n",
    "For gender, we'l look at how the dimension classifies some **stereotypically gendered** words, and you can try adding in our own words too. \n",
    "\n",
    "Finally, we'll look at how the dimension classifies a set of **words about obesity and body weight**. Is obesity connoted with feminininity or masculinity? Morality or immorality? Health or illness? Wealth or poverty?  Here you can stick in your own words too and see how they are classified. "
   ]
  },
  {
   "cell_type": "markdown",
   "metadata": {},
   "source": [
    "Let's get started by defining some more functions:"
   ]
  },
  {
   "cell_type": "code",
   "execution_count": 55,
   "metadata": {
    "collapsed": true
   },
   "outputs": [],
   "source": [
    "#a function to select a testing set of words\n",
    "def select_testing_set(testingset):\n",
    "    if testingset=='gender':\n",
    "        test_word_list= ['goddess', 'single_mother', 'girlish', 'feminine', 'young_woman', 'little_girl', 'ladylike', 'my_mother', \n",
    "           'teenage_daughter', 'mistress', 'great_grandmother', 'adopted_daughter', 'femininity', 'motherly', 'matronly', \n",
    "           'showgirl', 'housewife', 'vice_chairwoman', 'co_chairwoman', 'spokeswoman', 'governess', 'divorcee', 'spinster', \n",
    "           'maid', 'countess', 'pregnant_woman', 'landlady', 'seamstress', 'young_girl', 'waif', 'femme_fatale','comedienne',\n",
    "            'boyish', 'masculine',  'lad', 'policeman', 'macho', 'gentlemanly', 'machismo',  'teenage_son', \n",
    "            'beau', 'great_grandfather', 'tough_guy', 'masculinity', 'bad_boy', 'spokesman', 'baron', 'adult_male', 'landlord', 'fireman', 'mailman', 'vice_chairman', \n",
    "           'co_chairman','young_man', 'bearded', 'mustachioed', 'con_man', 'homeless_man', 'gent', 'strongman']\n",
    "        test_classes=np.repeat(1, 32).tolist() #1 is feminine\n",
    "        masc2=np.repeat(0, 28).tolist() #0 is masculine\n",
    "        for i in masc2:\n",
    "            test_classes.append(i) \n",
    "    elif testingset=='moral':\n",
    "        test_word_list= ['great', 'best', 'faith', 'chaste', 'wholesome', 'noble', 'honorable', 'immaculate', 'gracious', \n",
    "           'courteous', 'delightful', 'earnest', 'amiable', 'admirable', 'disciplined', 'patience', 'integrity',\n",
    "            'restraint', 'upstanding', 'diligent', 'dutiful', 'loving', 'righteous','respectable', 'praise', 'devout', 'forthright',\n",
    "            'depraved', 'repulsive', 'repugnant', 'corruption', 'vicious', 'unlawful', 'outrage',  'shameless', 'perverted',\n",
    "            'filthy', 'lewd', 'subversive', 'sinister', 'murderous', 'perverse', \n",
    "           'monstrous', 'homicidal', 'indignant', 'misdemeanor', 'degenerate', 'malevolent', 'illegal','terrorist','terrorism',  \n",
    "             'cheated', 'vengeful', 'culpable','vile', 'hateful', 'abuse', 'abusive', 'criminal', 'deviant']\n",
    "        test_classes=np.repeat(1, 27 ).tolist() #1 is feminine\n",
    "        masc2=np.repeat(0,33).tolist() #0 is masculine\n",
    "        for i in masc2:\n",
    "            test_classes.append(i)\n",
    "    elif testingset=='health':\n",
    "        test_word_list= [ 'balanced_diet', 'healthfulness', 'fiber', 'jogging', 'stopping_smoking', 'vigor', \n",
    "          'active', 'fit', 'flourishing', 'sustaining', 'hygienic', 'hearty', 'enduring', 'energized', 'wholesome', \n",
    "           'holistic', 'healed', 'fitter', 'health_conscious', 'more_nutritious', 'live_longer',  'exercising_regularly',\n",
    "           'healthier_choices', 'healthy_habits', 'healthy_lifestyle', 'healthful_eating', 'immune', \n",
    "            'deadly', 'diseased',  'adverse', 'risky', 'fatal', 'filthy', 'epidemic', 'crippling', 'carcinogenic', 'carcinogen',\n",
    "           'crippled', 'afflicted', 'contaminated', 'fatigued', 'detrimental', 'bedridden', 'incurable', 'hospitalized',\n",
    "           'infected', 'ailing', 'debilitated', 'poisons', 'disabling', 'life_threatening', 'debilitating', \n",
    "           'chronic_illness', 'artery_clogging', 'hypertension','disease', 'stroke',\n",
    "            'plague', 'fatty', 'smoking']\n",
    "        test_classes=np.repeat(1, 27).tolist() #1 is feminine\n",
    "        masc2=np.repeat(0, 33 ).tolist() #0 is masculine\n",
    "        for i in masc2:\n",
    "            test_classes.append(i) \n",
    "    elif testingset=='ses':\n",
    "        test_word_list= ['rich', 'billionaire', 'banker',  'fortune', 'heiress', 'cosmopolitan', 'ornate', 'entrepreneur', 'sophisticated',\n",
    "                'aristocratic', 'investor', 'highly_educated', 'better_educated',  'splendor', \n",
    "               'businessman', 'opulent', 'multimillionaire', 'philanthropist', 'estate', 'estates', 'chateau', 'fortunes', \n",
    "               'financier', 'young_professionals','tycoon', 'baron', 'grandeur', 'magnate', \n",
    "               'investment_banker', 'venture_capitalist', 'upwardly_mobile', 'highly_skilled', 'yuppies', 'genteel',\n",
    "                         'homelessness', 'ruin', 'ruined', 'downtrodden', 'less_affluent',\n",
    "                'housing_project', 'homeless_shelters', 'indigent', 'jobless', 'welfare',  \n",
    "                'temporary_shelters','housing_projects', 'subsidized_housing', 'starving', 'beggars', 'orphanages',\n",
    "                'dispossessed', 'uninsured', 'welfare_recipients', 'food_stamps', \n",
    "                'malnutrition',  'underemployed', 'disenfranchised', 'servants', 'displaced', 'poor_families'] \n",
    "        test_classes=np.repeat(1, 34).tolist()#1 is feminine\n",
    "        masc2=np.repeat(0, 26).tolist() #0 is masculine\n",
    "        for i in masc2:\n",
    "            test_classes.append(i) \n",
    "    elif testingset=='gender_stereotypes':\n",
    "        test_word_list=['petite', 'cooking', 'graceful',  'housework', 'soft', 'whisper', 'flirtatious', 'accepting', 'blonde', 'blond', 'doll', 'dolls','nurse',  'estrogen', 'lipstick','pregnant', 'nanny', 'pink', \n",
    "                 'sewing', 'modeling', 'dainty', 'gentle', 'children','pregnancy', 'nurturing', 'depressed', 'nice', 'emotional','depression', 'home', 'kitchen', 'quiet', 'submissive',\n",
    "                   'soldier', 'army', 'drafted', 'military',   'beard', 'mustache', 'genius', 'engineering', 'math', \n",
    "                  'brilliant', 'strong', 'strength',  'politician', 'programmer','doctor', 'sexual', 'aggressive', \n",
    "                    'testosterone', 'tall', 'competitive', 'big', 'powerful', 'mean', 'sports', 'fighting', 'confident', 'rough', 'loud', 'worldly',\n",
    "                   'experienced', 'insensitive', 'ambitious', 'dominant']\n",
    "        test_classes=np.repeat(1, 33 ).tolist() #1 is feminine\n",
    "        masc2=np.repeat(0,33).tolist() #0 is masculine\n",
    "        for i in masc2:\n",
    "            test_classes.append(i) \n",
    "    else:\n",
    "        print('choose a testing set: gender, moral, health, or ses')\n",
    "        \n",
    "    test_words=[]\n",
    "    test_word_list_checked=[]\n",
    "    test_classes_checked=[] \n",
    "    for i in test_word_list:\n",
    "        try:\n",
    "            test_words.append(currentmodel[i])\n",
    "            test_word_list_checked.append(i)\n",
    "            test_classes_checked.append(test_classes[test_word_list.index(i)]) \n",
    "        except KeyError:\n",
    "            continue\n",
    "            #print(str(i) +  ' was not in this Word2Vec models vocab, and has been removed as a test word') #uncomment this to be alerted each time a test word is not included in your model's vocabulary\n",
    "            #index_missing= test_word_list.index(i) #new\n",
    "            #del(test_classes[index_missing]) \n",
    "            #test_words.append(currentmodel[test_word_replacement])\n",
    "            #test_word_list_checked.append(test_word_replacement)\n",
    "            #get index of word, and remove this from classes, and do not append to list of vectors and word-list\n",
    "\n",
    "    test_words= np.asarray(test_words)\n",
    "    print('\\033[1m'+ \"Number of test words in model vocabulary, out of 60: \" + '\\033[0m' + str(len(test_words)))\n",
    "    return(test_word_list_checked, test_words, test_classes_checked)"
   ]
  },
  {
   "cell_type": "code",
   "execution_count": 56,
   "metadata": {
    "collapsed": true
   },
   "outputs": [],
   "source": [
    "#a function to do a projection with a new word list, using a dimension learned on a training set of words\n",
    "def do_projections(subspace, new_word_list):\n",
    "    pos_word_list, neg_word_list, pos_words, neg_words, train_classes_pos, train_classes_neg = select_training_set(subspace)\n",
    "    test_word_list,test_words, test_classes = select_testing_set(subspace)\n",
    "    directionVec= PCA_get_directionVec(pos_words, neg_words, currentmodel, train_index_list=None)[0] #first element is the vector, second is the list of ordered-eig values\n",
    "    \n",
    "    #In a given model, we don't initially know the \"direction\" of a dimensions. In other words, we don't know whether a positive projection will be feminine or masculine. So, inductively find the correct labels 1/0. \n",
    "    #Consider this assumption that embedded in the code carefully when interpreting accuracy rates  \n",
    "    pos_class=[] \n",
    "    for word in range(0, len(train_classes_pos)): #for word in this set of training words\n",
    "        wordToProject=np.hstack(normalizeME(pos_words[word]))\n",
    "        proj=project(wordToProject, directionVec)\n",
    "        if proj > 0:\n",
    "            pos_class.append(1) #evidence from this training word that the \"positive words\" are learned as positive\n",
    "        elif proj < 0:\n",
    "            pos_class.append(0) #evidence from this training word that the \"positive words\" are learned as negative\n",
    "    \n",
    "    #Now get predictions on the training set\n",
    "    predictions_train=[]\n",
    "    projections_train=[]\n",
    "    combinedposnegtrain= np.concatenate([pos_words, neg_words], axis=0)\n",
    "    train_classes=np.concatenate([train_classes_pos, train_classes_neg], axis=0) \n",
    "    if statistics.mode(pos_class)==1: #if the positive class is mostly 1, keep labels as is. Note that if the positive class is split exactly 50/50 this won't work, but also then accuracy is equal to flip of coin.    \n",
    "        for word in range(0, len(combinedposnegtrain)):\n",
    "            wordToProject=np.hstack(normalizeME(combinedposnegtrain[word]))\n",
    "            proj=project(wordToProject, directionVec)\n",
    "            projections_train.append(proj)\n",
    "            if proj > 0:\n",
    "                predictions_train.append(1)\n",
    "            elif proj<0:\n",
    "                predictions_train.append(0)\n",
    "    elif statistics.mode(pos_class)==0: #if the positive class is mostly -1, reverse labels\n",
    "        for word in range(0, len(combinedposnegtrain)):\n",
    "            wordToProject=np.hstack(normalizeME(combinedposnegtrain[word]))\n",
    "            proj=project(wordToProject, directionVec)\n",
    "            projections_train.append(-(proj))\n",
    "            if proj > 0:\n",
    "                predictions_train.append(0)\n",
    "            elif proj<0:\n",
    "                predictions_train.append(1)\n",
    "    else:\n",
    "        print(\"No clear label\")\n",
    "\n",
    "    \n",
    "    #Now get predictions on the testing set\n",
    "    predictions_test=[]\n",
    "    projections_test=[]\n",
    "    if statistics.mode(pos_class)==1:\n",
    "        for word in range(0, len(test_words)):\n",
    "            wordToProject=np.hstack(normalizeME(test_words[word]))\n",
    "            proj=project(wordToProject, directionVec)\n",
    "            projections_test.append(proj)\n",
    "            if proj > 0:\n",
    "                predictions_test.append(1)\n",
    "            elif proj< 0:\n",
    "                predictions_test.append(0)\n",
    "    elif statistics.mode(pos_class)==0:\n",
    "        for word in range(0, len(test_words)):\n",
    "            wordToProject=np.hstack(normalizeME(test_words[word]))\n",
    "            proj=project(wordToProject, directionVec)\n",
    "            projections_test.append(-(proj))\n",
    "            if proj > 0:\n",
    "                predictions_test.append(0)\n",
    "            elif proj< 0:\n",
    "                predictions_test.append(1)\n",
    "    else:\n",
    "        print(\"No clear label\")\n",
    "\n",
    "    trainacc=accuracy_score(train_classes, predictions_train)\n",
    "    testacc=accuracy_score(test_classes, predictions_test)\n",
    "    trainacc_N=accuracy_score(train_classes, predictions_train, normalize=False)\n",
    "    testacc_N=accuracy_score(test_classes, predictions_test, normalize=False)\n",
    "    \n",
    "    print('\\033[1m' + 'Percent- Training accuracy: '+ '\\033[0m'+  str(trainacc) + '\\033[1m' + \" Testing accuracy: \" + '\\033[0m'+  str(testacc) )\n",
    "    print('\\033[1m' + 'Number- Training accuracy: ' + '\\033[0m'+ str(trainacc_N) + '\\033[1m' + \" Testing accuracy: \" + '\\033[0m' + str(testacc_N))\n",
    "    \n",
    "    predictions_new_word_list=[]\n",
    "    projections_new_word_list=[]\n",
    "    if new_word_list is not None:\n",
    "        if statistics.mode(pos_class)==1:\n",
    "            for word in range(0, len(new_word_list)):\n",
    "                wordToProject=np.hstack(normalizeME(currentmodel[new_word_list[word]]))\n",
    "                proj=project(wordToProject, directionVec)\n",
    "                projections_new_word_list.append(proj)\n",
    "                if proj > 0:\n",
    "                    predictions_new_word_list.append(1)\n",
    "                elif proj< 0:\n",
    "                    predictions_new_word_list.append(0)\n",
    "        elif statistics.mode(pos_class)==0:\n",
    "            for word in range(0, len(new_word_list)):\n",
    "                wordToProject=np.hstack(normalizeME(currentmodel[new_word_list[word]]))\n",
    "                proj=project(wordToProject, directionVec)\n",
    "                projections_new_word_list.append(-(proj))\n",
    "                if proj > 0:\n",
    "                    predictions_new_word_list.append(0)\n",
    "                elif proj< 0:\n",
    "                    predictions_new_word_list.append(1)\n",
    "        else:\n",
    "            print(\"No clear label\")\n",
    "    \n",
    "    return(np.concatenate([pos_word_list, neg_word_list], axis=0), predictions_train, projections_train, train_classes, test_word_list, predictions_test, projections_test, test_classes, predictions_new_word_list,  projections_new_word_list)"
   ]
  },
  {
   "cell_type": "markdown",
   "metadata": {},
   "source": [
    "#### do_projections wraps up a lot of the previous functions we've been using and returns projections and other data you'll want! \n",
    "\n",
    "Let's use it, input below whether you want to look at gender, moral, health, or the ses dimensions:"
   ]
  },
  {
   "cell_type": "code",
   "execution_count": 67,
   "metadata": {},
   "outputs": [
    {
     "name": "stdout",
     "output_type": "stream",
     "text": [
      "\u001b[1mNumber of pos train words: \u001b[0m65\u001b[1m Number of neg train words: \u001b[0m65\n",
      "\u001b[1mNumber of test words in model vocabulary, out of 60: \u001b[0m51\n",
      "\u001b[1mPercent- Training accuracy: \u001b[0m0.915384615385\u001b[1m Testing accuracy: \u001b[0m0.960784313725\n",
      "\u001b[1mNumber- Training accuracy: \u001b[0m119\u001b[1m Testing accuracy: \u001b[0m49\n"
     ]
    },
    {
     "name": "stderr",
     "output_type": "stream",
     "text": [
      "C:\\Users\\Alina Arseniev\\Anaconda3\\lib\\site-packages\\ipykernel_launcher.py:5: ComplexWarning: Casting complex values to real discards the imaginary part\n",
      "  \"\"\"\n"
     ]
    }
   ],
   "source": [
    "train_word_list, predictions_train, projections_train, train_classes, test_word_list, predictions_test, projections_test,\\\n",
    "    test_classes, predictions_new_word_list, projections_new_word_list \\\n",
    "    = do_projections('health', None)"
   ]
  },
  {
   "cell_type": "markdown",
   "metadata": {},
   "source": [
    "####  Visualization of Test Words for the Dimension You Selected in the Code Block Above"
   ]
  },
  {
   "cell_type": "code",
   "execution_count": 279,
   "metadata": {},
   "outputs": [
    {
     "data": {
      "image/png": "[encoded data removed]",
      "text/plain": [
       "<matplotlib.figure.Figure at 0x17ca5e35358>"
      ]
     },
     "metadata": {},
     "output_type": "display_data"
    }
   ],
   "source": [
    "rcParams['figure.figsize'] = 9,9\n",
    "#xlim([-.03, .03])\n",
    "\n",
    "test_classes_relabeled=[] #quick hack to get legend to show Positive/Negative instead of 0/1\n",
    "for i in test_classes:\n",
    "    if i==1:\n",
    "        test_classes_relabeled.append('Positive')\n",
    "    else:\n",
    "        test_classes_relabeled.append('Negative')\n",
    "\n",
    "myplot= sns.stripplot(projections_test, test_word_list, test_classes_relabeled, jitter=True, size=10)\n",
    "plt.legend(loc=\"upper left\", bbox_to_anchor=[0, 1],\n",
    "           ncol=2, shadow=True, title=\"True Class\", fancybox=True)\n",
    "\n",
    "plt.axvline(x=0, color='r', linestyle='-')\n",
    "plt.title('Test Words \\n Positive is feminine/moral/healthy/high ses \\n Negative is masculine/immoral/unhealthy/low ses')\n",
    "plt.xlabel('Predicted')\n",
    "plt.show()\n"
   ]
  },
  {
   "cell_type": "markdown",
   "metadata": {},
   "source": [
    "#### Lets see how some stereotypically gendered words are classified with this method!\n",
    "Try adding in other gender stereotypes here!"
   ]
  },
  {
   "cell_type": "code",
   "execution_count": 234,
   "metadata": {},
   "outputs": [
    {
     "name": "stdout",
     "output_type": "stream",
     "text": [
      "\u001b[1mNumber of pos train words: \u001b[0m85\u001b[1m Number of neg train words: \u001b[0m85\n",
      "\u001b[1mNumber of test words in model vocabulary, out of 60: \u001b[0m39\n",
      "\u001b[1mPercent- Training accuracy: \u001b[0m0.911764705882\u001b[1m Testing accuracy: \u001b[0m0.871794871795\n",
      "\u001b[1mNumber- Training accuracy: \u001b[0m155\u001b[1m Testing accuracy: \u001b[0m34\n"
     ]
    },
    {
     "name": "stderr",
     "output_type": "stream",
     "text": [
      "C:\\Users\\Alina Arseniev\\Anaconda3\\lib\\site-packages\\ipykernel_launcher.py:5: ComplexWarning: Casting complex values to real discards the imaginary part\n",
      "  \"\"\"\n"
     ]
    },
    {
     "data": {
      "image/png": "[encoded data removed]",
      "text/plain": [
       "<matplotlib.figure.Figure at 0x17ca5bdfe10>"
      ]
     },
     "metadata": {},
     "output_type": "display_data"
    }
   ],
   "source": [
    "gender_stereotypes_seeifinmodel=['petite', 'cooking', 'graceful',  'housework', 'soft', 'whisper', 'flirtatious', 'accepting', 'blonde', 'blond', 'doll', 'dolls','nurse',  'estrogen', 'lipstick','pregnant', 'nanny', 'pink', \n",
    "                 'sewing', 'modeling', 'dainty', 'gentle', 'children','pregnancy', 'nurturing', 'depressed', 'nice', 'emotional','depression', 'home', 'kitchen', 'quiet', 'submissive',\n",
    "                   'soldier', 'army', 'drafted', 'military',   'beard', 'mustache', 'genius', 'engineering', 'math', \n",
    "                  'brilliant', 'strong', 'strength',  'politician', 'programmer','doctor', 'sexual', 'aggressive', \n",
    "                    'testosterone', 'tall', 'competitive', 'big', 'powerful', 'mean', 'sports', 'fighting', 'confident', 'rough', 'loud', 'worldly',\n",
    "                   'experienced', 'insensitive', 'ambitious', 'dominant']\n",
    "gender_stereotypes= []\n",
    "\n",
    "#check if these words are in your model\n",
    "for i in gender_stereotypes_seeifinmodel:\n",
    "    try:\n",
    "        currentmodel[i]\n",
    "        gender_stereotypes.append(i)\n",
    "    except:\n",
    "        print(str(i) + \" was not in this model's vocabulary and has been removed\")\n",
    "        continue\n",
    "\n",
    "\n",
    "train_word_list, predictions_train, projections_train, train_classes, test_word_list, predictions_test, projections_test, test_classes, predictions_new_word_list, projections_new_word_list  = do_projections('gender', gender_stereotypes)\n",
    "\n",
    "#Visualization\n",
    "rcParams['figure.figsize'] = 9,9\n",
    "#xlim([-.03, .03])\n",
    "myplot= sns.stripplot(projections_new_word_list, gender_stereotypes, color= 'blue', jitter=True, size=10)\n",
    "plt.axvline(x=0, color='r', linestyle='-')\n",
    "plt.title('Predicted Gender of Stereotypically Gendered Words')\n",
    "plt.xlabel('Negative projection is masculine, positive projection is feminine')\n",
    "plt.show()"
   ]
  },
  {
   "cell_type": "markdown",
   "metadata": {},
   "source": [
    "#### Now lets try with obese words:\n",
    "Try plugging in your own words here too! Select below whether you want to look at these with respect to gender, moral, health, or ses:"
   ]
  },
  {
   "cell_type": "code",
   "execution_count": 235,
   "metadata": {},
   "outputs": [
    {
     "name": "stdout",
     "output_type": "stream",
     "text": [
      "normal_weight was not in this model's vocabulary and has been removed\n",
      "seriously_overweight was not in this model's vocabulary and has been removed\n",
      "\u001b[1mNumber of pos train words: \u001b[0m50\u001b[1m Number of neg train words: \u001b[0m50\n",
      "\u001b[1mNumber of test words in model vocabulary, out of 60: \u001b[0m52\n",
      "\u001b[1mPercent- Training accuracy: \u001b[0m0.94\u001b[1m Testing accuracy: \u001b[0m0.961538461538\n",
      "\u001b[1mNumber- Training accuracy: \u001b[0m94\u001b[1m Testing accuracy: \u001b[0m50\n"
     ]
    }
   ],
   "source": [
    "obese_words_seeifinmodel=['obese', 'obesity', 'diabetic', 'diabetes', 'weight', 'overweight', 'thin', 'slender', 'burly',\n",
    "                'muscular', 'diet', 'dieting', 'health', 'healthy', 'unhealthy', 'fat', 'anorexic', 'anorexia', 'bulimia', \n",
    "                'beautiful', 'handsome', 'overeating', 'exercise', 'sedentary', 'bulimic', 'morbidly_obese', 'normal_weight',\n",
    "                'seriously_overweight']\n",
    "obese_words= []\n",
    "\n",
    "#check if these words are in your model\n",
    "for i in obese_words_seeifinmodel:\n",
    "    try:\n",
    "        currentmodel[i]\n",
    "        obese_words.append(i)\n",
    "    except:\n",
    "        print(str(i) + \" was not in this model's vocabulary and has been removed\")\n",
    "        continue\n",
    "\n",
    "train_word_list, predictions_train, projections_train, train_classes, test_word_list, predictions_test, \\\n",
    "    projections_test, test_classes, predictions_new_word_list, projections_new_word_list  \\\n",
    "    = do_projections('gender', obese_words)"
   ]
  },
  {
   "cell_type": "markdown",
   "metadata": {},
   "source": [
    "#### Visualization based on the dimension you selected in the above code block"
   ]
  },
  {
   "cell_type": "code",
   "execution_count": 236,
   "metadata": {},
   "outputs": [
    {
     "data": {
      "image/png": "[encoded data removed]",
      "text/plain": [
       "<matplotlib.figure.Figure at 0x17ca49ad4a8>"
      ]
     },
     "metadata": {},
     "output_type": "display_data"
    }
   ],
   "source": [
    "rcParams['figure.figsize'] = 7, 7\n",
    "#xlim([-.03, .03])\n",
    "myplot= sns.stripplot(projections_new_word_list, obese_words, color= 'blue', jitter=True, size=10)\n",
    "plt.axvline(x=0, color='r', linestyle='-')\n",
    "plt.title('Obesity Related Words \\n Positive is feminine/moral/healthy/high ses \\n Negative is masculine/immoral/unhealthy/low ses')\n",
    "plt.xlabel('Predicted')\n",
    "plt.show()"
   ]
  },
  {
   "cell_type": "markdown",
   "metadata": {},
   "source": [
    "#### Write projection for training/testing/obese keywords results to a CSV"
   ]
  },
  {
   "cell_type": "code",
   "execution_count": 44,
   "metadata": {},
   "outputs": [
    {
     "name": "stdout",
     "output_type": "stream",
     "text": [
      "Number of pos words:85 Number of neg words:85\n",
      "Number of test words: 60\n",
      "Percent- Training accuracy: 0.852941176471 Testing accuracy: 0.883333333333\n",
      "Number- Training accuracy: 145 Testing accuracy: 53\n"
     ]
    }
   ],
   "source": [
    "#written here for gender, or specify in \"do_projections\" below for moral, health, or ses\n",
    "train_word_list, predictions_train, projections_train, train_classes, test_word_list, predictions_test, \\\n",
    "    projections_test, test_classes, predictions_new_word_list, projections_new_word_list \\\n",
    "    = do_projections('gender', obese_words)\n",
    "\n",
    "with open(r'Gender_Results.csv', 'a') as f:\n",
    "    writer = csv.writer(f)\n",
    "    writer.writerow(['Gender_Train']*len(train_word_list))  #change the headings as needed for Gender,Moral, Health, SES\n",
    "    writer.writerow(train_word_list)\n",
    "    writer.writerow(train_classes)\n",
    "    writer.writerow(projections_train)\n",
    "    writer.writerow(predictions_train)\n",
    "   \n",
    "    writer.writerow(['Gender_Test']*len(test_word_list)) #change the headings as needed for Gender, Moral, Health, SES\n",
    "    writer.writerow(test_word_list)\n",
    "    writer.writerow(test_classes)\n",
    "    writer.writerow(predictions_test)\n",
    "    writer.writerow(projections_test)\n",
    "    \n",
    "    writer.writerow(['Gender_Obesity']*len(obese_words)) #change the headings as needed for Gender, Moral, Health, SES, and if another set of words other than the obese_words are used here\n",
    "    writer.writerow(obese_words)\n",
    "    writer.writerow(predictions_new_word_list)\n",
    "    writer.writerow(projections_new_word_list)"
   ]
  }
 ],
 "metadata": {
  "kernelspec": {
   "display_name": "Python 3",
   "language": "python",
   "name": "python3"
  },
  "language_info": {
   "codemirror_mode": {
    "name": "ipython",
    "version": 3
   },
   "file_extension": ".py",
   "mimetype": "text/x-python",
   "name": "python",
   "nbconvert_exporter": "python",
   "pygments_lexer": "ipython3",
   "version": "3.6.3"
  }
 },
 "nbformat": 4,
 "nbformat_minor": 1
}
