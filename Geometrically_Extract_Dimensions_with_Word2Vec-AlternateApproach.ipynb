{
 "cells": [
  {
   "cell_type": "markdown",
   "metadata": {},
   "source": [
    "# Extract a latent dimension (direction) in the semantic space learned by Word2Vec using an ALTERNATE geometric approach"
   ]
  },
  {
   "cell_type": "markdown",
   "metadata": {},
   "source": [
    "\"Dimension,\" \"direction\" and \"subspace\" are used in this notebook interchangeably to refer to a vector that captures a bipolar concept such as \"gender\" which ranges continously from hypermasculine to hyperfeminine, or \"socioeconomic status\" which ranges from poor to rich. \n",
    "\n",
    "We can **see how \"biased\" a word is learned by Word2Vec by** projecting it onto an extracted dimension. We'll get a scalar that corresponds to the learned bias. \n",
    "* To use gender bias as an example - a larger, positive projection of a word onto the gender dimension suggests this word is learned as highly feminine, while a larger, negative proejction of a word onto the gender dimension suggests that this word is learned as highly masculine. A word with a projection near zero suggests that Word2Vec learned this word as gender-neutral. \n",
    "\n",
    "* Dimensions in this juypter notebook that are ready for extraction are **gender, morality, health,** and **ses**. Code is easily modifiable to extract other dimensions that may be interesting, you will need to adjust the training/testing words and corresponding labels. \n",
    "* This code is written for use with Word2Vec models, easily modifiable for other word-vector models as well. \n",
    "\n",
    "Methods are inspired by Bolukbasi et. al. 2016 (https://arxiv.org/abs/1607.06520) which quantifies gender biases in Word2Vec models. "
   ]
  },
  {
   "cell_type": "code",
   "execution_count": 1,
   "metadata": {},
   "outputs": [
    {
     "name": "stderr",
     "output_type": "stream",
     "text": [
      "C:\\Users\\Alina Arseniev\\Anaconda3\\lib\\site-packages\\gensim\\utils.py:860: UserWarning: detected Windows; aliasing chunkize to chunkize_serial\n",
      "  warnings.warn(\"detected Windows; aliasing chunkize to chunkize_serial\")\n"
     ]
    }
   ],
   "source": [
    "import numpy as np\n",
    "from sklearn.metrics import accuracy_score\n",
    "from sklearn.model_selection import KFold \n",
    "from gensim.models import Word2Vec\n",
    "from sklearn import preprocessing\n",
    "np.set_printoptions(threshold=np.inf) #do this if you want to print full output\n",
    "from sklearn.decomposition import PCA #don't necessarily need\n",
    "import csv\n",
    "import gensim\n",
    "import statistics\n",
    "from random import randint\n",
    "from collections import Counter\n",
    "import matplotlib.pyplot as plt\n",
    "from scipy import spatial\n",
    "%matplotlib inline"
   ]
  },
  {
   "cell_type": "markdown",
   "metadata": {},
   "source": [
    "# Upload a Trained Word2Vec Model In Which You Want to Find a Dimensions"
   ]
  },
  {
   "cell_type": "markdown",
   "metadata": {},
   "source": [
    "*Don't have a model? Use a pretrained Word2Vec Model from Google, trained on Google News*\n",
    "* Read and download here: https://code.google.com/archive/p/word2vec/\n",
    "* File is called \"GoogleNews-vectors-negative300.bin.gz\"\n",
    "\n",
    "*What you will need to change in this code includes:*\n",
    "* currentmodel = gensim.models.KeyedVectors.load_word2vec_format('GoogleNews-vectors-negative300.bin', binary=True)  \n",
    "* Some of the vocabulary words used to extract subspace may not exist, and you will get errors and need to find substitutes for these words. "
   ]
  },
  {
   "cell_type": "code",
   "execution_count": 2,
   "metadata": {},
   "outputs": [],
   "source": [
    "currentmodel=  Word2Vec.load(\"Word2VecModels/modelA_ALLYEARS_500dim_10CW\")"
   ]
  },
  {
   "cell_type": "markdown",
   "metadata": {},
   "source": [
    "# Find a Gender/Moral/Health/SES Dimension\n",
    "* Choose a set of word pairs that best represent extremes of the diemsnions you are trying to capture. Such as man/woman to capture a gender dimension. \n",
    "* Words may be used more than once if there is no better antonym. Enter the words from each pair below, in order. \n",
    "* If you're not sure if your word choices are any good, try cross validation across the word possiblities to see how sensitive the process is to word choice. "
   ]
  },
  {
   "cell_type": "code",
   "execution_count": 3,
   "metadata": {
    "collapsed": true
   },
   "outputs": [],
   "source": [
    "def select_training_set(trainingset): #options are: gender, moral, health, ses\n",
    "    #gender is the training set used for the PCA approach\n",
    "    #gender_2 has fewer precise gender words like \"he\" vs \"she\" than set 1,  and some more noise via words that are gendered but less clearcut than Set1)\n",
    "    #gender_3 even fewer precise gender words like \"he\" vs \"she\" than set 1,  and same added noise as training set 2\n",
    "\n",
    "    if trainingset=='gender_2':\n",
    "        pos_word_list=[ 'girl', 'girls', 'her', 'hers', 'herself', 'she', \n",
    "            'lady', 'gal', 'gals', 'madame', 'ladies', 'lady',\n",
    "          'mother', 'mothers', 'mom', 'moms', 'mommy', 'mama', 'ma', 'granddaughter', 'daughter', 'daughters', 'aunt', 'godmother', \n",
    "          'grandma', 'grandmothers', 'grandmother', 'sister', 'sisters', 'aunts', 'stepmother', 'granddaughters', 'niece',\n",
    "        'fiancee', 'ex_girlfriend', 'girlfriends', 'wife', 'wives', 'girlfriend', 'bride', 'brides', 'widow',\n",
    "           'twin_sister', 'younger_sister', 'teenage_girl', 'teenage_girls', 'eldest_daughter','estranged_wife', 'schoolgirl',\n",
    "        'businesswoman', 'congresswoman' , 'chairwoman', 'councilwoman', 'waitress', 'hostess', 'convent', 'heiress', \n",
    "           'saleswoman', 'queen', 'queens', 'princess', 'nun' , 'nuns', 'heroine', 'actress', 'actresses', 'uterus', 'vagina', 'ovarian_cancer',\n",
    "        'maternal', 'maternity', 'motherhood', 'sisterhood', 'girlhood', 'matriarch', 'sorority', 'mare', 'hen', 'hens', 'filly', 'fillies',\n",
    "          'deer', 'older_sister', 'oldest_daughter', 'stepdaughter', 'pink',  'cute', 'dependent', 'nurturing', 'hysterical', 'bitch',  'dance', 'dancing'] \n",
    "        neg_word_list=['boy', 'boys', 'him', 'his', 'himself', 'he', 'guy', 'dude',\n",
    "            'dudes', 'sir', 'guys', 'gentleman','father', 'fathers', 'dad', 'dads', 'daddy', 'papa', 'pa', 'grandson' , 'son', 'sons', 'uncle', 'godfather', \n",
    "        'grandpa', 'grandfathers', 'grandfather', 'brother', 'brothers' , 'uncles', 'stepfather', 'grandsons', 'nephew',\n",
    "           'fiance', 'ex_boyfriend', 'boyfriends', 'husband', 'husbands', 'boyfriend', 'groom', 'grooms', 'widower',\n",
    "            'twin_brother', 'younger_brother', 'teenage_boy', 'teenage_boys', 'eldest_son', 'estranged_husband', 'schoolboy',\n",
    "            'businessman', 'congressman', 'chairman', 'councilman', 'waiter', 'host', 'monastery', 'heir', 'salesman', \n",
    "            'king', 'kings', 'prince', 'monk', 'monks', 'hero', 'actor', 'actors', 'prostate', 'penis', 'prostate_cancer', \n",
    "        'paternal', 'paternity', 'fatherhood', 'brotherhood', 'boyhood', 'patriarch', 'fraternity', 'stallion', 'rooster', 'roosters', 'colt',\n",
    "           'colts', 'bull', 'older_brother', 'oldest_son', 'stepson', 'blue' ,'manly', 'independent', 'aggressive', 'angry', 'jerk', 'wrestle', 'wrestling'  ]\n",
    "        pos_word_replacement='woman'\n",
    "        neg_word_replacement='man'\n",
    "    elif trainingset=='gender_3':\n",
    "        pos_word_list=['madame', 'ladies', 'lady',\n",
    "          'mother', 'mothers', 'mom', 'mama', 'granddaughter', 'daughter', 'daughters', 'aunt', 'godmother', \n",
    "          'grandma', 'grandmothers', 'grandmother', 'sister', 'sisters', 'aunts', 'stepmother', 'granddaughters', 'niece',\n",
    "        'fiancee', 'ex_girlfriend', 'girlfriends', 'wife', 'wives', 'girlfriend', 'bride', 'brides', 'widow',\n",
    "           'twin_sister', 'younger_sister', 'teenage_girl', 'teenage_girls', 'eldest_daughter','estranged_wife', 'schoolgirl',\n",
    "        'businesswoman', 'congresswoman' , 'chairwoman', 'councilwoman', 'waitress', 'hostess', 'convent', 'heiress', \n",
    "           'saleswoman', 'queen', 'queens', 'princess', 'nun' , 'nuns', 'heroine', 'actress', 'actresses', 'uterus', 'vagina', 'ovarian_cancer',\n",
    "        'maternal', 'maternity', 'motherhood', 'sisterhood', 'girlhood', 'matriarch', 'sorority', 'mare', 'hen', 'hens', 'filly', 'fillies',\n",
    "          'deer', 'older_sister', 'oldest_daughter', 'stepdaughter', 'pink', 'cute', 'dependent', 'nurturing', 'hysterical', 'bitch',  'dance', 'dancing']\n",
    "        neg_word_list=['sir', 'guys', 'gentleman','father', 'fathers', 'dad', 'papa', 'grandson' , 'son', 'sons', 'uncle', 'godfather', \n",
    "        'grandpa', 'grandfathers', 'grandfather', 'brother', 'brothers' , 'uncles', 'stepfather', 'grandsons', 'nephew',\n",
    "           'fiance', 'ex_boyfriend', 'boyfriends', 'husband', 'husbands', 'boyfriend', 'groom', 'grooms', 'widower',\n",
    "            'twin_brother', 'younger_brother', 'teenage_boy', 'teenage_boys', 'eldest_son', 'estranged_husband', 'schoolboy',\n",
    "            'businessman', 'congressman', 'chairman', 'councilman', 'waiter', 'host', 'monastery', 'heir', 'salesman', \n",
    "            'king', 'kings', 'prince', 'monk', 'monks', 'hero', 'actor', 'actors', 'prostate', 'penis', 'prostate_cancer', \n",
    "        'paternal', 'paternity', 'fatherhood', 'brotherhood', 'boyhood', 'patriarch', 'fraternity', 'stallion', 'rooster', 'roosters', 'colt',\n",
    "           'colts', 'bull', 'older_brother', 'oldest_son', 'stepson', 'blue' ,'manly', 'independent', 'aggressive', 'angry', 'jerk', 'wrestle', 'wrestling'  ]\n",
    "        pos_word_replacement='woman'\n",
    "        neg_word_replacement='man'\n",
    "    elif trainingset=='gender':\n",
    "        pos_word_list=['womanly', 'my_wife', 'my_mom', 'my_grandmother', 'woman', 'women', 'girl', 'girls', 'her', 'hers', 'herself', 'she', \n",
    "            'lady', 'gal', 'gals', 'madame', 'ladies', 'lady',\n",
    "          'mother', 'mothers', 'mom', 'moms', 'mommy', 'mama', 'ma', 'granddaughter', 'daughter', 'daughters', 'aunt', 'godmother', \n",
    "          'grandma', 'grandmothers', 'grandmother', 'sister', 'sisters', 'aunts', 'stepmother', 'granddaughters', 'niece',\n",
    "          'fiancee', 'ex_girlfriend', 'girlfriends', 'wife', 'wives', 'girlfriend', 'bride', 'brides', 'widow',\n",
    "           'twin_sister', 'younger_sister', 'teenage_girl', 'teenage_girls', 'eldest_daughter','estranged_wife', 'schoolgirl',\n",
    "          'businesswoman', 'congresswoman' , 'chairwoman', 'councilwoman', 'waitress', 'hostess', 'convent', 'heiress', \n",
    "           'saleswoman', 'queen', 'queens', 'princess', 'nun' , 'nuns', 'heroine', 'actress', 'actresses', 'uterus', 'vagina', 'ovarian_cancer',\n",
    "           'maternal', 'maternity', 'motherhood', 'sisterhood', 'girlhood', 'matriarch', 'sorority', \n",
    "         'older_sister', 'oldest_daughter', 'stepdaughter']\n",
    "        neg_word_list=['manly', 'my_husband', 'my_dad','my_grandfather', 'man', 'men', 'boy', 'boys', 'him', 'his', 'himself', 'he', 'guy', 'dude',\n",
    "            'dudes', 'sir', 'guys', 'gentleman','father', 'fathers', 'dad', 'dads', 'daddy', 'papa', 'pa', 'grandson' , 'son', 'sons', 'uncle', 'godfather', \n",
    "           'grandpa', 'grandfathers', 'grandfather', 'brother', 'brothers' , 'uncles', 'stepfather', 'grandsons', 'nephew',\n",
    "           'fiance', 'ex_boyfriend', 'boyfriends', 'husband', 'husbands', 'boyfriend', 'groom', 'grooms', 'widower',\n",
    "            'twin_brother', 'younger_brother', 'teenage_boy', 'teenage_boys', 'eldest_son', 'estranged_husband', 'schoolboy',\n",
    "            'businessman', 'congressman', 'chairman', 'councilman', 'waiter', 'host', 'monastery', 'heir', 'salesman', \n",
    "            'king', 'kings', 'prince', 'monk', 'monks', 'hero', 'actor', 'actors', 'prostate', 'penis', 'prostate_cancer', \n",
    "           'paternal', 'paternity', 'fatherhood', 'brotherhood', 'boyhood', 'patriarch', 'fraternity', \n",
    "           'older_brother', 'oldest_son', 'stepson']\n",
    "        pos_word_replacement='woman'\n",
    "        neg_word_replacement='man'\n",
    "    elif trainingset=='moral':\n",
    "        pos_word_list= ['good', 'benevolent', 'nice', 'caring', 'conscientious', 'polite', 'fair', 'virtue', 'respect', 'responsible', \n",
    "            'selfless', 'unselfish', 'sincere', 'truthful', 'wonderful', 'justice', 'innocent', 'innocence',\n",
    "           'complement', 'sympathetic', 'virtue', 'right', 'proud', 'pride','respectful', 'appropriate', 'pleasing', 'pleasant', \n",
    "            'pure', 'decent', 'pleasant', 'compassion' , 'compassionate', 'constructive','graceful', 'gentle', 'reliable',\n",
    "           'careful', 'help', 'decent' , 'moral', 'hero', 'heroic', 'heroism', 'honest', 'honesty',\n",
    "           'selfless', 'humility', 'humble', 'generous', 'generosity', 'faithful', 'fidelity', 'worthy', 'tolerant',\n",
    "            'obedient', 'pious', 'saintly', 'angelic', 'virginal', 'sacred', 'reverent', 'god', 'hero', 'heroic', \n",
    "            'forgiving', 'saintly','holy', 'chastity', 'grateful', 'considerate', 'humane', \n",
    "            'trustworthy', 'loyal', 'loyalty', 'empathetic', 'empathy', 'clean', 'straightforward', 'pure']\n",
    "        neg_word_list= ['bad', 'evil', 'mean', 'uncaring', 'lazy', 'rude', 'unfair', 'sin', 'disrespect','irresponsible', \n",
    "           'self_centered', 'selfish', 'insincere', 'lying', 'horrible', 'injustice', 'guilty', 'guilt', \n",
    "            'insult', 'unsympathetic', 'vice', 'wrong', 'ashamed', 'shame', 'disrespectful', 'inappropriate', 'vulgar', 'crude', \n",
    "            'dirty', 'obscene', 'offensive', 'cruelty','brutal', 'destructive', 'rude', 'harsh', 'unreliable',\n",
    "            'careless', 'harm', 'indecent', 'immoral', 'coward', 'cowardly', 'cowardice', 'dishonest', 'dishonesty',\n",
    "            'narcissistic', 'arrogance', 'arrogant', 'greedy', 'greed', 'betray', 'betrayal', 'unworthy', 'intolerant', \n",
    "             'defiant', 'rebellious', 'demonic','devilish', 'promiscuous', 'profane', 'irreverent', 'devil', 'villain', 'villainous', \n",
    "            'vindictive', 'diabolical', 'unholy', 'promiscuity', 'ungrateful', 'thoughtless', 'inhumane',\n",
    "            'untrustworthy', 'treacherous', 'treachery', 'callous', 'indifference', 'dirty', 'manipulative', 'impure' ]\n",
    "        pos_word_replacement='moral'\n",
    "        neg_word_replacement='immoral'\n",
    "    elif trainingset=='health':\n",
    "        pos_word_list= ['fertile', 'help_prevent', 'considered_safe', 'safer', 'healthy', 'healthy', 'healthy', 'healthy', 'healthy',\n",
    "            'healthful', 'well_balanced', 'natural', 'healthy', 'athletic','physically_active', 'health',\n",
    "            'health', 'nutritious','nourishing', 'stronger', 'strong','wellness', 'safe', 'nutritious_food','exercise',\n",
    "            'physically_fit', 'unprocessed', 'healthier_foods', 'nutritious_foods', 'nutritious', 'nutritious',\n",
    "           'healthy_eating', 'healthy_diet', 'healthy_diet', 'nourishing', 'nourished', 'regular_exercise', 'safety', 'safe', \n",
    "            'helpful', 'beneficial', 'healthy', 'healthy', 'sturdy', 'lower_risk', 'reduced_risk', 'decreased_risk', 'nutritious_foods', 'whole_grains', 'healthier_foods',\n",
    "            'healthier_foods', 'physically_active', 'physical_activity', 'nourished', 'vitality', 'energetic', 'able_bodied',\n",
    "            'resilience', 'strength', 'less_prone', 'sanitary', 'clean',  'healing', 'heal', 'salubrious']   \n",
    "        neg_word_list= ['infertile', 'cause_harm','potentially_harmful','riskier', 'unhealthy', 'sick', 'ill', 'frail', 'sickly', \n",
    "            'unhealthful','unbalanced', 'unnatural', 'dangerous', 'sedentary', 'inactive', 'illness', \n",
    "            'sickness', 'toxic', 'unhealthy', 'weaker', 'weak', 'illness', 'unsafe', 'unhealthy_foods', 'sedentary',\n",
    "            'inactive', 'highly_processed', 'processed_foods', 'junk_foods', 'unhealthy_foods', 'junk_foods',\n",
    "               'processed_foods', 'processed_foods', 'fast_food', 'unhealthy_foods', 'deficient', 'sedentary', 'hazard','hazardous', \n",
    "            'harmful', 'injurious',  'chronically_ill', 'seriously_ill', 'frail', 'higher_risk', 'greater_risk', 'increased_risk', 'fried_foods', 'fried_foods',\n",
    "            'fatty_foods', 'sugary_foods', 'sedentary', 'physical_inactivity', 'malnourished', 'lethargy', 'lethargic', 'disabled',\n",
    "            'susceptibility', 'weakness', 'more_susceptible', 'filthy', 'dirty', 'harming', 'hurt', 'deleterious']\n",
    "        pos_word_replacement='healthy'\n",
    "        neg_word_replacement='ill'\n",
    "    elif trainingset=='ses':\n",
    "        pos_word_list=['wealth', 'wealthier', 'wealthiest', 'affluence', 'prosperity', 'wealthy', 'affluent', 'affluent', 'prosperous',\n",
    "                'prosperous','prosperous','disposable_income',  'wealthy','suburban','luxurious','upscale','upscale', 'luxury', \n",
    "                'richest', 'privileged', 'moneyed', 'privileged', 'privileged', 'educated', 'employed', \n",
    "                'elite', 'upper_income', 'upper_class', 'employment', 'riches', 'millionaire', 'aristocrat', 'college_educated',\n",
    "                'abundant', 'lack', 'luxury', 'profitable', 'profit', 'well_educated', 'elites', 'heir', 'well_heeled', \n",
    "                'white_collar', 'higher_incomes', 'bourgeois', 'fortunate', 'successful','economic_growth', 'prosper', 'suburbanites']\n",
    "        neg_word_list= ['poverty', 'poorer', 'poorest', 'poverty', 'poverty', 'impoverished', 'impoverished',  'needy',  'impoverished',\n",
    "                 'poor', 'needy', 'broke', 'needy', 'slum', 'ghetto', 'slums', 'ghettos', 'poor_neighborhoods', \n",
    "                'poorest', 'underserved', 'disadvantaged','marginalized', 'underprivileged', 'uneducated', 'unemployed', \n",
    "                'marginalized', 'low_income', 'underclass','unemployment', 'rags', 'homeless', 'peasant', 'college_dropout', \n",
    "                'lacking', 'abundance', 'squalor', 'bankrupt', 'debt', 'illiterate' ,'underclass', 'orphan',  'destitute', \n",
    "                'blue_collar', 'low_income', 'neediest', 'less_fortunate', 'unsuccessful', 'economic_crisis', 'low_wage', 'homeless']\n",
    "        pos_word_replacement='wealthy'\n",
    "        neg_word_replacement='poor'\n",
    "    pos_words=[]\n",
    "    neg_words=[]\n",
    "    pos_word_list_checked=[]\n",
    "    neg_word_list_checked=[]\n",
    "    for i in pos_word_list:\n",
    "        try:\n",
    "            pos_words.append(currentmodel[i])\n",
    "            pos_word_list_checked.append(i)\n",
    "        except KeyError:\n",
    "            print(str(i) +  ' was not in this Word2Vec models vocab, and has been replaced with: ' + str(pos_word_replacement) )\n",
    "            pos_words.append(currentmodel[pos_word_replacement])\n",
    "            pos_word_list_checked.append(pos_word_replacement)\n",
    "    for i in neg_word_list:\n",
    "        try:\n",
    "            neg_words.append(currentmodel[i])\n",
    "            neg_word_list_checked.append(i)\n",
    "        except KeyError:\n",
    "            print(str(i) +  ' was not in this Word2Vec models vocab, and has been replaced with: ' + str(neg_word_replacement) )\n",
    "            neg_words.append(currentmodel[neg_word_replacement])\n",
    "            neg_word_list_checked.append(neg_word_replacement)\n",
    "\n",
    "    print(\"Number of pos words: \" + str(len(pos_words)) + \" Number of neg words: \" + str(len(neg_words)))\n",
    "    train_classes_pos=np.array(np.repeat(1, len(pos_words)).tolist()) #1 is feminine/moral/healthy/rich by default, we will need to find the correct labels inductively\n",
    "    train_classes_neg=np.array(np.repeat(0, len(neg_words)).tolist()) #0 is masculine/immoral/unhealthy/poor by default, we will need to find the correct labels inductively\n",
    "    \n",
    "    pos_words=np.asarray(pos_words)\n",
    "    neg_words= np.asarray(neg_words)\n",
    "    return(pos_word_list_checked, neg_word_list_checked, pos_words, neg_words, train_classes_pos, train_classes_neg)"
   ]
  },
  {
   "cell_type": "markdown",
   "metadata": {},
   "source": [
    "A few helper functions for later"
   ]
  },
  {
   "cell_type": "code",
   "execution_count": 71,
   "metadata": {
    "collapsed": true
   },
   "outputs": [],
   "source": [
    "def normalizeME(vec):\n",
    "    b= vec.reshape(-1,1)\n",
    "    c=b/np.linalg.norm(b, ord=2) \n",
    "    #print np.linalg.norm(1)\n",
    "    return c\n",
    "    \n",
    "def project(A,B): #projection of A onto B\n",
    "    numerator= A.dot(B) #should be a scalar\n",
    "    denominator= np.linalg.norm(B,1) #should be another scalar\n",
    "    scalarproject = numerator / denominator #divide numerator by denominator, this gives you the scalar projection (LENGTH aka MAGNITUDE) of b onto a\n",
    "    return scalarproject\n",
    "    #if want to get the vector projection (i.e. magnutide and DIRECTION),  result 1 (MAGNITUDE) by vector a, and divded by (norm of A)^2"
   ]
  },
  {
   "cell_type": "markdown",
   "metadata": {},
   "source": [
    "### A function to do Principal Component Analysis (PCA), slightly modified to integrate into the rest of code\n",
    "\n",
    "Note this function returns a \"direction\" as well as the eigenvalues found in PCA that can tell you how much signal for this direction there is in the data. \n",
    "\n",
    "For some help walking through PCA, see:\n",
    "* http://sebastianraschka.com/Articles/2014_pca_step_by_step.html#sections\n",
    "* http://sebastianraschka.com/Articles/2015_pca_in_3_steps.html\n",
    "    \n",
    "By default, this code finds a single direction (vector) to represent a \"dimension.\" To modify for other types of subspaces, consider projecting onto first N principal components rather than only the first principal component. "
   ]
  },
  {
   "cell_type": "code",
   "execution_count": 72,
   "metadata": {},
   "outputs": [],
   "source": [
    "def PCA_get_directionVec_unipolar(words, currentmodel, train_index_list=None):\n",
    "    if train_index_list is not None:\n",
    "        Ndiff=len(words[train_index_list])\n",
    "        biggie2= np.reshape(words[train_index_list], (Ndiff,len(currentmodel['word']))) #now a Ndiff by #dimensions, menasured by len(currentmodel['word']), matrix, can check with print(biggie2.shape)\n",
    "    else:\n",
    "        Ndiff= len(words) \n",
    "        biggie2= np.reshape(words, (Ndiff,len(currentmodel['word']))) #now a Ndiff by #dimensions, menasured by len(currentmodel['word']), matrix, can check with print(biggie2.shape)\n",
    "    biggie2= preprocessing.normalize(biggie2, norm='l2')\n",
    "    #print(np.linalg.norm(biggie2[0], ord=2)) #a check to make sure vector is normalized in case this was not done in pre-processing of word-vectors, should be length of 1 \n",
    "\n",
    "    covmat0= [] #this will be used to make the covariance matrix, cov_mat\n",
    "    for i in range(0,Ndiff):\n",
    "        covmat0.append(biggie2[i,:])\n",
    "    cov_mat= np.cov(covmat0) #covariance matrix \n",
    "    assert cov_mat.shape == (Ndiff, Ndiff) #a check for dimensions, should be Ndiff by Ndiff. Note we are trying to find one gender direction ammong the 85 noisy directions, that is why doing PCA this way.\n",
    "    eig_val_cov, eig_vec_cov = np.linalg.eig(cov_mat) #get eigenvalues and eigenvectors of covariance matrix\n",
    "\n",
    "    #for i in range(len(eig_val_cov)):\n",
    "        #eigvec_cov = eig_vec_cov[:,i].reshape(1,Ndiff).T\n",
    "        #print('Eigenvector {}: \\n{}'.format(i+1 eigvec_cov)) #print out eigenvectors\n",
    "        #print('Eigenvalue {} from covariance matrix: {}'.format(i+1, eig_val_cov[i])) #print out eigenvalues\n",
    "    eig_pairs = [[np.abs(eig_val_cov[i]), eig_vec_cov[:,i]] for i in range(len(eig_val_cov))] # Make a list of (eigenvalue, eigenvector) tuples\n",
    "    eig_pairs.sort(key=lambda x: x[0], reverse=True) # Sort the list (eigenvalue, eigenvector) from high to low\n",
    "    ordered_eig_values=[] \n",
    "    for i in eig_pairs:\n",
    "        ordered_eig_values.append(i[0])\n",
    "    \n",
    "    #To Visually confirm that the list is correctly sorted by decreasing eigenvalues:\n",
    "    #for i in eig_pairs:\n",
    "        #print(i[0])\n",
    "    matrix_w = eig_pairs[0][1].reshape(Ndiff,1) #this vector represents a \"direction\" of pos-neg words\n",
    "    direction = matrix_w.T.dot(biggie2)  #multiply transpose of this e-vect (principal component) by whole dataset of genderdiffs to get a \"gender\" direction. for projection inner dimensions must match for dot product\n",
    "    assert direction.shape == (1,len(currentmodel['word'])) #a dimension check to make sure this direction is the same dimensions as a word-vector in the model\n",
    "    extracteddirectionVec= np.hstack(normalizeME(direction)) \n",
    "    \n",
    "    return(extracteddirectionVec, ordered_eig_values)"
   ]
  },
  {
   "cell_type": "code",
   "execution_count": 6,
   "metadata": {
    "collapsed": true
   },
   "outputs": [],
   "source": [
    "def PCA_get_directionVec_differences(pos_words_, neg_words_, currentmodel, train_index_list=None):\n",
    "    return(PCA_get_directionVec_unipolar(pos_words_, currentmodel, train_index_list)[0]- PCA_get_directionVec_unipolar(neg_words_, currentmodel, train_index_list)[0])    "
   ]
  },
  {
   "cell_type": "markdown",
   "metadata": {},
   "source": [
    "#### *At this point, you can go through Part 1 to try cross validation on training words, or skip right to Part 2 to just get accuracy measure for the training and testing and results for obesity words.*"
   ]
  },
  {
   "cell_type": "markdown",
   "metadata": {},
   "source": [
    "# Part 1: Cross validation on training words to select training words, and see how sensitive methods are to word selection"
   ]
  },
  {
   "cell_type": "markdown",
   "metadata": {},
   "source": [
    "#### Select the dimension you are interested in (gender, moral, health, or ses)"
   ]
  },
  {
   "cell_type": "code",
   "execution_count": 90,
   "metadata": {},
   "outputs": [
    {
     "name": "stdout",
     "output_type": "stream",
     "text": [
      "Number of pos words: 85 Number of neg words: 85\n"
     ]
    }
   ],
   "source": [
    "pos_word_list, neg_word_list, pos_words, neg_words, train_classes_pos, train_classes_neg = select_training_set('gender')"
   ]
  },
  {
   "cell_type": "markdown",
   "metadata": {},
   "source": [
    "#### Do cross validation"
   ]
  },
  {
   "cell_type": "code",
   "execution_count": 74,
   "metadata": {},
   "outputs": [],
   "source": [
    "kf= KFold(n_splits=len(pos_words), shuffle=True) \n",
    "#n_splits written here is leave-one-wordpair-out cross validation, which is the maximum for n_splits. Try various quantities of n_splits. \n",
    "#Note that this cross-validaton is by word-pair, so if we leave out one word-pair from the direction extraction process, \n",
    "#we leave out two words on which to \"test,\" giving two test predictions.\n",
    "\n",
    "testacc=[]\n",
    "trainacc=[]\n",
    "\n",
    "for train_index, test_index in kf.split(pos_words): #only need the indices on pos words or neg words, then will be the same indices to use for both    \n",
    "    directionVec= PCA_get_directionVec_differences(pos_words, neg_words, currentmodel, train_index_list=train_index)\n",
    "    \n",
    "    #In a given model, we don't initially know the \"direction\" of a dimensions. In other words, we don't know whether a positive projection will be feminine or masculine. So, inductively find the correct labels 1/0. \n",
    "    #Consider this assumption that embedded in the code carefully when interpreting accuracy rates  \n",
    "    pos_class=[] \n",
    "    for word in range(0, len(train_classes_pos[train_index])): #for word in this set of training words\n",
    "        wordToProject=np.hstack(normalizeME(pos_words[train_index][word]))\n",
    "        proj=project(wordToProject, directionVec)\n",
    "        if proj > 0:\n",
    "            pos_class.append(1) #evidence from this training word that the \"positive words\" are learned as positive\n",
    "        elif proj < 0:\n",
    "            pos_class.append(0) #evidence from this training word that the \"positive words\" are learned as negative\n",
    "    \n",
    "    #Now get predictions on the \"training\" set of the fold\n",
    "    predictions_train=[]\n",
    "    combinedposnegtrain= np.concatenate([pos_words[train_index] ,neg_words[train_index]], axis=0)\n",
    "    if statistics.mode(pos_class)==1: #if the positive class is mostly 1, keep labels as is. Note that if the positive class is split exactly 50/50 this won't work, but also then accuracy is equal to flip of coin.    \n",
    "        for word in range(0, len(combinedposnegtrain)):\n",
    "            wordToProject=np.hstack(normalizeME(combinedposnegtrain[word]))\n",
    "            proj=project(wordToProject, directionVec)\n",
    "            if proj > 0:\n",
    "                predictions_train.append(1)\n",
    "            elif proj<0:\n",
    "                predictions_train.append(0)\n",
    "        classes_train= np.concatenate([train_classes_pos[train_index] , train_classes_neg[train_index]], axis=0)\n",
    "    elif statistics.mode(pos_class)==0: #if the positive class is mostly -1, reverse labels\n",
    "        for word in range(0, len(combinedposnegtrain)):\n",
    "            wordToProject=np.hstack(normalizeME(combinedposnegtrain[word]))\n",
    "            proj=project(wordToProject, directionVec)\n",
    "            if proj > 0:\n",
    "                predictions_train.append(0)\n",
    "            elif proj<0:\n",
    "                predictions_train.append(1)\n",
    "        classes_train= np.concatenate([train_classes_pos[train_index] , train_classes_neg[train_index]], axis=0)\n",
    "    else:\n",
    "        print(\"No clear label\")\n",
    "    \n",
    "    #Now get predictions on the \"testing\" set of the fold\n",
    "    predictions_test=[]\n",
    "    combinedposnegtest= np.concatenate([pos_words[test_index] ,neg_words[test_index]], axis=0)\n",
    "    if statistics.mode(pos_class)==1:\n",
    "        for word in range(0, len(combinedposnegtest)):\n",
    "            wordToProject=np.hstack(normalizeME(combinedposnegtest[word]))\n",
    "            proj=project(wordToProject, directionVec)\n",
    "            if proj > 0:\n",
    "                predictions_test.append(1)\n",
    "            elif proj< 0:\n",
    "                predictions_test.append(0)\n",
    "        classes_test= np.concatenate([train_classes_pos[test_index], train_classes_neg[test_index]], axis=0)\n",
    "    elif statistics.mode(pos_class)==0:\n",
    "        for word in range(0, len(combinedposnegtest)):\n",
    "            wordToProject=np.hstack(normalizeME(combinedposnegtest[word]))\n",
    "            proj=project(wordToProject, directionVec)\n",
    "            if proj > 0:\n",
    "                predictions_test.append(0)\n",
    "            elif proj< 0:\n",
    "                predictions_test.append(1)\n",
    "        classes_test= np.concatenate([train_classes_pos[test_index], train_classes_neg[test_index]], axis=0)\n",
    "    else:\n",
    "        print(\"No clear label\")\n",
    "    trainacc.append(accuracy_score(classes_train, predictions_train))\n",
    "    testacc.append(accuracy_score(classes_test, predictions_test))"
   ]
  },
  {
   "cell_type": "code",
   "execution_count": 75,
   "metadata": {},
   "outputs": [
    {
     "name": "stdout",
     "output_type": "stream",
     "text": [
      "[0.5, 0.5, 0.5, 0.5, 0.5, 0.5, 0.5, 0.5, 0.5, 0.5, 0.5, 0.93670886075949367, 0.5, 0.5, 0.95569620253164556, 0.5, 0.94303797468354433, 0.5, 0.5, 0.94303797468354433, 0.5, 0.5, 0.5, 0.5, 0.5, 0.5, 0.5, 0.5, 0.5, 0.95569620253164556, 0.5, 0.5, 0.5, 0.5, 0.5, 0.5, 0.94303797468354433, 0.5, 0.5, 0.5, 0.5, 0.5, 0.5, 0.5, 0.5, 0.5, 0.5, 0.5, 0.5, 0.5, 0.5, 0.5, 0.5, 0.5, 0.5, 0.5, 0.5, 0.5, 0.5, 0.5, 0.5, 0.5, 0.5, 0.5, 0.5, 0.5, 0.5, 0.5, 0.5, 0.5, 0.5, 0.5, 0.5, 0.5, 0.5, 0.5, 0.5, 0.5, 0.5, 0.5] [0.5, 0.5, 0.5, 0.5, 0.5, 0.5, 0.5, 0.5, 0.5, 0.5, 0.5, 1.0, 0.5, 0.5, 1.0, 0.5, 1.0, 0.5, 0.5, 1.0, 0.5, 0.5, 0.5, 0.5, 0.5, 0.5, 0.5, 0.5, 0.5, 1.0, 0.5, 0.5, 0.5, 0.5, 0.5, 0.5, 1.0, 0.5, 0.5, 0.5, 0.5, 0.5, 0.5, 0.5, 0.5, 0.5, 0.5, 0.5, 0.5, 0.5, 0.5, 0.5, 0.5, 0.5, 0.5, 0.5, 0.5, 0.5, 0.5, 0.5, 0.5, 0.5, 0.5, 0.5, 0.5, 0.5, 0.5, 0.5, 0.5, 0.5, 0.5, 0.5, 0.5, 0.5, 0.5, 0.5, 0.5, 0.5, 0.5, 0.5]\n"
     ]
    }
   ],
   "source": [
    "print(trainacc, testacc)"
   ]
  },
  {
   "cell_type": "code",
   "execution_count": 76,
   "metadata": {
    "scrolled": true
   },
   "outputs": [
    {
     "name": "stdout",
     "output_type": "stream",
     "text": [
      "0.533465189873 0.11828345666041462 0.5375 0.1325265676732047\n"
     ]
    }
   ],
   "source": [
    "print(statistics.mean(trainacc),statistics.stdev(trainacc), statistics.mean(testacc), statistics.stdev(testacc))"
   ]
  },
  {
   "cell_type": "markdown",
   "metadata": {},
   "source": [
    "# Part 2. Now that we've tested robustness to word selection, here are a few more quality checks\n",
    "\n",
    "### First, let's double check quality of the direction vector by plotting the eigenvalues\n",
    "If there is indeed a specific \"direction\" amongst the many, noisey, difference vectors (such as the difference between the word-pair 'man' and 'woman', and between 'uncle' and 'aunt'), we should see that the eigenvalue of first componenent (the \"direction\") is by far larger than remaining components"
   ]
  },
  {
   "cell_type": "code",
   "execution_count": 61,
   "metadata": {
    "scrolled": true
   },
   "outputs": [],
   "source": [
    "def eig_plot(subspace, pos=True, save=False):\n",
    "    pos_word_list, neg_word_list, pos_words, neg_words, train_classes_pos, train_classes_neg = select_training_set(subspace)\n",
    "    if pos==True:\n",
    "        eigvalues= PCA_get_directionVec_unipolar(pos_words, currentmodel)[1]\n",
    "        PC_list0= range(1,len(pos_words)+1)\n",
    "    elif pos==False:\n",
    "        eigvalues= PCA_get_directionVec_unipolar(neg_words, currentmodel)[1]\n",
    "        PC_list0= range(1,len(neg_words)+1)\n",
    "    PC_list= np.arange(len(eigvalues))\n",
    "    plt.bar( PC_list, eigvalues, align='center')\n",
    "    plt.title(str(\"Principal components of \"+ subspace +  \" differences matrix\"))\n",
    "    #plt.xticks(PC_list, PC_list0 ) #if few PCs and want to label these, add in this in\n",
    "\n",
    "    #TURN OFF X AXIS TICKS\n",
    "    plt.tick_params( \n",
    "        axis='x',          # changes apply to the x-axis\n",
    "        which='both',      # both major and minor ticks are affected\n",
    "        bottom='off',      # ticks along the bottom edge are off\n",
    "        top='off',         # ticks along the top edge are off\n",
    "        labelbottom='off') # labels along the bottom edge are off\n",
    "    plt.xlabel(\"Principal Component\")\n",
    "    plt.ylabel(\"Eigenvalue\")\n",
    "    if save==True:\n",
    "        plt.savefig('PCs_Model.png') #to save a plot as an image\n",
    "    plt.show()"
   ]
  },
  {
   "cell_type": "code",
   "execution_count": 64,
   "metadata": {},
   "outputs": [
    {
     "name": "stdout",
     "output_type": "stream",
     "text": [
      "Number of pos words: 85 Number of neg words: 85\n"
     ]
    },
    {
     "data": {
      "image/png": "[encoded data removed]",
      "text/plain": [
       "<matplotlib.figure.Figure at 0x1ba9f406e48>"
      ]
     },
     "metadata": {},
     "output_type": "display_data"
    },
    {
     "name": "stdout",
     "output_type": "stream",
     "text": [
      "Number of pos words: 85 Number of neg words: 85\n"
     ]
    },
    {
     "data": {
      "image/png": "[encoded data removed]",
      "text/plain": [
       "<matplotlib.figure.Figure at 0x1ba9de249b0>"
      ]
     },
     "metadata": {},
     "output_type": "display_data"
    }
   ],
   "source": [
    "eig_plot('gender', pos=True,)\n",
    "eig_plot('gender', pos=False)"
   ]
  },
  {
   "cell_type": "markdown",
   "metadata": {},
   "source": [
    "### Second, let's look to see if these directions are unique. Perhaps they are all just capturing sentiment (good vs bad)?"
   ]
  },
  {
   "cell_type": "code",
   "execution_count": 19,
   "metadata": {},
   "outputs": [
    {
     "name": "stdout",
     "output_type": "stream",
     "text": [
      "Number of pos words: 85 Number of neg words: 85\n",
      "Number of pos words: 80 Number of neg words: 80\n",
      "Number of pos words: 65 Number of neg words: 65\n",
      "Number of pos words: 50 Number of neg words: 50\n"
     ]
    }
   ],
   "source": [
    "#extract all four direction vectors:\n",
    "pos_word_list, neg_word_list, pos_words, neg_words, train_classes_pos, train_classes_neg = select_training_set('gender')\n",
    "genderdirectionVec= PCA_get_directionVec_differences(pos_words, neg_words, currentmodel, train_index_list=None)\n",
    "   \n",
    "pos_word_list, neg_word_list, pos_words, neg_words, train_classes_pos, train_classes_neg = select_training_set('moral')\n",
    "moraldirectionVec= PCA_get_directionVec_differences(pos_words, neg_words, currentmodel, train_index_list=None)\n",
    "\n",
    "pos_word_list, neg_word_list, pos_words, neg_words, train_classes_pos, train_classes_neg = select_training_set('health')\n",
    "healthdirectionVec= PCA_get_directionVec_differences(pos_words, neg_words, currentmodel, train_index_list=None)\n",
    "\n",
    "pos_word_list, neg_word_list, pos_words, neg_words, train_classes_pos, train_classes_neg = select_training_set('ses')\n",
    "sesdirectionVec= PCA_get_directionVec_differences(pos_words, neg_words, currentmodel, train_index_list=None)"
   ]
  },
  {
   "cell_type": "code",
   "execution_count": 20,
   "metadata": {},
   "outputs": [
    {
     "name": "stdout",
     "output_type": "stream",
     "text": [
      "Cosine Similarity between gender and morality is: (0.0368789629154+0j)\n",
      "Cosine Similarity between gender and health is: (-0.182066491801+0j)\n",
      "Cosine Similarity between gender and ses is: (0.039620759502+0j)\n",
      "Cosine Similarity between morality and health is: (0.241625545069+0j)\n",
      "Cosine Similarity between morality and ses is: (0.0586030793759+0j)\n",
      "Cosine Similarity between health and ses is: (-0.134672204777+0j)\n"
     ]
    }
   ],
   "source": [
    "print(\"Cosine Similarity between gender and morality is: \" + str(1 - spatial.distance.cosine(genderdirectionVec, moraldirectionVec))) #similarity is 1-distance\n",
    "print(\"Cosine Similarity between gender and health is: \" + str(1 - spatial.distance.cosine(genderdirectionVec, healthdirectionVec))) #similarity is 1-distance\n",
    "print(\"Cosine Similarity between gender and ses is: \" + str(1 - spatial.distance.cosine(genderdirectionVec, sesdirectionVec))) #similarity is 1-distance\n",
    "print(\"Cosine Similarity between morality and health is: \" + str(1 - spatial.distance.cosine(moraldirectionVec, healthdirectionVec))) #similarity is 1-distance\n",
    "print(\"Cosine Similarity between morality and ses is: \" + str(1 - spatial.distance.cosine(moraldirectionVec, sesdirectionVec))) #similarity is 1-distance\n",
    "print(\"Cosine Similarity between health and ses is: \" + str(1 - spatial.distance.cosine(healthdirectionVec, sesdirectionVec))) #similarity is 1-distance"
   ]
  },
  {
   "cell_type": "markdown",
   "metadata": {},
   "source": [
    "From Word2Vec models used to develop this code, morality and health are quite similar, though not exactly the same. Gender is not similar to any others, and health, morality, and ses have some similarity. Perhaps another future route to improve these dirctions even more is to find a \"sentiment\" direction, and find the each the vector *rejection* of morality, health, and SES on to sentiment, to \"eliminate\" sentiment. "
   ]
  },
  {
   "cell_type": "code",
   "execution_count": null,
   "metadata": {
    "collapsed": true
   },
   "outputs": [],
   "source": [
    "#np.savetxt(\"sesdirectionVec.csv\", sesdirectionVec, delimiter=\",\") #if you want to save a direction vector you extracted!"
   ]
  },
  {
   "cell_type": "markdown",
   "metadata": {},
   "source": [
    "# Part 3: Let's extract a dimension and then project training, testing, and obesity words onto that direction"
   ]
  },
  {
   "cell_type": "code",
   "execution_count": 21,
   "metadata": {
    "collapsed": true
   },
   "outputs": [],
   "source": [
    "def select_testing_set(testingset):\n",
    "    if testingset=='gender':\n",
    "        test_word_list= ['goddess', 'single_mother', 'girlish', 'feminine', 'young_woman', 'little_girl', 'ladylike', 'my_mother', \n",
    "           'teenage_daughter', 'mistress', 'great_grandmother', 'adopted_daughter', 'femininity', 'motherly', 'matronly', \n",
    "           'showgirl', 'housewife', 'vice_chairwoman', 'co_chairwoman', 'spokeswoman', 'governess', 'divorcee', 'spinster', \n",
    "           'maid', 'countess', 'pregnant_woman', 'landlady', 'seamstress', 'young_girl', 'waif', 'femme_fatale','comedienne',\n",
    "            'boyish', 'masculine',  'lad', 'policeman', 'macho', 'gentlemanly', 'machismo',  'teenage_son', \n",
    "            'beau', 'great_grandfather', 'tough_guy', 'masculinity', 'bad_boy', 'spokesman', 'baron', 'adult_male', 'landlord', 'fireman', 'mailman', 'vice_chairman', \n",
    "           'co_chairman','young_man', 'bearded', 'mustachioed', 'con_man', 'homeless_man', 'gent', 'strongman']\n",
    "        test_classes=np.repeat(1, 31).tolist() #1 is feminine\n",
    "        masc2=np.repeat(0, 29).tolist() #0 is masculine\n",
    "        for i in masc2:\n",
    "            test_classes.append(i) \n",
    "    elif testingset=='moral':\n",
    "        test_word_list= ['great', 'best', 'faith', 'chaste', 'wholesome', 'noble', 'honorable', 'immaculate', 'gracious', \n",
    "           'courteous', 'delightful', 'earnest', 'amiable', 'admirable', 'disciplined', 'patience', 'integrity',\n",
    "            'restraint', 'upstanding', 'diligent', 'dutiful', 'loving', 'righteous','respectable', 'praise', 'devout', 'forthright',\n",
    "            'depraved', 'repulsive', 'repugnant', 'corruption', 'vicious', 'unlawful', 'outrage',  'shameless', 'perverted',\n",
    "            'filthy', 'lewd', 'subversive', 'sinister', 'murderous', 'perverse', \n",
    "           'monstrous', 'homicidal', 'indignant', 'misdemeanor', 'degenerate', 'malevolent', 'illegal','terrorist','terrorism',  \n",
    "             'cheated', 'vengeful', 'culpable','vile', 'hateful', 'abuse', 'abusive', 'criminal', 'deviant']\n",
    "        test_classes=np.repeat(1, 26 ).tolist() #1 is feminine\n",
    "        masc2=np.repeat(0,34).tolist() #0 is masculine\n",
    "        for i in masc2:\n",
    "            test_classes.append(i)\n",
    "    elif testingset=='health':\n",
    "        test_word_list= [ 'balanced_diet', 'healthfulness', 'fiber', 'jogging', 'stopping_smoking', 'vigor', \n",
    "          'active', 'fit', 'flourishing', 'sustaining', 'hygienic', 'hearty', 'enduring', 'energized', 'wholesome', \n",
    "           'holistic', 'healed', 'fitter', 'health_conscious', 'more_nutritious', 'live_longer',  'exercising_regularly',\n",
    "           'healthier_choices', 'healthy_habits', 'healthy_lifestyle', 'healthful_eating', 'immune', \n",
    "            'deadly', 'diseased',  'adverse', 'risky', 'fatal', 'filthy', 'epidemic', 'crippling', 'carcinogenic', 'carcinogen',\n",
    "           'crippled', 'afflicted', 'contaminated', 'fatigued', 'detrimental', 'bedridden', 'incurable', 'hospitalized',\n",
    "           'infected', 'ailing', 'debilitated', 'poisons', 'disabling', 'life_threatening', 'debilitating', \n",
    "           'chronic_illness', 'artery_clogging', 'hypertension','disease', 'stroke',\n",
    "            'plague', 'fatty', 'smoking']\n",
    "        test_classes=np.repeat(1, 26).tolist() #1 is feminine\n",
    "        masc2=np.repeat(0, 34 ).tolist() #0 is masculine\n",
    "        for i in masc2:\n",
    "            test_classes.append(i) \n",
    "    elif testingset=='ses':\n",
    "        test_word_list= ['rich', 'billionaire', 'banker',  'fortune', 'heiress', 'cosmopolitan', 'ornate', 'entrepreneur', 'sophisticated',\n",
    "                'aristocratic', 'investor', 'highly_educated', 'better_educated',  'splendor', \n",
    "               'businessman', 'opulent', 'multimillionaire', 'philanthropist', 'estate', 'estates', 'chateau', 'fortunes', \n",
    "               'financier', 'young_professionals','tycoon', 'baron', 'grandeur', 'magnate', \n",
    "               'investment_banker', 'venture_capitalist', 'upwardly_mobile', 'highly_skilled', 'yuppies', 'genteel',\n",
    "                         'homelessness', 'ruin', 'ruined', 'downtrodden', 'less_affluent',\n",
    "                'housing_project', 'homeless_shelters', 'indigent', 'jobless', 'welfare',  \n",
    "                'temporary_shelters','housing_projects', 'subsidized_housing', 'starving', 'beggars', 'orphanages',\n",
    "                'dispossessed', 'uninsured', 'welfare_recipients', 'food_stamps', \n",
    "                'malnutrition',  'underemployed', 'disenfranchised', 'servants', 'displaced', 'poor_families'] \n",
    "        test_classes=np.repeat(1, 33).tolist()#1 is feminine\n",
    "        masc2=np.repeat(0, 27).tolist() #0 is masculine\n",
    "        for i in masc2:\n",
    "            test_classes.append(i) \n",
    "    elif testingset=='gender_stereotypes':\n",
    "        test_word_list=['petite', 'cooking', 'graceful',  'housework', 'soft', 'whisper', 'flirtatious', 'accepting', 'blonde', 'blond', 'doll', 'dolls','nurse',  'estrogen', 'lipstick','pregnant', 'nanny', 'pink', \n",
    "                 'sewing', 'modeling', 'dainty', 'gentle', 'children','pregnancy', 'nurturing', 'depressed', 'nice', 'emotional','depression', 'home', 'kitchen', 'quiet', 'submissive',\n",
    "                   'soldier', 'army', 'drafted', 'military',   'beard', 'mustache', 'genius', 'engineering', 'math', \n",
    "                  'brilliant', 'strong', 'strength',  'politician', 'programmer','doctor', 'sexual', 'aggressive', \n",
    "                    'testosterone', 'tall', 'competitive', 'big', 'powerful', 'mean', 'sports', 'fighting', 'confident', 'rough', 'loud', 'worldly',\n",
    "                   'experienced', 'insensitive', 'ambitious', 'dominant']\n",
    "        test_classes=np.repeat(1, 33 ).tolist() #1 is feminine\n",
    "        masc2=np.repeat(0,33).tolist() #0 is masculine\n",
    "        for i in masc2:\n",
    "            test_classes.append(i) \n",
    "    else:\n",
    "        print('choose a testing set: gender, moral, health, ses, or gender_stereotypes')\n",
    "        \n",
    "    test_words=[]\n",
    "    test_word_list_checked=[]\n",
    "    for i in test_word_list:\n",
    "        try:\n",
    "            test_words.append(currentmodel[i])\n",
    "            test_word_list_checked.append(i)\n",
    "        except KeyError:\n",
    "            print(str(i) +  ' was not in this Word2Vec models vocab, and has been removed as a test word')\n",
    "            index_missing= test_word_list.index(i)\n",
    "            del(test_classes[index_missing])\n",
    "            #test_words.append(currentmodel[test_word_replacement])\n",
    "            #test_word_list_checked.append(test_word_replacement)\n",
    "            #get index of word, and remove this from classes, and do not append to list of vectors and word-list\n",
    "\n",
    "    test_words= np.asarray(test_words)\n",
    "    print(\"Number of test words: \" + str(len(test_words)))\n",
    "    \n",
    "    return(test_word_list_checked, test_words, test_classes)"
   ]
  },
  {
   "cell_type": "markdown",
   "metadata": {},
   "source": [
    "#### Do Projections"
   ]
  },
  {
   "cell_type": "code",
   "execution_count": 30,
   "metadata": {
    "collapsed": true
   },
   "outputs": [],
   "source": [
    "def do_projections(subspace, new_word_list):\n",
    "    pos_word_list, neg_word_list, pos_words, neg_words, train_classes_pos, train_classes_neg = select_training_set(subspace)\n",
    "    test_word_list,test_words, test_classes = select_testing_set(subspace)\n",
    "    directionVec= PCA_get_directionVec_differences(pos_words, neg_words, currentmodel, train_index_list=None)\n",
    "    \n",
    "    #In a given model, we don't initially know the \"direction\" of a dimensions. In other words, we don't know whether a positive projection will be feminine or masculine. So, inductively find the correct labels 1/0. \n",
    "    #Consider this assumption that embedded in the code carefully when interpreting accuracy rates  \n",
    "    pos_class=[] \n",
    "    for word in range(0, len(train_classes_pos)): #for word in this set of training words\n",
    "        wordToProject=np.hstack(normalizeME(pos_words[word]))\n",
    "        proj=project(wordToProject, directionVec)\n",
    "        if proj > 0:\n",
    "            pos_class.append(1) #evidence from this training word that the \"positive words\" are learned as positive\n",
    "        elif proj < 0:\n",
    "            pos_class.append(0) #evidence from this training word that the \"positive words\" are learned as negative\n",
    "    \n",
    "    #Now get predictions on the training set\n",
    "    predictions_train=[]\n",
    "    projections_train=[]\n",
    "    combinedposnegtrain= np.concatenate([pos_words, neg_words], axis=0)\n",
    "    train_classes=np.concatenate([train_classes_pos, train_classes_neg], axis=0) \n",
    "    if statistics.mode(pos_class)==1: #if the positive class is mostly 1, keep labels as is. Note that if the positive class is split exactly 50/50 this won't work, but also then accuracy is equal to flip of coin.    \n",
    "        for word in range(0, len(combinedposnegtrain)):\n",
    "            wordToProject=np.hstack(normalizeME(combinedposnegtrain[word]))\n",
    "            proj=project(wordToProject, directionVec)\n",
    "            projections_train.append(proj)\n",
    "            if proj > 0:\n",
    "                predictions_train.append(1)\n",
    "            elif proj<0:\n",
    "                predictions_train.append(0)\n",
    "    elif statistics.mode(pos_class)==0: #if the positive class is mostly -1, reverse labels\n",
    "        for word in range(0, len(combinedposnegtrain)):\n",
    "            wordToProject=np.hstack(normalizeME(combinedposnegtrain[word]))\n",
    "            proj=project(wordToProject, directionVec)\n",
    "            projections_train.append(-(proj))\n",
    "            if proj > 0:\n",
    "                predictions_train.append(0)\n",
    "            elif proj<0:\n",
    "                predictions_train.append(1)\n",
    "    else:\n",
    "        print(\"No clear label\")\n",
    "\n",
    "    \n",
    "    #Now get predictions on the testing set\n",
    "    predictions_test=[]\n",
    "    projections_test=[]\n",
    "    if statistics.mode(pos_class)==1:\n",
    "        for word in range(0, len(test_words)):\n",
    "            wordToProject=np.hstack(normalizeME(test_words[word]))\n",
    "            proj=project(wordToProject, directionVec)\n",
    "            projections_test.append(proj)\n",
    "            if proj > 0:\n",
    "                predictions_test.append(1)\n",
    "            elif proj< 0:\n",
    "                predictions_test.append(0)\n",
    "    elif statistics.mode(pos_class)==0:\n",
    "        for word in range(0, len(test_words)):\n",
    "            wordToProject=np.hstack(normalizeME(test_words[word]))\n",
    "            proj=project(wordToProject, directionVec)\n",
    "            projections_test.append(-(proj))\n",
    "            if proj > 0:\n",
    "                predictions_test.append(0)\n",
    "            elif proj< 0:\n",
    "                predictions_test.append(1)\n",
    "    else:\n",
    "        print(\"No clear label\")\n",
    "\n",
    "    trainacc=accuracy_score(train_classes, predictions_train)\n",
    "    testacc=accuracy_score(test_classes, predictions_test)\n",
    "    trainacc_N=accuracy_score(train_classes, predictions_train, normalize=False)\n",
    "    testacc_N=accuracy_score(test_classes, predictions_test, normalize=False)\n",
    "    #print('Percent- Training accuracy: '+  str(trainacc))\n",
    "    #print('Number- Training accuracy: ' + str(trainacc_N))\n",
    "    print('Percent- Training accuracy: '+  str(trainacc) + \" Testing accuracy: \" + str(testacc))\n",
    "    print('Number- Training accuracy: ' + str(trainacc_N) + \" Testing accuracy: \" + str(testacc_N))\n",
    "    \n",
    "    predictions_new_word_list=[]\n",
    "    projections_new_word_list=[]\n",
    "    if new_word_list is not None:\n",
    "        if statistics.mode(pos_class)==1:\n",
    "            for word in range(0, len(new_word_list)):\n",
    "                wordToProject=np.hstack(normalizeME(currentmodel[new_word_list[word]]))\n",
    "                proj=project(wordToProject, directionVec)\n",
    "                projections_new_word_list.append(proj)\n",
    "                if proj > 0:\n",
    "                    predictions_new_word_list.append(1)\n",
    "                elif proj< 0:\n",
    "                    predictions_new_word_list.append(0)\n",
    "        elif statistics.mode(pos_class)==0:\n",
    "            for word in range(0, len(new_word_list)):\n",
    "                wordToProject=np.hstack(normalizeME(currentmodel[new_word_list[word]]))\n",
    "                proj=project(wordToProject, directionVec)\n",
    "                projections_new_word_list.append(-(proj))\n",
    "                if proj > 0:\n",
    "                    predictions_new_word_list.append(0)\n",
    "                elif proj< 0:\n",
    "                    predictions_new_word_list.append(1)\n",
    "        else:\n",
    "            print(\"No clear label\")\n",
    "    \n",
    "    return(np.concatenate([pos_word_list, neg_word_list], axis=0), predictions_train, projections_train, train_classes, test_word_list, predictions_test, projections_test, test_classes, predictions_new_word_list,  projections_new_word_list)"
   ]
  },
  {
   "cell_type": "markdown",
   "metadata": {},
   "source": [
    "#### do_projections wraps up a lot of the previous functions we've been using and returns projections and other data you'll want! Let's use it:"
   ]
  },
  {
   "cell_type": "code",
   "execution_count": 39,
   "metadata": {},
   "outputs": [
    {
     "name": "stdout",
     "output_type": "stream",
     "text": [
      "Number of pos words: 85 Number of neg words: 85\n",
      "Number of test words: 60\n",
      "Percent- Training accuracy: 0.894117647059 Testing accuracy: 0.933333333333\n",
      "Number- Training accuracy: 152 Testing accuracy: 56\n"
     ]
    }
   ],
   "source": [
    "train_word_list, predictions_train, projections_train, train_classes, test_word_list, predictions_test, projections_test, test_classes, predictions_new_word_list, projections_new_word_list = do_projections('gender', None)"
   ]
  },
  {
   "cell_type": "markdown",
   "metadata": {},
   "source": [
    "#### Some Preliminary Visualization\n",
    "*Tip: export all the data with code below to create better plots with GGPlot in R*"
   ]
  },
  {
   "cell_type": "code",
   "execution_count": 17,
   "metadata": {},
   "outputs": [
    {
     "data": {
      "image/png": "[encoded data removed]",
      "text/plain": [
       "<matplotlib.figure.Figure at 0x2220462fda0>"
      ]
     },
     "metadata": {},
     "output_type": "display_data"
    }
   ],
   "source": [
    "import seaborn as sns\n",
    "from pylab import rcParams\n",
    "from pylab import xlim\n",
    "\n",
    "rcParams['figure.figsize'] = 9,9\n",
    "#xlim([-.03, .03])\n",
    "myplot= sns.stripplot(projections_test, test_word_list, test_classes, jitter=True, size=10)\n",
    "plt.axvline(x=0, color='r', linestyle='-')\n",
    "plt.xlabel('Negative projection is masculine/immoral/unhealthy/low ses, positive projection is feminine/moral/healthy/high ses')\n",
    "plt.show()"
   ]
  },
  {
   "cell_type": "markdown",
   "metadata": {},
   "source": [
    "#### Lets see how some stereotypicallly gendered words are classified with this method!\n",
    "Try adding in other gender stereotypes here!"
   ]
  },
  {
   "cell_type": "code",
   "execution_count": 18,
   "metadata": {},
   "outputs": [
    {
     "name": "stdout",
     "output_type": "stream",
     "text": [
      "Number of pos words: 85 Number of neg words: 85\n",
      "Number of test words: 60\n",
      "Percent- Training accuracy: 0.852941176471 Testing accuracy: 0.883333333333\n",
      "Number- Training accuracy: 145 Testing accuracy: 53\n"
     ]
    }
   ],
   "source": [
    "gender_stereotypes=['petite', 'cooking', 'graceful',  'housework', 'soft', 'whisper', 'flirtatious', 'accepting', 'blonde', 'blond', 'doll', 'dolls','nurse',  'estrogen', 'lipstick','pregnant', 'nanny', 'pink', \n",
    "                 'sewing', 'modeling', 'dainty', 'gentle', 'children','pregnancy', 'nurturing', 'depressed', 'nice', 'emotional','depression', 'home', 'kitchen', 'quiet', 'submissive',\n",
    "                   'soldier', 'army', 'drafted', 'military',   'beard', 'mustache', 'genius', 'engineering', 'math', \n",
    "                  'brilliant', 'strong', 'strength',  'politician', 'programmer','doctor', 'sexual', 'aggressive', \n",
    "                    'testosterone', 'tall', 'competitive', 'big', 'powerful', 'mean', 'sports', 'fighting', 'confident', 'rough', 'loud', 'worldly',\n",
    "                   'experienced', 'insensitive', 'ambitious', 'dominant']\n",
    "\n",
    "train_word_list, predictions_train, projections_train, train_classes, test_word_list, predictions_test, projections_test, test_classes, predictions_new_word_list, projections_new_word_list  = do_projections('gender', gender_stereotypes)"
   ]
  },
  {
   "cell_type": "markdown",
   "metadata": {},
   "source": [
    "#### More preliminary visualization\n",
    "*Tip: export all the data with code below to create better plots with GGPlot in R*"
   ]
  },
  {
   "cell_type": "code",
   "execution_count": 20,
   "metadata": {},
   "outputs": [
    {
     "data": {
      "image/png": "[encoded data removed]",
      "text/plain": [
       "<matplotlib.figure.Figure at 0x2221f46e748>"
      ]
     },
     "metadata": {},
     "output_type": "display_data"
    }
   ],
   "source": [
    "rcParams['figure.figsize'] = 9,9\n",
    "xlim([-.03, .03])\n",
    "myplot= sns.stripplot(projections_new_word_list, gender_stereotypes, color= 'blue', jitter=True, size=10)\n",
    "plt.axvline(x=0, color='r', linestyle='-')\n",
    "plt.xlabel('Negative projection is masculine, positive projection is feminine')\n",
    "plt.show()"
   ]
  },
  {
   "cell_type": "markdown",
   "metadata": {},
   "source": [
    "#### Now lets try with obese words:"
   ]
  },
  {
   "cell_type": "code",
   "execution_count": 21,
   "metadata": {},
   "outputs": [
    {
     "name": "stdout",
     "output_type": "stream",
     "text": [
      "Number of pos words: 85 Number of neg words: 85\n",
      "Number of test words: 60\n",
      "Percent- Training accuracy: 0.852941176471 Testing accuracy: 0.883333333333\n",
      "Number- Training accuracy: 145 Testing accuracy: 53\n"
     ]
    }
   ],
   "source": [
    "obese_words= ['obese', 'obesity', 'diabetic', 'diabetes', 'weight', 'overweight', 'thin', 'slender', 'burly',\n",
    "                'muscular', 'diet', 'dieting', 'health', 'healthy', 'unhealthy', 'fat', 'anorexic', 'anorexia', 'bulimia', \n",
    "                'beautiful', 'handsome', 'overeating', 'exercise', 'sedentary', 'bulimic', 'morbidly_obese', 'normal_weight',\n",
    "                'seriously_overweight']\n",
    "\n",
    "train_word_list, predictions_train, projections_train, train_classes, test_word_list, predictions_test, projections_test, test_classes, predictions_new_word_list, projections_new_word_list  = do_projections('gender', obese_words)"
   ]
  },
  {
   "cell_type": "markdown",
   "metadata": {},
   "source": [
    "#### More preliminary visualization\n",
    "*Tip: export all the data with code below to create better plots with GGPlot in R*"
   ]
  },
  {
   "cell_type": "code",
   "execution_count": 22,
   "metadata": {},
   "outputs": [
    {
     "data": {
      "image/png": "[encoded data removed]",
      "text/plain": [
       "<matplotlib.figure.Figure at 0x2221f4739e8>"
      ]
     },
     "metadata": {},
     "output_type": "display_data"
    }
   ],
   "source": [
    "rcParams['figure.figsize'] = 7, 7\n",
    "xlim([-.03, .03])\n",
    "myplot= sns.stripplot(projections_new_word_list, obese_words, color= 'blue', jitter=True, size=10)\n",
    "plt.axvline(x=0, color='r', linestyle='-')\n",
    "plt.xlabel('Negative projection is masculine/immoral/unhealthy/low ses, positive projection is feminine/moral/healthy/high ses')\n",
    "plt.show()"
   ]
  },
  {
   "cell_type": "markdown",
   "metadata": {},
   "source": [
    "#### Write projection for training/testing/obese keywords results to a CSV"
   ]
  },
  {
   "cell_type": "code",
   "execution_count": 44,
   "metadata": {},
   "outputs": [
    {
     "name": "stdout",
     "output_type": "stream",
     "text": [
      "Number of pos words:85 Number of neg words:85\n",
      "Number of test words: 60\n",
      "Percent- Training accuracy: 0.852941176471 Testing accuracy: 0.883333333333\n",
      "Number- Training accuracy: 145 Testing accuracy: 53\n"
     ]
    }
   ],
   "source": [
    "#written here for gender, or specify in \"do_projections\" below for moral, health, or ses\n",
    "train_word_list, predictions_train, projections_train, train_classes, test_word_list, predictions_test, projections_test, test_classes, predictions_new_word_list, projections_new_word_list  = do_projections('gender', obese_words)\n",
    "\n",
    "with open(r'results5.csv', 'a') as f:\n",
    "    writer = csv.writer(f)\n",
    "    writer.writerow(['Gender_Train']*len(train_word_list))  #change the headings as needed for Gender,Moral, Health, SES\n",
    "    writer.writerow(train_word_list)\n",
    "    writer.writerow(train_classes)\n",
    "    writer.writerow(projections_train)\n",
    "    writer.writerow(predictions_train)\n",
    "   \n",
    "    writer.writerow(['Gender_Test']*len(test_word_list)) #change the headings as needed for Gender, Moral, Health, SES\n",
    "    writer.writerow(test_word_list)\n",
    "    writer.writerow(test_classes)\n",
    "    writer.writerow(predictions_test)\n",
    "    writer.writerow(projections_test)\n",
    "    \n",
    "    writer.writerow(['Gender_Obesity']*len(obese_words)) #change the headings as needed for Gender, Moral, Health, SES, and if another set of words other than the obese_words are used here\n",
    "    writer.writerow(obese_words)\n",
    "    writer.writerow(predictions_new_word_list)\n",
    "    writer.writerow(projections_new_word_list)"
   ]
  }
 ],
 "metadata": {
  "kernelspec": {
   "display_name": "Python 3",
   "language": "python",
   "name": "python3"
  },
  "language_info": {
   "codemirror_mode": {
    "name": "ipython",
    "version": 3
   },
   "file_extension": ".py",
   "mimetype": "text/x-python",
   "name": "python",
   "nbconvert_exporter": "python",
   "pygments_lexer": "ipython3",
   "version": "3.6.3"
  }
 },
 "nbformat": 4,
 "nbformat_minor": 1
}
