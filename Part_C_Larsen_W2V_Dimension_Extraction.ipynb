{
 "cells": [
  {
   "cell_type": "markdown",
   "metadata": {},
   "source": [
    "Notebook to accompany paper in preparation by Arseniev-Koehler and Foster. All code last checked on Python 3 in Windows 5/30/2018. Please do not cite or reuse this code yet. This code is still in preparation and may contain errors."
   ]
  },
  {
   "cell_type": "markdown",
   "metadata": {},
   "source": [
    "# More Manly or Womanly? Measure Biases in Word2Vec Models with the Larsen Method\n",
    "\n",
    "This project explores how language in the news is loaded with meanings of gender, morality, healthiness, and socio-economic status (SES). For example, which words are more masculine or feminine? Are certain words loaded with meanings of immorality or morality? \n",
    "\n",
    "In this code, we develop and then train a model to classify words with respect to each of these four dimensions (gender, morality, healthiness, and SES) on a set of training words. Then, we test model performance on a fresh set of testing words. \n",
    "\n",
    "Finally, we look at how language about body weight, such as \"obese\" and \"slender,\"  to see how these words are connoted with gender, morality, health, and social class. You might use this code to look at meanings of langauge in other arenas too - such as occupations, academic disciplines, or food. You might also extend this code to other types of meaning, or to other data sources. \n",
    "\n",
    "This notebook, Part C of our project, uses methods inspired by [Larsen et. al. 2016](https://arxiv.org/abs/1512.09300?context=cs). For two alternate methods to check the robustness of your findings, look at code for [Part B and Part D](https://github.com/arsena-k/Word2Vec-bias-extraction). \n",
    "\n",
    "We start by loading up a trained Word2Vec model on news. We suggest a pre-trained model if you don't have one, or see [Part A](https://github.com/arsena-k/Word2Vec-bias-extraction) of this project for a tutorial on training your own Word2Vec model.  \n"
   ]
  },
  {
   "cell_type": "markdown",
   "metadata": {},
   "source": [
    "**Table of Contents**\n",
    "\n",
    "* Part 1: [Load up libraries and a Word2Vec Model](#LoadUp)\n",
    "* Part 2: [Explanation of Classification Method](#Motivation)\n",
    "* Part 3: [Functions to Extract a Dimension](#HelperFunctions)\n",
    "* Part 4: [Robustness Checks](#Robustness)\n",
    "* Part 5: [Visualize how this Dimension Classifies words according to Gender, Morality, Health, and SES](#Results)\n",
    "\n",
    "*This is a long notebook. For an abbreviated adventure, just do Parts 1-2 to get the ideas and see simple examples in Python,. Or, to just get to visualizing the results, do Parts 2, 4, and 5.*"
   ]
  },
  {
   "cell_type": "markdown",
   "metadata": {},
   "source": [
    "<a id='LoadUp'></a>\n",
    "# Part 1. Load up libraries and a Word2Vec Model"
   ]
  },
  {
   "cell_type": "code",
   "execution_count": 1,
   "metadata": {},
   "outputs": [
    {
     "name": "stderr",
     "output_type": "stream",
     "text": [
      "C:\\Users\\Alina Arseniev\\Anaconda3\\lib\\site-packages\\gensim\\utils.py:860: UserWarning: detected Windows; aliasing chunkize to chunkize_serial\n",
      "  warnings.warn(\"detected Windows; aliasing chunkize to chunkize_serial\")\n"
     ]
    }
   ],
   "source": [
    "#load up (and install if needed) libraries\n",
    "import numpy as np\n",
    "from sklearn.metrics import accuracy_score\n",
    "from sklearn.model_selection import KFold \n",
    "from gensim.models import Word2Vec\n",
    "from sklearn import preprocessing\n",
    "np.set_printoptions(threshold=np.inf) #do this if you want to print full output\n",
    "from sklearn.decomposition import PCA #don't necessarily need\n",
    "import csv\n",
    "import gensim\n",
    "import statistics\n",
    "from random import randint\n",
    "from collections import Counter\n",
    "import matplotlib.pyplot as plt\n",
    "from scipy import spatial\n",
    "import seaborn as sns\n",
    "from pylab import rcParams\n",
    "from pylab import xlim\n",
    "%matplotlib inline"
   ]
  },
  {
   "cell_type": "markdown",
   "metadata": {},
   "source": [
    "**Load up a pretrained Word2Vec Model**\n",
    "\n",
    "*Don't have a model? Use a pretrained Word2Vec Model from Google, trained on Google News*\n",
    "* Download a pre-trained model on GoogleNews, find link to download on this [site](https://code.google.com/archive/p/word2vec/) or direct link to [download here](https://drive.google.com/file/d/0B7XkCwpI5KDYNlNUTTlSS21pQmM/edit?usp=sharing).\n",
    "* Extract the files, and make sure you have the one called \"GoogleNews-vectors-negative300.bin.gz\" in your working directory. Your working directory is the folder where this Jupyter notebook is currently saved. Currently, the code assumes that your downloads folder is your working directory. \n",
    "* Some of the vocabulary words used in this notebook may not exist, since the vocabulary words used in this notebook were selected based on a model trained on the New York Times, however the code will still run fine. "
   ]
  },
  {
   "cell_type": "code",
   "execution_count": null,
   "metadata": {
    "collapsed": true
   },
   "outputs": [],
   "source": [
    "#   An example for a PC computer if your model is in your downloads folder, and you're using the Google model \n",
    "#currentmodel=  KeyedVectors.load_word2vec_format('C:/Users/Alina Arseniev/Downloads/GoogleNews-vectors-negative300.bin.gz', binary=True)\n",
    "\n",
    "#   An example for a Mac if your model is in your downloads folder, and you're using the Google model \n",
    "#currentmodel=  KeyedVectors.load_word2vec_format(\"~/Downloads/GoogleNews-vectors-negative300.bin.gz\", binary=True)\n",
    "\n",
    "#   Example based on my set-up of folders:\n",
    "currentmodel=  KeyedVectors.load_word2vec_format('GoogleNews-vectors-negative300.bin.gz', binary=True)\n"
   ]
  },
  {
   "cell_type": "markdown",
   "metadata": {},
   "source": [
    "*Have your own Word2Vec model? Load it up below.*\n",
    "* If you don't have your own Word2Vec model, but have a large text dataset you want to train a model on, see [Part A](https://github.com/arsena-k/Word2Vec-bias-extraction) of this project for code to train a Word2Vec model.\n",
    "* Some of the vocabulary words used in this notebook may not exist, since the vocabulary words used in this notebook were selected based on a model trained on the New York Times, however the code will still run fine. You might consider curating the words more to your vocabulary, especially if many words are missing in your vocabulary. "
   ]
  },
  {
   "cell_type": "code",
   "execution_count": 2,
   "metadata": {
    "collapsed": true
   },
   "outputs": [],
   "source": [
    "#    An example for a PC computer if your model is in your downloads folder, and you're using a model named \"modelA_ALLYEARS_500dim_10CW\" \n",
    "#currentmodel=  Word2Vec.load(\"C:/Users/Alina Arseniev/Downloads/modelA_ALLYEARS_500dim_10CW\")\n",
    "\n",
    "#   An example for a Mac if your model is in your downloads folder, and you're using a model named \"modelA_ALLYEARS_500dim_10CW\" \n",
    "#currentmodel=  Word2Vec.load(\"~/Downloads/modelA_ALLYEARS_500dim_10CW\")\n",
    "\n",
    "#   Example based on my set-up of folders:\n",
    "currentmodel=  Word2Vec.load(\"Word2VecModels/modelA_ALLYEARS_500dim_10CW\") #load up a trained Word2Vec model. You'll need to tailor this path to your computer"
   ]
  },
  {
   "cell_type": "markdown",
   "metadata": {},
   "source": [
    "<a id='Motivation'></a> \n",
    "# Part 2. Explanation of Classification Method"
   ]
  },
  {
   "cell_type": "markdown",
   "metadata": {},
   "source": [
    "\"Dimension,\" \"direction\" and \"subspace\" are used in this notebook interchangeably to refer to a vector that captures a bipolar concept such as gender which is often portrayed as ranging continuosly from hypermasculine to hyperfeminine, or socioeconomic status (SES) which ranges from poor to rich. \n",
    "\n",
    "This notebook explores how a language model (Word2Vec) **learns words with respect to these dimensions.** Word2Vec models words as numeric vectors, for a review of Word2Vec check out this [blog post](http://mccormickml.com/2016/04/19/word2vec-tutorial-the-skip-gram-model/). We classify a word-vector by first finding the dimension (like gender), and then projecting the word-vector onto the vector representing the dimension. We get a scalar that corresponds to how far the word-vector lies at one end of the diemsnion or anotehr (e.g., how masculine or feminine the word-vector is).\n",
    "* To use gender as an example - a larger, positive projection of a word onto the gender dimension suggests this word is learned as highly feminine, while a larger, negative projection of a word onto the gender dimension suggests that this word is learned as highly masculine. A word with a projection near zero suggests that Word2Vec learned this word as gender-neutral. \n",
    "* Dimensions in this juypter notebook that are ready for extraction are **gender, morality, health,** and **ses**. Code is modifiable to extract other dimensions that may be interesting: you will need to adjust the training/testing words and corresponding labels. \n",
    "* This code is written for use with Word2Vec models, modifiable for other word-vector models as well. \n",
    "\n",
    "For a more detailed motivation, please see Part 1 of the Jupyter Notebook in this Repo titled \"More Manly or Womanly? A Geometric Approach to Biases in Word2Vec Models.\" This notebook accomplishes the same things using a different method to extract a dimension. \n"
   ]
  },
  {
   "cell_type": "markdown",
   "metadata": {},
   "source": [
    "**Want MORE detail on how we can extract dimension (like gender)?**\n",
    "\n",
    "\n",
    "Let's look at gender as an example. To extract a gender dimension, we want to find a direction (vector) that correspond to gender. We'll call this vector $\\overrightarrow{g}$. This vector might be visualized as an axis ranging from negative (masculine) to positive (feminine) with gender-neutral at 0. We can find $\\overrightarrow{g}$ by subtracting a direction representing femininity from a direction representing masculinity (such as $\\overrightarrow{femininity}-\\overrightarrow{masculinity}$). Specifically, if we assume that the meanings of masculinity and femininity are largely equivalent (both human, about adults, nouns, singular, etc.) except for their opposite gender components, then subtraction cancels out all but the gender differences across each component. This gender component is our gender direction ($\\overrightarrow{g}$). \n",
    "\n",
    "This requires finding some direction for femininity and some direction for masculinity. We'll get to that next- for now, assume we have found these two directions.\n",
    "\n",
    "Each vector (direction) in our model is made up of N components, where N is the dimensionality of the vector space. We can write each vector or word-vector in terms of these N components, below. For example, the first component is $\\overrightarrow{X}$, the second component is $\\overrightarrow{Y}$, and the Nth component is $\\overrightarrow{N}$. For brevity, in the math below we refer to the direction for feminity as $\\overrightarrow{f}$ and the direction for masculnity as $\\overrightarrow{m}$.\n",
    "\n",
    "\n",
    "$\\overrightarrow{f} = f_{1}\\overrightarrow{X} + f_{2}\\overrightarrow{Y} + ... + f_{N}\\overrightarrow{N}$\n",
    "and \n",
    "$\\overrightarrow{m} = m_{1}\\overrightarrow{X} + m_{2}\\overrightarrow{Y} + ... + m_{N}\\overrightarrow{N}$\n",
    "\n",
    "\n",
    "We assume that $\\overrightarrow{f} - \\overrightarrow{m}$ = $\\overrightarrow{g}$, where $\\overrightarrow{g}$ is a gender difference vector as described above.\n",
    "\n",
    "\n",
    "$\\overrightarrow{f} - \\overrightarrow{m}$= $(f_{1}\\overrightarrow{X} + f_{2}\\overrightarrow{Y} + ... + f_{N}\\overrightarrow{N}) - ( m_{1}\\overrightarrow{X} + m_{2}\\overrightarrow{Y} + ... + m_{N}\\overrightarrow{N})$\n",
    "\n",
    "\n",
    "These components may be rearranged:\n",
    "\n",
    "$\\overrightarrow{f} - \\overrightarrow{m} = (f_{1}- m_{1})\\overrightarrow{X} + (f_{2}- m_{2})\\overrightarrow{Y} + ... + (f_{N} - m_{N})\\overrightarrow{N}$\n",
    "\n",
    "$\\overrightarrow{f} - \\overrightarrow{m} = g_{1}\\overrightarrow{X} +  g_{2}\\overrightarrow{Y} + ... + g_{N}\\overrightarrow{N}$\n",
    "\n",
    "This leaves us with a N-dimensional vector corresponding to the vector $\\overrightarrow{g}$, corresponding to *differences* between $\\overrightarrow{masculinity}$ and $\\overrightarrow{femininity}$."
   ]
  },
  {
   "cell_type": "markdown",
   "metadata": {},
   "source": [
    "That's great but..how do we find the vectors for femininity and masculinity? Well, we COULD just use some proxies, like the word-vectors for \"woman\" and \"man.\" "
   ]
  },
  {
   "cell_type": "code",
   "execution_count": null,
   "metadata": {
    "collapsed": true
   },
   "outputs": [],
   "source": [
    "gender_direction_trial= currentmodel['woman']-currentmodel['man'] #subtracting the word-vector for man from that for woman\n",
    "print(gender_direction_trial) #this \"direction\" representing gender is just an N-dimensional vector. Not so meaningful to a human!"
   ]
  },
  {
   "cell_type": "markdown",
   "metadata": {},
   "source": [
    "**Now how do we use this gender direction to find how a word-vector is gendered?**\n",
    "We [project](https://en.wikipedia.org/wiki/Vector_projection) the word-vector onto the gender direction! If you're not familiar with projections and want a visual explanation, please see Part 1 of the notebook in this repo titled \"Geometrically_Extract_Dimensions_with_Word2Vec\""
   ]
  },
  {
   "cell_type": "markdown",
   "metadata": {},
   "source": [
    "Let's try this. First, load up a few helper functions:"
   ]
  },
  {
   "cell_type": "code",
   "execution_count": null,
   "metadata": {
    "collapsed": true
   },
   "outputs": [],
   "source": [
    "#here's a forumla to project some vector A onto another vector B:\n",
    "def project(A,B):\n",
    "    numerator= A.dot(B) #should be a scalar\n",
    "    denominator= np.linalg.norm(B,1) #should be another scalar\n",
    "    scalarproject = float(numerator) / denominator #divide numerator by denominator, this gives you the scalar projection (LENGTH aka MAGNITUDE) of b onto a\n",
    "    return scalarproject\n",
    "    #if want to get the vector projection (i.e. magnutide and DIRECTION),  result 1 (MAGNITUDE) by vector a, and divded by (norm of A)^2\n",
    "\n",
    "#here's a formula to make sure our vectors are all the same size \n",
    "def normalizeME(vec):\n",
    "    b= vec.reshape(-1,1)\n",
    "    c=b/np.linalg.norm(b, ord=2) \n",
    "    #print np.linalg.norm(1)\n",
    "    return c"
   ]
  },
  {
   "cell_type": "markdown",
   "metadata": {},
   "source": [
    "Do projections for a few words:"
   ]
  },
  {
   "cell_type": "code",
   "execution_count": null,
   "metadata": {
    "collapsed": true
   },
   "outputs": [],
   "source": [
    "scalarproject_fem_1 = project(currentmodel['queen'],normalizeME(gender_direction_trial)) \n",
    "scalarproject_fem_2 = project(currentmodel['womanly'],normalizeME(gender_direction_trial))\n",
    "scalarproject_masc_1 = project(currentmodel['king'],normalizeME(gender_direction_trial))\n",
    "scalarproject_masc_2 = project(currentmodel['manly'],normalizeME(gender_direction_trial))"
   ]
  },
  {
   "cell_type": "code",
   "execution_count": null,
   "metadata": {
    "collapsed": true
   },
   "outputs": [],
   "source": [
    "print(scalarproject_fem_1, scalarproject_fem_2, scalarproject_masc_1, scalarproject_masc_2) #take a look at the projections"
   ]
  },
  {
   "cell_type": "markdown",
   "metadata": {},
   "source": [
    "If this is working on your trained Word2Vec model, you should see that the feminine words lie on one side of the gender direction, and the masculine words on the other side of the gender direction. In my model, for example, all the feminine words have positive scalar projections and all the masculine words have negative scalar projections. \n",
    "\n",
    "To find dimensions for other concepts, we just use other training words, like healthy-ill to find a \"health\" direction. Try it out by modifying the code above! "
   ]
  },
  {
   "cell_type": "markdown",
   "metadata": {},
   "source": [
    "### More realistically...\n",
    "\n",
    "...this method captures the true gender difference alongside other differences and error. These proxies of \"wooman\" and \"man\" might not be so great, and so this method captures the true gender difference alongside other differences and error. Instead, we can use a variety of words representing femininity, such as she, her, and woman, and then take the *average* of these vectors to get a better proxy for femininity. We can do the same for masculiniity, and then subtract these two averages to get a better measure of our gender direction.\n",
    "\n",
    "The remainder of this notebook does this, using a large set of training words. We look at three directions in this notebook: gender, morality, health, and SES. This notebook also includes steps to evaluate the robustness of the extracted direction on the training words, and on a new, unseen set of testing words. Finally, we project a new set of words (obesity keyword) onto the direction to see the meaning of obesity with respect to gender, morality, health, and SES.\n"
   ]
  },
  {
   "cell_type": "markdown",
   "metadata": {},
   "source": [
    "### Now, let's extract a dimension more robustly\n",
    "\n",
    "<a id='HelperFunctions'></a> \n",
    "\n",
    "# Part 3. Some Helper Functions to Extract a Dimension\n",
    "* We choose a set of word pairs that best represent extremes of the dimennsions you are trying to capture. For example, we use man/woman, he/she, and uncle/aunt, among other word-pairs, to capture a gender dimension. \n",
    "* Words may be used more than once if there is no better antonym. Enter the words from each pair below, in order. \n",
    "* If you're not sure if your word choices are any good, try cross validation across the word possiblities to see how sensitive the process is to word choice. "
   ]
  },
  {
   "cell_type": "markdown",
   "metadata": {},
   "source": [
    "**First, a few helper functions to do a vector projection and normalize our vectors.**"
   ]
  },
  {
   "cell_type": "code",
   "execution_count": 3,
   "metadata": {
    "collapsed": true
   },
   "outputs": [],
   "source": [
    "def normalizeME(vec):\n",
    "    b= vec.reshape(-1,1)\n",
    "    c=b/np.linalg.norm(b, ord=2) \n",
    "    #print np.linalg.norm(1)\n",
    "    return c\n",
    "    \n",
    "def project(A,B): #projection of A onto B\n",
    "    numerator= A.dot(B) #should be a scalar\n",
    "    denominator= np.linalg.norm(B,1) #should be another scalar\n",
    "    scalarproject = numerator / denominator #divide numerator by denominator, this gives you the scalar projection (LENGTH aka MAGNITUDE) of b onto a\n",
    "    return scalarproject\n",
    "    #if want to get the vector projection (i.e. magnutide and DIRECTION),  result 1 (MAGNITUDE) by vector a, and divded by (norm of A)^2"
   ]
  },
  {
   "cell_type": "markdown",
   "metadata": {},
   "source": [
    "**Second, a function to select the dimension and correponding words think represent the two ends of the dimension:**\n",
    "\n",
    "If a word is not in the vocabulary of the model, this function by default lets you know and then replaces the word with a generic word. For example, if \"teenage_girl\", or \"twin_sister\" is not in the vocabulary they will be replaced with the generic feminine word for the gender scale, \"woman.\"\n",
    "\n",
    "You might prefer to change the generic replacement words, manually curate vocaublary words for your interests or model, or just remove word-pairs if one of the words in the pair doesn't exist. Later in this notebook we'll look at how robust the extracted dimension is to the choice of vocabulary words.\n",
    "\n",
    "The training words below were used to capture gender, moral, health, or ses dimensions."
   ]
  },
  {
   "cell_type": "code",
   "execution_count": 4,
   "metadata": {
    "collapsed": true
   },
   "outputs": [],
   "source": [
    "def select_training_set(trainingset): #options are: gender, moral, health, ses\n",
    "    #gender is the training set used in corresponding paper\n",
    "    #gender_2 has fewer precise gender words like \"he\" vs \"she\" than set 1,  and some more noise via words that are gendered but less clearcut than Set1)\n",
    "    #gender_3 even fewer precise gender words like \"he\" vs \"she\" than set 1,  and same added noise as training set 2\n",
    "\n",
    "    if trainingset=='gender_2':\n",
    "        pos_word_list=[ 'girl', 'girls', 'her', 'hers', 'herself', 'she', \n",
    "            'lady', 'gal', 'gals', 'madame', 'ladies', 'lady',\n",
    "          'mother', 'mothers', 'mom', 'moms', 'mommy', 'mama', 'ma', 'granddaughter', 'daughter', 'daughters', 'aunt', 'godmother', \n",
    "          'grandma', 'grandmothers', 'grandmother', 'sister', 'sisters', 'aunts', 'stepmother', 'granddaughters', 'niece',\n",
    "        'fiancee', 'ex_girlfriend', 'girlfriends', 'wife', 'wives', 'girlfriend', 'bride', 'brides', 'widow',\n",
    "           'twin_sister', 'younger_sister', 'teenage_girl', 'teenage_girls', 'eldest_daughter','estranged_wife', 'schoolgirl',\n",
    "        'businesswoman', 'congresswoman' , 'chairwoman', 'councilwoman', 'waitress', 'hostess', 'convent', 'heiress', \n",
    "           'saleswoman', 'queen', 'queens', 'princess', 'nun' , 'nuns', 'heroine', 'actress', 'actresses', 'uterus', 'vagina', 'ovarian_cancer',\n",
    "        'maternal', 'maternity', 'motherhood', 'sisterhood', 'girlhood', 'matriarch', 'sorority', 'mare', 'hen', 'hens', 'filly', 'fillies',\n",
    "          'deer', 'older_sister', 'oldest_daughter', 'stepdaughter', 'pink',  'cute', 'dependent', 'nurturing', 'hysterical', 'bitch',  'dance', 'dancing'] \n",
    "        neg_word_list=['boy', 'boys', 'him', 'his', 'himself', 'he', 'guy', 'dude',\n",
    "            'dudes', 'sir', 'guys', 'gentleman','father', 'fathers', 'dad', 'dads', 'daddy', 'papa', 'pa', 'grandson' , 'son', 'sons', 'uncle', 'godfather', \n",
    "        'grandpa', 'grandfathers', 'grandfather', 'brother', 'brothers' , 'uncles', 'stepfather', 'grandsons', 'nephew',\n",
    "           'fiance', 'ex_boyfriend', 'boyfriends', 'husband', 'husbands', 'boyfriend', 'groom', 'grooms', 'widower',\n",
    "            'twin_brother', 'younger_brother', 'teenage_boy', 'teenage_boys', 'eldest_son', 'estranged_husband', 'schoolboy',\n",
    "            'businessman', 'congressman', 'chairman', 'councilman', 'waiter', 'host', 'monastery', 'heir', 'salesman', \n",
    "            'king', 'kings', 'prince', 'monk', 'monks', 'hero', 'actor', 'actors', 'prostate', 'penis', 'prostate_cancer', \n",
    "        'paternal', 'paternity', 'fatherhood', 'brotherhood', 'boyhood', 'patriarch', 'fraternity', 'stallion', 'rooster', 'roosters', 'colt',\n",
    "           'colts', 'bull', 'older_brother', 'oldest_son', 'stepson', 'blue' ,'manly', 'independent', 'aggressive', 'angry', 'jerk', 'wrestle', 'wrestling'  ]\n",
    "        pos_word_replacement='woman'\n",
    "        neg_word_replacement='man'\n",
    "    elif trainingset=='gender_3':\n",
    "        pos_word_list=['madame', 'ladies', 'lady',\n",
    "          'mother', 'mothers', 'mom', 'mama', 'granddaughter', 'daughter', 'daughters', 'aunt', 'godmother', \n",
    "          'grandma', 'grandmothers', 'grandmother', 'sister', 'sisters', 'aunts', 'stepmother', 'granddaughters', 'niece',\n",
    "        'fiancee', 'ex_girlfriend', 'girlfriends', 'wife', 'wives', 'girlfriend', 'bride', 'brides', 'widow',\n",
    "           'twin_sister', 'younger_sister', 'teenage_girl', 'teenage_girls', 'eldest_daughter','estranged_wife', 'schoolgirl',\n",
    "        'businesswoman', 'congresswoman' , 'chairwoman', 'councilwoman', 'waitress', 'hostess', 'convent', 'heiress', \n",
    "           'saleswoman', 'queen', 'queens', 'princess', 'nun' , 'nuns', 'heroine', 'actress', 'actresses', 'uterus', 'vagina', 'ovarian_cancer',\n",
    "        'maternal', 'maternity', 'motherhood', 'sisterhood', 'girlhood', 'matriarch', 'sorority', 'mare', 'hen', 'hens', 'filly', 'fillies',\n",
    "          'deer', 'older_sister', 'oldest_daughter', 'stepdaughter', 'pink', 'cute', 'dependent', 'nurturing', 'hysterical', 'bitch',  'dance', 'dancing']\n",
    "        neg_word_list=['sir', 'guys', 'gentleman','father', 'fathers', 'dad', 'papa', 'grandson' , 'son', 'sons', 'uncle', 'godfather', \n",
    "        'grandpa', 'grandfathers', 'grandfather', 'brother', 'brothers' , 'uncles', 'stepfather', 'grandsons', 'nephew',\n",
    "           'fiance', 'ex_boyfriend', 'boyfriends', 'husband', 'husbands', 'boyfriend', 'groom', 'grooms', 'widower',\n",
    "            'twin_brother', 'younger_brother', 'teenage_boy', 'teenage_boys', 'eldest_son', 'estranged_husband', 'schoolboy',\n",
    "            'businessman', 'congressman', 'chairman', 'councilman', 'waiter', 'host', 'monastery', 'heir', 'salesman', \n",
    "            'king', 'kings', 'prince', 'monk', 'monks', 'hero', 'actor', 'actors', 'prostate', 'penis', 'prostate_cancer', \n",
    "        'paternal', 'paternity', 'fatherhood', 'brotherhood', 'boyhood', 'patriarch', 'fraternity', 'stallion', 'rooster', 'roosters', 'colt',\n",
    "           'colts', 'bull', 'older_brother', 'oldest_son', 'stepson', 'blue' ,'manly', 'independent', 'aggressive', 'angry', 'jerk', 'wrestle', 'wrestling'  ]\n",
    "        pos_word_replacement='woman'\n",
    "        neg_word_replacement='man'\n",
    "    elif trainingset=='gender':\n",
    "        pos_word_list=['womanly', 'my_wife', 'my_mom', 'my_grandmother', 'woman', 'women', 'girl', 'girls', 'her', 'hers', 'herself', 'she', \n",
    "            'lady', 'gal', 'gals', 'madame', 'ladies', 'lady',\n",
    "          'mother', 'mothers', 'mom', 'moms', 'mommy', 'mama', 'ma', 'granddaughter', 'daughter', 'daughters', 'aunt', 'godmother', \n",
    "          'grandma', 'grandmothers', 'grandmother', 'sister', 'sisters', 'aunts', 'stepmother', 'granddaughters', 'niece',\n",
    "          'fiancee', 'ex_girlfriend', 'girlfriends', 'wife', 'wives', 'girlfriend', 'bride', 'brides', 'widow',\n",
    "           'twin_sister', 'younger_sister', 'teenage_girl', 'teenage_girls', 'eldest_daughter','estranged_wife', 'schoolgirl',\n",
    "          'businesswoman', 'congresswoman' , 'chairwoman', 'councilwoman', 'waitress', 'hostess', 'convent', 'heiress', \n",
    "           'saleswoman', 'queen', 'queens', 'princess', 'nun' , 'nuns', 'heroine', 'actress', 'actresses', 'uterus', 'vagina', 'ovarian_cancer',\n",
    "           'maternal', 'maternity', 'motherhood', 'sisterhood', 'girlhood', 'matriarch', 'sorority', \n",
    "         'older_sister', 'oldest_daughter', 'stepdaughter']\n",
    "        neg_word_list=['manly', 'my_husband', 'my_dad','my_grandfather', 'man', 'men', 'boy', 'boys', 'him', 'his', 'himself', 'he', 'guy', 'dude',\n",
    "            'dudes', 'sir', 'guys', 'gentleman','father', 'fathers', 'dad', 'dads', 'daddy', 'papa', 'pa', 'grandson' , 'son', 'sons', 'uncle', 'godfather', \n",
    "           'grandpa', 'grandfathers', 'grandfather', 'brother', 'brothers' , 'uncles', 'stepfather', 'grandsons', 'nephew',\n",
    "           'fiance', 'ex_boyfriend', 'boyfriends', 'husband', 'husbands', 'boyfriend', 'groom', 'grooms', 'widower',\n",
    "            'twin_brother', 'younger_brother', 'teenage_boy', 'teenage_boys', 'eldest_son', 'estranged_husband', 'schoolboy',\n",
    "            'businessman', 'congressman', 'chairman', 'councilman', 'waiter', 'host', 'monastery', 'heir', 'salesman', \n",
    "            'king', 'kings', 'prince', 'monk', 'monks', 'hero', 'actor', 'actors', 'prostate', 'penis', 'prostate_cancer', \n",
    "           'paternal', 'paternity', 'fatherhood', 'brotherhood', 'boyhood', 'patriarch', 'fraternity', \n",
    "           'older_brother', 'oldest_son', 'stepson']\n",
    "        pos_word_replacement='woman'\n",
    "        neg_word_replacement='man'\n",
    "    elif trainingset=='moral':\n",
    "        pos_word_list= ['good', 'benevolent', 'nice', 'caring', 'conscientious', 'polite', 'fair', 'virtue', 'respect', 'responsible', \n",
    "            'selfless', 'unselfish', 'sincere', 'truthful', 'wonderful', 'justice', 'innocent', 'innocence',\n",
    "           'complement', 'sympathetic', 'virtue', 'right', 'proud', 'pride','respectful', 'appropriate', 'pleasing', 'pleasant', \n",
    "            'pure', 'decent', 'pleasant', 'compassion' , 'compassionate', 'constructive','graceful', 'gentle', 'reliable',\n",
    "           'careful', 'help', 'decent' , 'moral', 'hero', 'heroic', 'heroism', 'honest', 'honesty',\n",
    "           'selfless', 'humility', 'humble', 'generous', 'generosity', 'faithful', 'fidelity', 'worthy', 'tolerant',\n",
    "            'obedient', 'pious', 'saintly', 'angelic', 'virginal', 'sacred', 'reverent', 'god', 'hero', 'heroic', \n",
    "            'forgiving', 'saintly','holy', 'chastity', 'grateful', 'considerate', 'humane', \n",
    "            'trustworthy', 'loyal', 'loyalty', 'empathetic', 'empathy', 'clean', 'straightforward', 'pure']\n",
    "        neg_word_list= ['bad', 'evil', 'mean', 'uncaring', 'lazy', 'rude', 'unfair', 'sin', 'disrespect','irresponsible', \n",
    "           'self_centered', 'selfish', 'insincere', 'lying', 'horrible', 'injustice', 'guilty', 'guilt', \n",
    "            'insult', 'unsympathetic', 'vice', 'wrong', 'ashamed', 'shame', 'disrespectful', 'inappropriate', 'vulgar', 'crude', \n",
    "            'dirty', 'obscene', 'offensive', 'cruelty','brutal', 'destructive', 'rude', 'harsh', 'unreliable',\n",
    "            'careless', 'harm', 'indecent', 'immoral', 'coward', 'cowardly', 'cowardice', 'dishonest', 'dishonesty',\n",
    "            'narcissistic', 'arrogance', 'arrogant', 'greedy', 'greed', 'betray', 'betrayal', 'unworthy', 'intolerant', \n",
    "             'defiant', 'rebellious', 'demonic','devilish', 'promiscuous', 'profane', 'irreverent', 'devil', 'villain', 'villainous', \n",
    "            'vindictive', 'diabolical', 'unholy', 'promiscuity', 'ungrateful', 'thoughtless', 'inhumane',\n",
    "            'untrustworthy', 'treacherous', 'treachery', 'callous', 'indifference', 'dirty', 'manipulative', 'impure' ]\n",
    "        pos_word_replacement='moral'\n",
    "        neg_word_replacement='immoral'\n",
    "    elif trainingset=='health':\n",
    "        pos_word_list= ['fertile', 'help_prevent', 'considered_safe', 'safer', 'healthy', 'healthy', 'healthy', 'healthy', 'healthy',\n",
    "            'healthful', 'well_balanced', 'natural', 'healthy', 'athletic','physically_active', 'health',\n",
    "            'health', 'nutritious','nourishing', 'stronger', 'strong','wellness', 'safe', 'nutritious_food','exercise',\n",
    "            'physically_fit', 'unprocessed', 'healthier_foods', 'nutritious_foods', 'nutritious', 'nutritious',\n",
    "           'healthy_eating', 'healthy_diet', 'healthy_diet', 'nourishing', 'nourished', 'regular_exercise', 'safety', 'safe', \n",
    "            'helpful', 'beneficial', 'healthy', 'healthy', 'sturdy', 'lower_risk', 'reduced_risk', 'decreased_risk', 'nutritious_foods', 'whole_grains', 'healthier_foods',\n",
    "            'healthier_foods', 'physically_active', 'physical_activity', 'nourished', 'vitality', 'energetic', 'able_bodied',\n",
    "            'resilience', 'strength', 'less_prone', 'sanitary', 'clean',  'healing', 'heal', 'salubrious']   \n",
    "        neg_word_list= ['infertile', 'cause_harm','potentially_harmful','riskier', 'unhealthy', 'sick', 'ill', 'frail', 'sickly', \n",
    "            'unhealthful','unbalanced', 'unnatural', 'dangerous', 'sedentary', 'inactive', 'illness', \n",
    "            'sickness', 'toxic', 'unhealthy', 'weaker', 'weak', 'illness', 'unsafe', 'unhealthy_foods', 'sedentary',\n",
    "            'inactive', 'highly_processed', 'processed_foods', 'junk_foods', 'unhealthy_foods', 'junk_foods',\n",
    "               'processed_foods', 'processed_foods', 'fast_food', 'unhealthy_foods', 'deficient', 'sedentary', 'hazard','hazardous', \n",
    "            'harmful', 'injurious',  'chronically_ill', 'seriously_ill', 'frail', 'higher_risk', 'greater_risk', 'increased_risk', 'fried_foods', 'fried_foods',\n",
    "            'fatty_foods', 'sugary_foods', 'sedentary', 'physical_inactivity', 'malnourished', 'lethargy', 'lethargic', 'disabled',\n",
    "            'susceptibility', 'weakness', 'more_susceptible', 'filthy', 'dirty', 'harming', 'hurt', 'deleterious']\n",
    "        pos_word_replacement='healthy'\n",
    "        neg_word_replacement='ill'\n",
    "    elif trainingset=='ses':\n",
    "        pos_word_list=['wealth', 'wealthier', 'wealthiest', 'affluence', 'prosperity', 'wealthy', 'affluent', 'affluent', 'prosperous',\n",
    "                'prosperous','prosperous','disposable_income',  'wealthy','suburban','luxurious','upscale','upscale', 'luxury', \n",
    "                'richest', 'privileged', 'moneyed', 'privileged', 'privileged', 'educated', 'employed', \n",
    "                'elite', 'upper_income', 'upper_class', 'employment', 'riches', 'millionaire', 'aristocrat', 'college_educated',\n",
    "                'abundant', 'lack', 'luxury', 'profitable', 'profit', 'well_educated', 'elites', 'heir', 'well_heeled', \n",
    "                'white_collar', 'higher_incomes', 'bourgeois', 'fortunate', 'successful','economic_growth', 'prosper', 'suburbanites']\n",
    "        neg_word_list= ['poverty', 'poorer', 'poorest', 'poverty', 'poverty', 'impoverished', 'impoverished',  'needy',  'impoverished',\n",
    "                 'poor', 'needy', 'broke', 'needy', 'slum', 'ghetto', 'slums', 'ghettos', 'poor_neighborhoods', \n",
    "                'poorest', 'underserved', 'disadvantaged','marginalized', 'underprivileged', 'uneducated', 'unemployed', \n",
    "                'marginalized', 'low_income', 'underclass','unemployment', 'rags', 'homeless', 'peasant', 'college_dropout', \n",
    "                'lacking', 'abundance', 'squalor', 'bankrupt', 'debt', 'illiterate' ,'underclass', 'orphan',  'destitute', \n",
    "                'blue_collar', 'low_income', 'neediest', 'less_fortunate', 'unsuccessful', 'economic_crisis', 'low_wage', 'homeless']\n",
    "        pos_word_replacement='wealthy'\n",
    "        neg_word_replacement='poor'\n",
    "    pos_words=[]\n",
    "    neg_words=[]\n",
    "    pos_word_list_checked=[]\n",
    "    neg_word_list_checked=[]\n",
    "    for i in pos_word_list:\n",
    "        try:\n",
    "            pos_words.append(currentmodel[i])\n",
    "            pos_word_list_checked.append(i)\n",
    "        except KeyError:\n",
    "            #print(str(i) +  ' was not in this Word2Vec models vocab, and has been replaced with: ' + str(pos_word_replacement) ) #uncomment this to be alerted each time a training word doesn't exist in your model vocab\n",
    "            pos_words.append(currentmodel[pos_word_replacement])\n",
    "            pos_word_list_checked.append(pos_word_replacement)\n",
    "    for i in neg_word_list:\n",
    "        try:\n",
    "            neg_words.append(currentmodel[i])\n",
    "            neg_word_list_checked.append(i)\n",
    "        except KeyError:\n",
    "            #print(str(i) +  ' was not in this Word2Vec models vocab, and has been replaced with: ' + str(neg_word_replacement) ) #uncomment this to be alerted each time a training word doesn't exist in your model vocab\n",
    "            neg_words.append(currentmodel[neg_word_replacement])\n",
    "            neg_word_list_checked.append(neg_word_replacement)\n",
    "\n",
    "    print(\"Number of pos words: \" + str(len(pos_words)) + \" Number of neg words: \" + str(len(neg_words)))\n",
    "    train_classes_pos=np.array(np.repeat(1, len(pos_words)).tolist()) #1 is feminine/moral/healthy/rich by default, we will need to find the correct labels inductively\n",
    "    train_classes_neg=np.array(np.repeat(0, len(neg_words)).tolist()) #0 is masculine/immoral/unhealthy/poor by default, we will need to find the correct labels inductively\n",
    "    \n",
    "    pos_words=np.asarray(pos_words)\n",
    "    neg_words= np.asarray(neg_words)\n",
    "    return(pos_word_list_checked, neg_word_list_checked, pos_words, neg_words, train_classes_pos, train_classes_neg)"
   ]
  },
  {
   "cell_type": "markdown",
   "metadata": {},
   "source": [
    "### A function to take the mean of a set of word-vectors \n",
    "\n",
    "This function returns a \"direction\" which is the average of a set of vectors. For example, given the gender training word-vectors, it returns the mean of these which is our feminine direction."
   ]
  },
  {
   "cell_type": "code",
   "execution_count": 5,
   "metadata": {
    "collapsed": true
   },
   "outputs": [],
   "source": [
    "def MEAN_get_directionVec_unipolar(words, currentmodel, train_index_list=None):\n",
    "    if train_index_list is not None:\n",
    "        Ndiff=len(words[train_index_list])\n",
    "        biggie2= np.reshape(words[train_index_list], (Ndiff,len(currentmodel['word']))) #now a Ndiff by #dimensions, menasured by len(currentmodel['word']), matrix, can check with print(biggie2.shape)\n",
    "    else:\n",
    "        Ndiff= len(words) \n",
    "        biggie2= np.reshape(words, (Ndiff,len(currentmodel['word']))) #now a Ndiff by #dimensions, menasured by len(currentmodel['word']), matrix, can check with print(biggie2.shape)\n",
    "    biggie2= preprocessing.normalize(biggie2, norm='l2')\n",
    "\n",
    "    all_vecs_mat= [] #this will be used to make the covariance matrix, cov_mat\n",
    "    for i in range(0,Ndiff):\n",
    "        all_vecs_mat.append(biggie2[i,:])\n",
    "        \n",
    "    direction = np.mean(all_vecs_mat,0)\n",
    "    assert direction.shape == (len(currentmodel['word']),)\n",
    "    extracteddirectionVec= np.hstack(normalizeME(direction)) #ensure normalized \n",
    "    return(extracteddirectionVec)"
   ]
  },
  {
   "cell_type": "code",
   "execution_count": 6,
   "metadata": {
    "collapsed": true
   },
   "outputs": [],
   "source": [
    "def MEAN_get_directionVec_differences(pos_words_, neg_words_, currentmodel, train_index_list=None):\n",
    "    return(MEAN_get_directionVec_unipolar(pos_words_, currentmodel, train_index_list)- MEAN_get_directionVec_unipolar(neg_words_, currentmodel, train_index_list))    "
   ]
  },
  {
   "cell_type": "markdown",
   "metadata": {},
   "source": [
    "<p> <span style=\"color:blue\">**AT THIS POINT,** </span> you can continue to Part 4 to examine the robustness of these methods, or skip right to [Part 5](#Results) to just get to some results. <p>\n",
    " "
   ]
  },
  {
   "cell_type": "markdown",
   "metadata": {},
   "source": [
    "<a id='Robustness'></a> \n",
    "# Part 4. Robustness Checks"
   ]
  },
  {
   "cell_type": "markdown",
   "metadata": {},
   "source": [
    "**First, let's see how robust our methods are to the specific training words we use. We'll do cross validation on training words:**"
   ]
  },
  {
   "cell_type": "markdown",
   "metadata": {},
   "source": [
    "Select the dimension you are interested in (gender, moral, health, or ses)"
   ]
  },
  {
   "cell_type": "code",
   "execution_count": 7,
   "metadata": {},
   "outputs": [
    {
     "name": "stdout",
     "output_type": "stream",
     "text": [
      "Number of pos words: 85 Number of neg words: 85\n"
     ]
    }
   ],
   "source": [
    "pos_word_list, neg_word_list, pos_words, neg_words, train_classes_pos, train_classes_neg \\\n",
    "    = select_training_set('gender')"
   ]
  },
  {
   "cell_type": "markdown",
   "metadata": {},
   "source": [
    "Do **cross validation** to see how accuracy changes at classifying words if we just use a subset of training words to extract the dimension and and look at how the dimension classifies that subset of words and how it classifes the held-out words. This tells us, for example, how robust our methods are to our word choices. "
   ]
  },
  {
   "cell_type": "code",
   "execution_count": 159,
   "metadata": {
    "collapsed": true
   },
   "outputs": [],
   "source": [
    "#cross validation\n",
    "kf= KFold(n_splits=len(pos_words), shuffle=True) \n",
    "#n_splits written here is leave-one-wordpair-out cross validation, which is the maximum for n_splits. Try various quantities of n_splits. \n",
    "#Note that this cross-validaton is by word-pair, so if we leave out one word-pair from the direction extraction process, \n",
    "#we leave out two words on which to \"test,\" giving two test predictions.\n",
    "#NOTE that we are only using our training words here, but dividing it into a \"sub\" training set, and an unseen set of the trainign words, we call in this code block the \"test\" set. But we do not use our unseen true \"test\" words until later on. \n",
    "\n",
    "testacc=[]\n",
    "trainacc=[]\n",
    "\n",
    "for train_index, test_index in kf.split(pos_words): #only need the indices on pos words or neg words, then will be the same indices to use for both    \n",
    "    directionVec= MEAN_get_directionVec_differences(pos_words, neg_words, currentmodel, train_index_list=train_index)\n",
    "    #In a given model, we don't initially know the \"direction\" of a dimensions. In other words, we don't know whether a positive projection will be feminine or masculine. So, inductively find the correct labels 1/0. \n",
    "    #Consider this assumption that embedded in the code carefully when interpreting accuracy rates  \n",
    "    #We learn this rule on the training model and then apply it on the fresh unseen testing model to make sure we're really detecting something.   \n",
    "    pos_class=[] \n",
    "    for word in range(0, len(train_classes_pos[train_index])): #for word in this set of training words\n",
    "        wordToProject=np.hstack(normalizeME(pos_words[train_index][word]))\n",
    "        proj=project(wordToProject, directionVec)\n",
    "        if proj > 0:\n",
    "            pos_class.append(1) #evidence from this training word that the \"positive words\" are learned as positive\n",
    "        elif proj < 0:\n",
    "            pos_class.append(0) #evidence from this training word that the \"positive words\" are learned as negative\n",
    "    \n",
    "    #Now get predictions on the \"training\" set of the fold\n",
    "    predictions_train=[]\n",
    "    combinedposnegtrain= np.concatenate([pos_words[train_index] ,neg_words[train_index]], axis=0)\n",
    "    if statistics.mode(pos_class)==1: #if the positive class is mostly 1, keep labels as is. Note that if the positive class is split exactly 50/50 this won't work, but also then accuracy is equal to flip of coin.    \n",
    "        for word in range(0, len(combinedposnegtrain)):\n",
    "            wordToProject=np.hstack(normalizeME(combinedposnegtrain[word]))\n",
    "            proj=project(wordToProject, directionVec)\n",
    "            if proj > 0:\n",
    "                predictions_train.append(1)\n",
    "            elif proj<0:\n",
    "                predictions_train.append(0)\n",
    "        classes_train= np.concatenate([train_classes_pos[train_index] , train_classes_neg[train_index]], axis=0)\n",
    "    elif statistics.mode(pos_class)==0: #if the positive class is mostly -1, reverse labels\n",
    "        for word in range(0, len(combinedposnegtrain)):\n",
    "            wordToProject=np.hstack(normalizeME(combinedposnegtrain[word]))\n",
    "            proj=project(wordToProject, directionVec)\n",
    "            if proj > 0:\n",
    "                predictions_train.append(0)\n",
    "            elif proj<0:\n",
    "                predictions_train.append(1)\n",
    "        classes_train= np.concatenate([train_classes_pos[train_index] , train_classes_neg[train_index]], axis=0)\n",
    "    else:\n",
    "        print(\"No clear label\")\n",
    "    \n",
    "    #Now get predictions on the \"testing\" set of the fold\n",
    "    predictions_test=[]\n",
    "    combinedposnegtest= np.concatenate([pos_words[test_index] ,neg_words[test_index]], axis=0)\n",
    "    if statistics.mode(pos_class)==1:\n",
    "        for word in range(0, len(combinedposnegtest)):\n",
    "            wordToProject=np.hstack(normalizeME(combinedposnegtest[word]))\n",
    "            proj=project(wordToProject, directionVec)\n",
    "            if proj > 0:\n",
    "                predictions_test.append(1)\n",
    "            elif proj< 0:\n",
    "                predictions_test.append(0)\n",
    "        classes_test= np.concatenate([train_classes_pos[test_index], train_classes_neg[test_index]], axis=0)\n",
    "    elif statistics.mode(pos_class)==0:\n",
    "        for word in range(0, len(combinedposnegtest)):\n",
    "            wordToProject=np.hstack(normalizeME(combinedposnegtest[word]))\n",
    "            proj=project(wordToProject, directionVec)\n",
    "            if proj > 0:\n",
    "                predictions_test.append(0)\n",
    "            elif proj< 0:\n",
    "                predictions_test.append(1)\n",
    "        classes_test= np.concatenate([train_classes_pos[test_index], train_classes_neg[test_index]], axis=0)\n",
    "    else:\n",
    "        print(\"No clear label\")\n",
    "    trainacc.append(accuracy_score(classes_train, predictions_train))\n",
    "    testacc.append(accuracy_score(classes_test, predictions_test))\n",
    "    \n",
    "print('\\033[1m' +'Mean Accuracy across Training Subsets:'  + '\\033[0m'+ str(statistics.mean(trainacc)))\n",
    "print('\\033[1m' +'Standard Deviation of Accuracy across Training Subsets:'  + '\\033[0m'+ str(statistics.stdev(trainacc)))\n",
    "print('\\033[1m' +  'Mean Accuracy across Held-Out Subsets: ' + '\\033[0m'+ str(statistics.mean(testacc)))\n",
    "print('\\033[1m' +'Standard Deviation of Accuracy across Held-Out Subsets: ' + '\\033[0m' + str(statistics.stdev(testacc)))"
   ]
  },
  {
   "cell_type": "markdown",
   "metadata": {},
   "source": [
    "### Let's look to see if these directions are unique \n",
    "\n",
    "Perhaps they are all just capturing sentiment (good vs bad)?"
   ]
  },
  {
   "cell_type": "code",
   "execution_count": 9,
   "metadata": {},
   "outputs": [
    {
     "name": "stdout",
     "output_type": "stream",
     "text": [
      "Number of pos words: 85 Number of neg words: 85\n",
      "Number of pos words: 80 Number of neg words: 80\n",
      "Number of pos words: 65 Number of neg words: 65\n",
      "Number of pos words: 50 Number of neg words: 50\n"
     ]
    }
   ],
   "source": [
    "#extract all four direction vectors:\n",
    "pos_word_list, neg_word_list, pos_words, neg_words, train_classes_pos, train_classes_neg = select_training_set('gender')\n",
    "genderdirectionVec= MEAN_get_directionVec_differences(pos_words, neg_words, currentmodel, train_index_list=None)\n",
    "\n",
    "pos_word_list, neg_word_list, pos_words, neg_words, train_classes_pos, train_classes_neg = select_training_set('moral')\n",
    "moraldirectionVec= MEAN_get_directionVec_differences(pos_words, neg_words, currentmodel, train_index_list=None)\n",
    "\n",
    "pos_word_list, neg_word_list, pos_words, neg_words, train_classes_pos, train_classes_neg = select_training_set('health')\n",
    "healthdirectionVec= MEAN_get_directionVec_differences(pos_words, neg_words, currentmodel, train_index_list=None)\n",
    "\n",
    "pos_word_list, neg_word_list, pos_words, neg_words, train_classes_pos, train_classes_neg = select_training_set('ses')\n",
    "sesdirectionVec= MEAN_get_directionVec_differences(pos_words, neg_words, currentmodel, train_index_list=None)"
   ]
  },
  {
   "cell_type": "code",
   "execution_count": 174,
   "metadata": {},
   "outputs": [
    {
     "name": "stdout",
     "output_type": "stream",
     "text": [
      "Cosine Similarity between gender and morality is: 0.101269733294\n",
      "Cosine Similarity between gender and health is: 0.125955690315\n",
      "Cosine Similarity between gender and ses is: -0.0597965205425\n",
      "Cosine Similarity between morality and health is: 0.702924952102\n",
      "Cosine Similarity between morality and ses is: 0.307713178627\n",
      "Cosine Similarity between health and ses is: 0.242734038091\n"
     ]
    }
   ],
   "source": [
    "print(\"Cosine Similarity between gender and morality is: \" + str(1 - spatial.distance.cosine(genderdirectionVec, moraldirectionVec))) #similarity is 1-distance\n",
    "print(\"Cosine Similarity between gender and health is: \" + str(1 - spatial.distance.cosine(genderdirectionVec, healthdirectionVec))) #similarity is 1-distance\n",
    "print(\"Cosine Similarity between gender and ses is: \" + str(1 - spatial.distance.cosine(genderdirectionVec, sesdirectionVec))) #similarity is 1-distance\n",
    "print(\"Cosine Similarity between morality and health is: \" + str(1 - spatial.distance.cosine(moraldirectionVec, healthdirectionVec))) #similarity is 1-distance\n",
    "print(\"Cosine Similarity between morality and ses is: \" + str(1 - spatial.distance.cosine(moraldirectionVec, sesdirectionVec))) #similarity is 1-distance\n",
    "print(\"Cosine Similarity between health and ses is: \" + str(1 - spatial.distance.cosine(healthdirectionVec, sesdirectionVec))) #similarity is 1-distance"
   ]
  },
  {
   "cell_type": "markdown",
   "metadata": {},
   "source": [
    "From Word2Vec models used to develop this code, morality and health are quite similar, though not exactly the same. Gender is not similar to any others, and health, morality, and ses have some similarity. Perhaps another future route to improve these dirctions even more is to find a \"sentiment\" direction, and find the each the vector *rejection* of morality, health, and SES on to sentiment, to \"eliminate\" sentiment. "
   ]
  },
  {
   "cell_type": "code",
   "execution_count": 112,
   "metadata": {
    "collapsed": true
   },
   "outputs": [],
   "source": [
    "np.savetxt(\"genderdirectionVec_altMEAN.csv\", genderdirectionVec, delimiter=\",\") #if you want to save a direction vector you extracted!\n",
    "np.savetxt(\"moraldirectionVec_altMEAN.csv\", moraldirectionVec, delimiter=\",\") #if you want to save a direction vector you extracted!\n",
    "np.savetxt(\"healthdirectionVec_altMEAN.csv\", healthdirectionVec, delimiter=\",\") #if you want to save a direction vector you extracted!\n",
    "np.savetxt(\"sesdirectionVec_altMEAN.csv\", sesdirectionVec, delimiter=\",\") #if you want to save a direction vector you extracted!"
   ]
  },
  {
   "cell_type": "markdown",
   "metadata": {},
   "source": [
    "<a id='Results'></a> \n",
    "# Part 5: Let's extract a dimension (gender, morality, health, or socioeconomic status) and then see how words are classified according to that dimension"
   ]
  },
  {
   "cell_type": "markdown",
   "metadata": {},
   "source": [
    "For each dimension, we'll look at how the dimension classifies the **training** words used to find the dimension and then a fresh set of **testing** words *not* used to find the dimension.\n",
    "\n",
    "For gender, we'l look at how the dimension classifies some **stereotypically gendered** words, and you can try adding in our own words too. \n",
    "\n",
    "Finally, we'll look at how the dimension classifies a set of **words about obesity and body weight**. Is obesity connoted with feminininity or masculinity? Morality or immorality? Health or illness? Wealth or poverty?  Here you can stick in your own words too and see how they are classified. "
   ]
  },
  {
   "cell_type": "markdown",
   "metadata": {},
   "source": [
    "Let's get started by defining some more functions:"
   ]
  },
  {
   "cell_type": "code",
   "execution_count": 10,
   "metadata": {
    "collapsed": true
   },
   "outputs": [],
   "source": [
    "#a function to select a testing set of words\n",
    "def select_testing_set(testingset):\n",
    "    if testingset=='gender':\n",
    "        test_word_list= ['goddess', 'single_mother', 'girlish', 'feminine', 'young_woman', 'little_girl', 'ladylike', 'my_mother', \n",
    "           'teenage_daughter', 'mistress', 'great_grandmother', 'adopted_daughter', 'femininity', 'motherly', 'matronly', \n",
    "           'showgirl', 'housewife', 'vice_chairwoman', 'co_chairwoman', 'spokeswoman', 'governess', 'divorcee', 'spinster', \n",
    "           'maid', 'countess', 'pregnant_woman', 'landlady', 'seamstress', 'young_girl', 'waif', 'femme_fatale','comedienne',\n",
    "            'boyish', 'masculine',  'lad', 'policeman', 'macho', 'gentlemanly', 'machismo',  'teenage_son', \n",
    "            'beau', 'great_grandfather', 'tough_guy', 'masculinity', 'bad_boy', 'spokesman', 'baron', 'adult_male', 'landlord', 'fireman', 'mailman', 'vice_chairman', \n",
    "           'co_chairman','young_man', 'bearded', 'mustachioed', 'con_man', 'homeless_man', 'gent', 'strongman']\n",
    "        test_classes=np.repeat(1, 32).tolist() #1 is feminine\n",
    "        masc2=np.repeat(0, 28).tolist() #0 is masculine\n",
    "        for i in masc2:\n",
    "            test_classes.append(i) \n",
    "    elif testingset=='moral':\n",
    "        test_word_list= ['great', 'best', 'faith', 'chaste', 'wholesome', 'noble', 'honorable', 'immaculate', 'gracious', \n",
    "           'courteous', 'delightful', 'earnest', 'amiable', 'admirable', 'disciplined', 'patience', 'integrity',\n",
    "            'restraint', 'upstanding', 'diligent', 'dutiful', 'loving', 'righteous','respectable', 'praise', 'devout', 'forthright',\n",
    "            'depraved', 'repulsive', 'repugnant', 'corruption', 'vicious', 'unlawful', 'outrage',  'shameless', 'perverted',\n",
    "            'filthy', 'lewd', 'subversive', 'sinister', 'murderous', 'perverse', \n",
    "           'monstrous', 'homicidal', 'indignant', 'misdemeanor', 'degenerate', 'malevolent', 'illegal','terrorist','terrorism',  \n",
    "             'cheated', 'vengeful', 'culpable','vile', 'hateful', 'abuse', 'abusive', 'criminal', 'deviant']\n",
    "        test_classes=np.repeat(1, 27 ).tolist() #1 is feminine\n",
    "        masc2=np.repeat(0,33).tolist() #0 is masculine\n",
    "        for i in masc2:\n",
    "            test_classes.append(i)\n",
    "    elif testingset=='health':\n",
    "        test_word_list= [ 'balanced_diet', 'healthfulness', 'fiber', 'jogging', 'stopping_smoking', 'vigor', \n",
    "          'active', 'fit', 'flourishing', 'sustaining', 'hygienic', 'hearty', 'enduring', 'energized', 'wholesome', \n",
    "           'holistic', 'healed', 'fitter', 'health_conscious', 'more_nutritious', 'live_longer',  'exercising_regularly',\n",
    "           'healthier_choices', 'healthy_habits', 'healthy_lifestyle', 'healthful_eating', 'immune', \n",
    "            'deadly', 'diseased',  'adverse', 'risky', 'fatal', 'filthy', 'epidemic', 'crippling', 'carcinogenic', 'carcinogen',\n",
    "           'crippled', 'afflicted', 'contaminated', 'fatigued', 'detrimental', 'bedridden', 'incurable', 'hospitalized',\n",
    "           'infected', 'ailing', 'debilitated', 'poisons', 'disabling', 'life_threatening', 'debilitating', \n",
    "           'chronic_illness', 'artery_clogging', 'hypertension','disease', 'stroke',\n",
    "            'plague', 'fatty', 'smoking']\n",
    "        test_classes=np.repeat(1, 27).tolist() #1 is feminine\n",
    "        masc2=np.repeat(0, 33 ).tolist() #0 is masculine\n",
    "        for i in masc2:\n",
    "            test_classes.append(i) \n",
    "    elif testingset=='ses':\n",
    "        test_word_list= ['rich', 'billionaire', 'banker',  'fortune', 'heiress', 'cosmopolitan', 'ornate', 'entrepreneur', 'sophisticated',\n",
    "                'aristocratic', 'investor', 'highly_educated', 'better_educated',  'splendor', \n",
    "               'businessman', 'opulent', 'multimillionaire', 'philanthropist', 'estate', 'estates', 'chateau', 'fortunes', \n",
    "               'financier', 'young_professionals','tycoon', 'baron', 'grandeur', 'magnate', \n",
    "               'investment_banker', 'venture_capitalist', 'upwardly_mobile', 'highly_skilled', 'yuppies', 'genteel',\n",
    "                         'homelessness', 'ruin', 'ruined', 'downtrodden', 'less_affluent',\n",
    "                'housing_project', 'homeless_shelters', 'indigent', 'jobless', 'welfare',  \n",
    "                'temporary_shelters','housing_projects', 'subsidized_housing', 'starving', 'beggars', 'orphanages',\n",
    "                'dispossessed', 'uninsured', 'welfare_recipients', 'food_stamps', \n",
    "                'malnutrition',  'underemployed', 'disenfranchised', 'servants', 'displaced', 'poor_families'] \n",
    "        test_classes=np.repeat(1, 34).tolist()#1 is feminine\n",
    "        masc2=np.repeat(0, 26).tolist() #0 is masculine\n",
    "        for i in masc2:\n",
    "            test_classes.append(i) \n",
    "    elif testingset=='gender_stereotypes':\n",
    "        test_word_list=['petite', 'cooking', 'graceful',  'housework', 'soft', 'whisper', 'flirtatious', 'accepting', 'blonde', 'blond', 'doll', 'dolls','nurse',  'estrogen', 'lipstick','pregnant', 'nanny', 'pink', \n",
    "                 'sewing', 'modeling', 'dainty', 'gentle', 'children','pregnancy', 'nurturing', 'depressed', 'nice', 'emotional','depression', 'home', 'kitchen', 'quiet', 'submissive',\n",
    "                   'soldier', 'army', 'drafted', 'military',   'beard', 'mustache', 'genius', 'engineering', 'math', \n",
    "                  'brilliant', 'strong', 'strength',  'politician', 'programmer','doctor', 'sexual', 'aggressive', \n",
    "                    'testosterone', 'tall', 'competitive', 'big', 'powerful', 'mean', 'sports', 'fighting', 'confident', 'rough', 'loud', 'worldly',\n",
    "                   'experienced', 'insensitive', 'ambitious', 'dominant']\n",
    "        test_classes=np.repeat(1, 33 ).tolist() #1 is feminine\n",
    "        masc2=np.repeat(0,33).tolist() #0 is masculine\n",
    "        for i in masc2:\n",
    "            test_classes.append(i) \n",
    "    else:\n",
    "        print('choose a testing set: gender, moral, health, ses, or gender_stereotypes')\n",
    "        \n",
    "    test_words=[]\n",
    "    test_word_list_checked=[]\n",
    "    test_classes_checked=[] \n",
    "    for i in test_word_list:\n",
    "        try:\n",
    "            test_words.append(currentmodel[i])\n",
    "            test_word_list_checked.append(i)\n",
    "            test_classes_checked.append(test_classes[test_word_list.index(i)]) #new\n",
    "        except KeyError:\n",
    "            continue\n",
    "            #print(str(i) +  ' was not in this Word2Vec models vocab, and has been removed as a test word')\n",
    "            #index_missing= test_word_list.index(i)\n",
    "            #del(test_classes[index_missing])\n",
    "            #test_words.append(currentmodel[test_word_replacement])\n",
    "            #test_word_list_checked.append(test_word_replacement)\n",
    "            #get index of word, and remove this from classes, and do not append to list of vectors and word-list\n",
    "\n",
    "    test_words= np.asarray(test_words)\n",
    "    print('\\033[1m'+ \"Number of test words in model vocabulary, out of 60: \" + '\\033[0m' + str(len(test_words)))\n",
    "    return(test_word_list_checked, test_words, test_classes_checked)"
   ]
  },
  {
   "cell_type": "code",
   "execution_count": 11,
   "metadata": {
    "collapsed": true
   },
   "outputs": [],
   "source": [
    "#a function to do a projection with a new word list, using a dimension learned on a training set of words\n",
    "def do_projections(subspace, new_word_list):\n",
    "    pos_word_list, neg_word_list, pos_words, neg_words, train_classes_pos, train_classes_neg = select_training_set(subspace) #could set this to your own training set, e.g., gender_2 or gender_3 to see how obesity results change with different training set\n",
    "    test_word_list,test_words, test_classes = select_testing_set(subspace)\n",
    "    directionVec= MEAN_get_directionVec_differences(pos_words, neg_words, currentmodel, train_index_list=None)\n",
    "    \n",
    "    #In a given model, we don't initially know the \"direction\" of a dimensions. In other words, we don't know whether a positive projection will be feminine or masculine. So, inductively find the correct labels 1/0. \n",
    "    #Consider this assumption that embedded in the code carefully when interpreting accuracy rates  \n",
    "    pos_class=[] \n",
    "    for word in range(0, len(train_classes_pos)): #for word in this set of training words\n",
    "        wordToProject=np.hstack(normalizeME(pos_words[word]))\n",
    "        proj=project(wordToProject, directionVec)\n",
    "        if proj > 0:\n",
    "            pos_class.append(1) #evidence from this training word that the \"positive words\" are learned as positive\n",
    "        elif proj < 0:\n",
    "            pos_class.append(0) #evidence from this training word that the \"positive words\" are learned as negative\n",
    "    \n",
    "    #Now get predictions on the training set\n",
    "    predictions_train=[]\n",
    "    projections_train=[]\n",
    "    combinedposnegtrain= np.concatenate([pos_words, neg_words], axis=0)\n",
    "    train_classes=np.concatenate([train_classes_pos, train_classes_neg], axis=0) \n",
    "    if statistics.mode(pos_class)==1: #if the positive class is mostly 1, keep labels as is. Note that if the positive class is split exactly 50/50 this won't work, but also then accuracy is equal to flip of coin.    \n",
    "        for word in range(0, len(combinedposnegtrain)):\n",
    "            wordToProject=np.hstack(normalizeME(combinedposnegtrain[word]))\n",
    "            proj=project(wordToProject, directionVec)\n",
    "            projections_train.append(proj)\n",
    "            if proj > 0:\n",
    "                predictions_train.append(1)\n",
    "            elif proj<0:\n",
    "                predictions_train.append(0)\n",
    "    elif statistics.mode(pos_class)==0: #if the positive class is mostly -1, reverse labels\n",
    "        for word in range(0, len(combinedposnegtrain)):\n",
    "            wordToProject=np.hstack(normalizeME(combinedposnegtrain[word]))\n",
    "            proj=project(wordToProject, directionVec)\n",
    "            projections_train.append(-(proj))\n",
    "            if proj > 0:\n",
    "                predictions_train.append(0)\n",
    "            elif proj<0:\n",
    "                predictions_train.append(1)\n",
    "    else:\n",
    "        print(\"No clear label\")\n",
    "\n",
    "    \n",
    "    #Now get predictions on the testing set\n",
    "    predictions_test=[]\n",
    "    projections_test=[]\n",
    "    if statistics.mode(pos_class)==1:\n",
    "        for word in range(0, len(test_words)):\n",
    "            wordToProject=np.hstack(normalizeME(test_words[word]))\n",
    "            proj=project(wordToProject, directionVec)\n",
    "            projections_test.append(proj)\n",
    "            if proj > 0:\n",
    "                predictions_test.append(1)\n",
    "            elif proj< 0:\n",
    "                predictions_test.append(0)\n",
    "    elif statistics.mode(pos_class)==0:\n",
    "        for word in range(0, len(test_words)):\n",
    "            wordToProject=np.hstack(normalizeME(test_words[word]))\n",
    "            proj=project(wordToProject, directionVec)\n",
    "            projections_test.append(-(proj))\n",
    "            if proj > 0:\n",
    "                predictions_test.append(0)\n",
    "            elif proj< 0:\n",
    "                predictions_test.append(1)\n",
    "    else:\n",
    "        print(\"No clear label\")\n",
    "\n",
    "    trainacc=accuracy_score(train_classes, predictions_train)\n",
    "    testacc=accuracy_score(test_classes, predictions_test)\n",
    "    trainacc_N=accuracy_score(train_classes, predictions_train, normalize=False)\n",
    "    testacc_N=accuracy_score(test_classes, predictions_test, normalize=False)\n",
    "\n",
    "    print('\\033[1m' + 'Percent- Training accuracy: '+ '\\033[0m'+  str(trainacc) + '\\033[1m' + \" Testing accuracy: \" + '\\033[0m'+  str(testacc) )\n",
    "    print('\\033[1m' + 'Number- Training accuracy: ' + '\\033[0m'+ str(trainacc_N) + '\\033[1m' + \" Testing accuracy: \" + '\\033[0m' + str(testacc_N))\n",
    "    \n",
    "    predictions_new_word_list=[]\n",
    "    projections_new_word_list=[]\n",
    "    if new_word_list is not None:\n",
    "        if statistics.mode(pos_class)==1:\n",
    "            for word in range(0, len(new_word_list)):\n",
    "                wordToProject=np.hstack(normalizeME(currentmodel[new_word_list[word]]))\n",
    "                proj=project(wordToProject, directionVec)\n",
    "                projections_new_word_list.append(proj)\n",
    "                if proj > 0:\n",
    "                    predictions_new_word_list.append(1)\n",
    "                elif proj< 0:\n",
    "                    predictions_new_word_list.append(0)\n",
    "        elif statistics.mode(pos_class)==0:\n",
    "            for word in range(0, len(new_word_list)):\n",
    "                wordToProject=np.hstack(normalizeME(currentmodel[new_word_list[word]]))\n",
    "                proj=project(wordToProject, directionVec)\n",
    "                projections_new_word_list.append(-(proj))\n",
    "                if proj > 0:\n",
    "                    predictions_new_word_list.append(0)\n",
    "                elif proj< 0:\n",
    "                    predictions_new_word_list.append(1)\n",
    "        else:\n",
    "            print(\"No clear label\")\n",
    "    \n",
    "    return(np.concatenate([pos_word_list, neg_word_list], axis=0), predictions_train, projections_train, train_classes, test_word_list, predictions_test, projections_test, test_classes, predictions_new_word_list,  projections_new_word_list)"
   ]
  },
  {
   "cell_type": "markdown",
   "metadata": {},
   "source": [
    "#### do_projections wraps up a lot of the previous functions we've been using and returns projections and other data you'll want! \n",
    "\n",
    "Let's use it, input below whether you want to look at gender, moral, health, or the ses dimensions:"
   ]
  },
  {
   "cell_type": "code",
   "execution_count": 15,
   "metadata": {},
   "outputs": [
    {
     "name": "stdout",
     "output_type": "stream",
     "text": [
      "Number of pos words: 50 Number of neg words: 50\n",
      "\u001b[1mNumber of test words in model vocabulary, out of 60: \u001b[0m60\n",
      "\u001b[1mPercent- Training accuracy: \u001b[0m0.94\u001b[1m Testing accuracy: \u001b[0m0.983333333333\n",
      "\u001b[1mNumber- Training accuracy: \u001b[0m94\u001b[1m Testing accuracy: \u001b[0m59\n"
     ]
    }
   ],
   "source": [
    "train_word_list, predictions_train, projections_train, train_classes, test_word_list, predictions_test, \\\n",
    "    projections_test, test_classes, predictions_new_word_list, projections_new_word_list \\\n",
    "    = do_projections('ses', None)"
   ]
  },
  {
   "cell_type": "markdown",
   "metadata": {},
   "source": [
    "####  Visualization of Test Words for the Dimension You Selected in the Code Block Above"
   ]
  },
  {
   "cell_type": "code",
   "execution_count": 16,
   "metadata": {},
   "outputs": [
    {
     "data": {
      "image/png": "[encoded data removed]",
      "text/plain": [
       "<matplotlib.figure.Figure at 0x2303bf49a20>"
      ]
     },
     "metadata": {},
     "output_type": "display_data"
    }
   ],
   "source": [
    "rcParams['figure.figsize'] = 9,9\n",
    "#xlim([-.03, .03])\n",
    "\n",
    "test_classes_relabeled=[] #quick hack to get legend to show Positive/Negative instead of 0/1\n",
    "for i in test_classes:\n",
    "    if i==1:\n",
    "        test_classes_relabeled.append('Positive')\n",
    "    else:\n",
    "        test_classes_relabeled.append('Negative')\n",
    "        \n",
    "myplot= sns.stripplot(projections_test, test_word_list, test_classes_relabeled, jitter=True, size=10)\n",
    "plt.legend(loc=\"upper left\", bbox_to_anchor=[0, 1],\n",
    "           ncol=2, shadow=True, title=\"True Class\", fancybox=True)\n",
    "\n",
    "plt.axvline(x=0, color='r', linestyle='-')\n",
    "plt.title('Test Words \\n Positive is feminine/moral/healthy/high ses \\n Negative is masculine/immoral/unhealthy/low ses')\n",
    "plt.xlabel('Predicted')\n",
    "plt.show()"
   ]
  },
  {
   "cell_type": "markdown",
   "metadata": {},
   "source": [
    "#### For gender, let's see how some stereotypicallly gendered words are classified with this method!\n",
    "Try adding in other gender stereotypes here. "
   ]
  },
  {
   "cell_type": "code",
   "execution_count": 123,
   "metadata": {},
   "outputs": [
    {
     "name": "stdout",
     "output_type": "stream",
     "text": [
      "Number of pos words: 85 Number of neg words: 85\n",
      "Number of test words: 60\n",
      "Percent- Training accuracy: 0.905882352941 Testing accuracy: 0.933333333333\n",
      "Number- Training accuracy: 154 Testing accuracy: 56\n"
     ]
    }
   ],
   "source": [
    "gender_stereotypes=['petite', 'cooking', 'graceful','housework', 'soft', 'whisper', 'flirtatious', 'accepting', 'blonde', 'blond', 'doll', 'dolls','nurse',  'estrogen', 'lipstick','pregnant', 'nanny', 'pink', \n",
    "                 'sewing', 'modeling', 'dainty', 'gentle', 'children','pregnancy', 'nurturing', 'depressed', 'nice', 'emotional','depression', 'home', 'kitchen', 'quiet', 'submissive',\n",
    "                   'soldier', 'army', 'drafted', 'military',   'beard', 'mustache', 'genius', 'engineering', 'math', \n",
    "                  'brilliant', 'strong', 'strength',  'politician', 'programmer','doctor', 'sexual', 'aggressive', \n",
    "                    'testosterone', 'tall', 'competitive', 'big', 'powerful', 'mean', 'sports', 'fighting', 'confident', 'rough', 'loud', 'worldly',\n",
    "                   'experienced', 'insensitive', 'ambitious', 'dominant']\n",
    "gender_stereotypes= []\n",
    "\n",
    "#check if these words are in your model\n",
    "for i in gender_stereotypes_seeifinmodel:\n",
    "    try:\n",
    "        currentmodel[i]\n",
    "        gender_stereotypes.append(i)\n",
    "    except:\n",
    "        print(str(i) + \" was not in this model's vocabulary and has been removed\")\n",
    "        continue\n",
    "        \n",
    "train_word_list, predictions_train, projections_train, train_classes, test_word_list, predictions_test, \\\n",
    "    projections_test, test_classes, predictions_new_word_list, projections_new_word_list  \\\n",
    "    = do_projections('gender', gender_stereotypes)\n",
    "    \n",
    "#Visualization\n",
    "rcParams['figure.figsize'] = 9,9\n",
    "#xlim([-.03, .03])\n",
    "myplot= sns.stripplot(projections_new_word_list, gender_stereotypes, color= 'blue', jitter=True, size=10)\n",
    "plt.axvline(x=0, color='r', linestyle='-')\n",
    "plt.title('Predicted Gender of Stereotypically Gendered Words')\n",
    "plt.xlabel('Negative projection is masculine, positive projection is feminine')\n",
    "plt.show()"
   ]
  },
  {
   "cell_type": "markdown",
   "metadata": {},
   "source": [
    "#### Now lets try with obese words:\n",
    "Try plugging in your own words here too! Select below whether you want to look at these with respect to gender, moral, health, or ses:"
   ]
  },
  {
   "cell_type": "code",
   "execution_count": 170,
   "metadata": {},
   "outputs": [
    {
     "name": "stdout",
     "output_type": "stream",
     "text": [
      "Number of pos words: 81 Number of neg words: 81\n",
      "Number of test words: 60\n",
      "Percent- Training accuracy: 0.895061728395 Testing accuracy: 0.95\n",
      "Number- Training accuracy: 145 Testing accuracy: 57\n"
     ]
    },
    {
     "data": {
      "image/png": "[encoded data removed]",
      "text/plain": [
       "<matplotlib.figure.Figure at 0x171d159c710>"
      ]
     },
     "metadata": {},
     "output_type": "display_data"
    }
   ],
   "source": [
    "obese_words= ['obese', 'obesity', 'diabetic', 'diabetes', 'weight', 'overweight', 'thin', 'slender', 'burly',\n",
    "                'muscular', 'diet', 'dieting', 'health', 'healthy', 'unhealthy', 'fat', 'anorexic', 'anorexia', 'bulimia', \n",
    "                'beautiful', 'handsome', 'overeating', 'exercise', 'sedentary', 'bulimic', 'morbidly_obese', 'normal_weight',\n",
    "                'seriously_overweight']\n",
    "\n",
    "obese_words= []\n",
    "\n",
    "#check if these words are in your model\n",
    "for i in obese_words_seeifinmodel:\n",
    "    try:\n",
    "        currentmodel[i]\n",
    "        obese_words.append(i)\n",
    "    except:\n",
    "        print(str(i) + \" was not in this model's vocabulary and has been removed\")\n",
    "        continue\n",
    "\n",
    "train_word_list, predictions_train, projections_train, train_classes, test_word_list, predictions_test, \\\n",
    "    projections_test, test_classes, predictions_new_word_list, projections_new_word_list  \\\n",
    "    = do_projections('gender', obese_words)"
   ]
  },
  {
   "cell_type": "markdown",
   "metadata": {},
   "source": [
    "#### Visualization based on the dimension you selected in the above code block"
   ]
  },
  {
   "cell_type": "code",
   "execution_count": null,
   "metadata": {
    "collapsed": true
   },
   "outputs": [],
   "source": [
    "rcParams['figure.figsize'] = 7, 7\n",
    "xlim([-.03, .03])\n",
    "myplot= sns.stripplot(projections_new_word_list, obese_words, color= 'blue', jitter=True, size=10)\n",
    "plt.axvline(x=0, color='r', linestyle='-')\n",
    "plt.title('Obesity Related Words \\n Positive is feminine/moral/healthy/high ses \\n Negative is masculine/immoral/unhealthy/low ses')\n",
    "plt.xlabel('Predicted')\n",
    "plt.show()"
   ]
  },
  {
   "cell_type": "markdown",
   "metadata": {},
   "source": [
    "#### Write projection for training/testing/obese keywords results to a CSV"
   ]
  },
  {
   "cell_type": "code",
   "execution_count": 142,
   "metadata": {},
   "outputs": [
    {
     "name": "stdout",
     "output_type": "stream",
     "text": [
      "Number of pos words: 50 Number of neg words: 50\n",
      "Number of test words: 60\n",
      "Percent- Training accuracy: 0.94 Testing accuracy: 0.966666666667\n",
      "Number- Training accuracy: 94 Testing accuracy: 58\n"
     ]
    }
   ],
   "source": [
    "#written here for gender, or specify in \"do_projections\" below for moral, health, or ses\n",
    "train_word_list, predictions_train, projections_train, train_classes, test_word_list, predictions_test, projections_test, test_classes, predictions_new_word_list, projections_new_word_list = do_projections('gender', obese_words)\n",
    "\n",
    "with open(r'SES_GeomAlt_MEAN.csv', 'a') as f: #change as needed for Gender,Moral, Health, SES\n",
    "    writer = csv.writer(f)\n",
    "    writer.writerow(['SES_Train']*len(train_word_list))  #change the headings as needed for Gender,Moral, Health, SES\n",
    "    writer.writerow(train_word_list)\n",
    "    writer.writerow(train_classes)\n",
    "    writer.writerow(predictions_train)\n",
    "    writer.writerow(projections_train)\n",
    "   \n",
    "    writer.writerow(['SES_Test']*len(test_word_list)) #change the headings as needed for Gender, Moral, Health, SES\n",
    "    writer.writerow(test_word_list)\n",
    "    writer.writerow(test_classes)\n",
    "    writer.writerow(predictions_test)\n",
    "    writer.writerow(projections_test)\n",
    "    \n",
    "    writer.writerow(['SES_Obesity']*len(obese_words)) #change the headings as needed for Gender, Moral, Health, SES, and if another set of words other than the obese_words are used here\n",
    "    writer.writerow(obese_words)\n",
    "    writer.writerow(predictions_new_word_list)\n",
    "    writer.writerow(projections_new_word_list)"
   ]
  }
 ],
 "metadata": {
  "kernelspec": {
   "display_name": "Python 3",
   "language": "python",
   "name": "python3"
  },
  "language_info": {
   "codemirror_mode": {
    "name": "ipython",
    "version": 3
   },
   "file_extension": ".py",
   "mimetype": "text/x-python",
   "name": "python",
   "nbconvert_exporter": "python",
   "pygments_lexer": "ipython3",
   "version": "3.6.3"
  }
 },
 "nbformat": 4,
 "nbformat_minor": 1
}
