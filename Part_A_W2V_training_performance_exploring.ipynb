{
 "cells": [
  {
   "cell_type": "markdown",
   "metadata": {},
   "source": [
    "Notebook to accompany article by Arseniev-Koehler and Foster, \"Teaching an algorithm what it means to be fat: machine-learning as a model for cultural learning.\" All code last checked on Python 3 in Windows 5/30/2018. Please cite our paper or [GitHub repo](https://github.com/arsena-k/Word2Vec-bias-extraction) if reused. "
   ]
  },
  {
   "cell_type": "markdown",
   "metadata": {},
   "source": [
    "# Word2Vec Model Training, Perfomance Evaluation and Exploration"
   ]
  },
  {
   "cell_type": "markdown",
   "metadata": {},
   "source": [
    "**Description:** In this Jupyter notebook, we train a Word2Vec model of text data using Gensim.  Word2Vec models words in a text dataset as numeric vectors. For a review of Word2Vec check out this [blog post](http://mccormickml.com/2016/04/19/word2vec-tutorial-the-skip-gram-model/). We also include code in this notebook to evaluate model quality on the Google Analogy Test on any trained Word2Vec model, and explore any trained Word2Vec model."
   ]
  },
  {
   "cell_type": "markdown",
   "metadata": {},
   "source": [
    "**Table of Contents**\n",
    "\n",
    "* Part 1: [Train a Word2Vec model on some text data](#Train)\n",
    "* Part 2: [Test your model's quality using the Google Analogy Test](#Accuracy)\n",
    "* Part 3: [Explore and visualize your Word2Vec model](#Results)"
   ]
  },
  {
   "cell_type": "markdown",
   "metadata": {},
   "source": [
    "**Tips for getting started:**\n",
    "* Suggestions along the way for dataset to use for Part 1 (training), or a pre-trained model to jump into model accuracy and exploration (Part 2) and skip training in Part 1. \n",
    "* This notebook was written in Python 3\n",
    "* Install needed packages, especially make sure you have installed Cython\n",
    "* Know where this Jupyter Notebook is saved on your computer. That folder will be called your \"working directory\", and it is where we will keep all models and data files. If you save a model, it will save there. If you download a dataset or pretrained model, you should save the file to there: when loading in files, Juputer Notebook will look in your working directory for that file by default. \n"
   ]
  },
  {
   "cell_type": "markdown",
   "metadata": {},
   "source": [
    "Import external functions and packages"
   ]
  },
  {
   "cell_type": "code",
   "execution_count": 2,
   "metadata": {},
   "outputs": [
    {
     "name": "stderr",
     "output_type": "stream",
     "text": [
      "C:\\Users\\Alina Arseniev\\Anaconda3\\lib\\site-packages\\gensim\\utils.py:860: UserWarning: detected Windows; aliasing chunkize to chunkize_serial\n",
      "  warnings.warn(\"detected Windows; aliasing chunkize to chunkize_serial\")\n"
     ]
    }
   ],
   "source": [
    "import cython #ENSURE cython package is installed on computer/canopy\n",
    "import numpy as np\n",
    "from gensim.models import word2vec\n",
    "from gensim.models import phrases \n",
    "from gensim import corpora, models, similarities #calc all similarities at once, from http://radimrehurek.com/gensim/tut3.html\n",
    "from sklearn.metrics.pairwise import cosine_similarity\n",
    "from scipy import spatial\n",
    "import csv\n",
    "from statistics import mean\n",
    "from gensim.models import Word2Vec, KeyedVectors\n",
    "import pandas as pd\n",
    "import string\n",
    "from string import digits\n",
    "import re\n",
    "from sklearn.manifold import TSNE\n",
    "import matplotlib.pyplot as plt\n",
    "%matplotlib inline\n",
    "#np.set_printoptions(threshold=np.inf) #set to print full output\n",
    "\n",
    "#if you don't have any of these, or get an error, you will need to install them first"
   ]
  },
  {
   "cell_type": "markdown",
   "metadata": {},
   "source": [
    "<a id='Train'></a> \n",
    "## Part 1: Train a Word2Vec Model, Explore Hyperparameters"
   ]
  },
  {
   "cell_type": "markdown",
   "metadata": {},
   "source": [
    "#### Don't have a dataset? \n",
    "\n",
    "Gensim has a few free suggestions, such as the [Text8 Corpus](https://radimrehurek.com/gensim/models/word2vec.html#gensim.models.word2vec.Text8Corpus)\n",
    "    \n",
    "Or, download this free Kaggle dataset of 3 million news headlines from the [Examiner](https://www.kaggle.com/therohk/examine-the-examiner/version/3)  and clean for Word2Vec using code below"
   ]
  },
  {
   "cell_type": "code",
   "execution_count": 20,
   "metadata": {},
   "outputs": [
    {
     "data": {
      "text/html": [
       "<div>\n",
       "<style>\n",
       "    .dataframe thead tr:only-child th {\n",
       "        text-align: right;\n",
       "    }\n",
       "\n",
       "    .dataframe thead th {\n",
       "        text-align: left;\n",
       "    }\n",
       "\n",
       "    .dataframe tbody tr th {\n",
       "        vertical-align: top;\n",
       "    }\n",
       "</style>\n",
       "<table border=\"1\" class=\"dataframe\">\n",
       "  <thead>\n",
       "    <tr style=\"text-align: right;\">\n",
       "      <th></th>\n",
       "      <th>publish_date</th>\n",
       "      <th>headline_tokens</th>\n",
       "    </tr>\n",
       "  </thead>\n",
       "  <tbody>\n",
       "    <tr>\n",
       "      <th>0</th>\n",
       "      <td>20100101</td>\n",
       "      <td>100 most anticipated books releasing 2010</td>\n",
       "    </tr>\n",
       "    <tr>\n",
       "      <th>1</th>\n",
       "      <td>20100101</td>\n",
       "      <td>10 best films of 2009 what s on your list</td>\n",
       "    </tr>\n",
       "    <tr>\n",
       "      <th>2</th>\n",
       "      <td>20100101</td>\n",
       "      <td>10 days of free admission at lan su chinese ga...</td>\n",
       "    </tr>\n",
       "    <tr>\n",
       "      <th>3</th>\n",
       "      <td>20100101</td>\n",
       "      <td>10 playstation games to watch out for 2010</td>\n",
       "    </tr>\n",
       "    <tr>\n",
       "      <th>4</th>\n",
       "      <td>20100101</td>\n",
       "      <td>10 resolutions for a happy new year for you an...</td>\n",
       "    </tr>\n",
       "    <tr>\n",
       "      <th>5</th>\n",
       "      <td>20100101</td>\n",
       "      <td>10 tips to a healthy diet that works</td>\n",
       "    </tr>\n",
       "    <tr>\n",
       "      <th>6</th>\n",
       "      <td>20100101</td>\n",
       "      <td>10 tips to avoid the drive thru and encourage ...</td>\n",
       "    </tr>\n",
       "    <tr>\n",
       "      <th>7</th>\n",
       "      <td>20100101</td>\n",
       "      <td>10 trends to end 2010</td>\n",
       "    </tr>\n",
       "    <tr>\n",
       "      <th>8</th>\n",
       "      <td>20100101</td>\n",
       "      <td>11 year old girl and 15 year old boy accused o...</td>\n",
       "    </tr>\n",
       "    <tr>\n",
       "      <th>9</th>\n",
       "      <td>20100101</td>\n",
       "      <td>12 days of rotoff vijay singh</td>\n",
       "    </tr>\n",
       "    <tr>\n",
       "      <th>10</th>\n",
       "      <td>20100101</td>\n",
       "      <td>12 new year s resolutions for better eating</td>\n",
       "    </tr>\n",
       "    <tr>\n",
       "      <th>11</th>\n",
       "      <td>20100101</td>\n",
       "      <td>14 hours of energy conference</td>\n",
       "    </tr>\n",
       "    <tr>\n",
       "      <th>12</th>\n",
       "      <td>20100101</td>\n",
       "      <td>2009 entertainment farewells</td>\n",
       "    </tr>\n",
       "    <tr>\n",
       "      <th>13</th>\n",
       "      <td>20100101</td>\n",
       "      <td>2009 review climategate to copenhagen part i</td>\n",
       "    </tr>\n",
       "    <tr>\n",
       "      <th>14</th>\n",
       "      <td>20100101</td>\n",
       "      <td>2009 review lacrosse inches into the mainstream</td>\n",
       "    </tr>\n",
       "    <tr>\n",
       "      <th>15</th>\n",
       "      <td>20100101</td>\n",
       "      <td>2009 s best pet moments for me</td>\n",
       "    </tr>\n",
       "    <tr>\n",
       "      <th>16</th>\n",
       "      <td>20100101</td>\n",
       "      <td>2009 sprint cup season review clint bowyer</td>\n",
       "    </tr>\n",
       "    <tr>\n",
       "      <th>17</th>\n",
       "      <td>20100101</td>\n",
       "      <td>2009 the year viral videos a retospective cove...</td>\n",
       "    </tr>\n",
       "    <tr>\n",
       "      <th>18</th>\n",
       "      <td>20100101</td>\n",
       "      <td>2009 top 10 christian fiction atlanta based au...</td>\n",
       "    </tr>\n",
       "    <tr>\n",
       "      <th>19</th>\n",
       "      <td>20100101</td>\n",
       "      <td>2009 was adam lambert s year to star 2010 shou...</td>\n",
       "    </tr>\n",
       "    <tr>\n",
       "      <th>20</th>\n",
       "      <td>20100101</td>\n",
       "      <td>2009 was a year of great tunes and great shows</td>\n",
       "    </tr>\n",
       "    <tr>\n",
       "      <th>21</th>\n",
       "      <td>20100101</td>\n",
       "      <td>2009 weather highlights</td>\n",
       "    </tr>\n",
       "    <tr>\n",
       "      <th>22</th>\n",
       "      <td>20100101</td>\n",
       "      <td>2010 1</td>\n",
       "    </tr>\n",
       "    <tr>\n",
       "      <th>23</th>\n",
       "      <td>20100101</td>\n",
       "      <td>2010 and beyond beyond</td>\n",
       "    </tr>\n",
       "    <tr>\n",
       "      <th>24</th>\n",
       "      <td>20100101</td>\n",
       "      <td>2010 a new year and a new decade dawns what dr...</td>\n",
       "    </tr>\n",
       "    <tr>\n",
       "      <th>25</th>\n",
       "      <td>20100101</td>\n",
       "      <td>2010 a space fairy tale</td>\n",
       "    </tr>\n",
       "    <tr>\n",
       "      <th>26</th>\n",
       "      <td>20100101</td>\n",
       "      <td>2010 a whole new year</td>\n",
       "    </tr>\n",
       "    <tr>\n",
       "      <th>27</th>\n",
       "      <td>20100101</td>\n",
       "      <td>2010 a year of races gop gov race</td>\n",
       "    </tr>\n",
       "    <tr>\n",
       "      <th>28</th>\n",
       "      <td>20100101</td>\n",
       "      <td>2010 ball drop video from times square happy n...</td>\n",
       "    </tr>\n",
       "    <tr>\n",
       "      <th>29</th>\n",
       "      <td>20100101</td>\n",
       "      <td>2010 california fishing license no wear initia...</td>\n",
       "    </tr>\n",
       "    <tr>\n",
       "      <th>...</th>\n",
       "      <td>...</td>\n",
       "      <td>...</td>\n",
       "    </tr>\n",
       "    <tr>\n",
       "      <th>3089751</th>\n",
       "      <td>20151231</td>\n",
       "      <td>the strongest trump supporters are registered ...</td>\n",
       "    </tr>\n",
       "    <tr>\n",
       "      <th>3089752</th>\n",
       "      <td>20151231</td>\n",
       "      <td>the wsj reports the nsa spied on israeli prime...</td>\n",
       "    </tr>\n",
       "    <tr>\n",
       "      <th>3089753</th>\n",
       "      <td>20151231</td>\n",
       "      <td>the year of the eater entrepreneur</td>\n",
       "    </tr>\n",
       "    <tr>\n",
       "      <th>3089754</th>\n",
       "      <td>20151231</td>\n",
       "      <td>the year review impressive wines and wineries ...</td>\n",
       "    </tr>\n",
       "    <tr>\n",
       "      <th>3089755</th>\n",
       "      <td>20151231</td>\n",
       "      <td>the young and the restless spoilers ashley abb...</td>\n",
       "    </tr>\n",
       "    <tr>\n",
       "      <th>3089756</th>\n",
       "      <td>20151231</td>\n",
       "      <td>tips for successful achievement of new year re...</td>\n",
       "    </tr>\n",
       "    <tr>\n",
       "      <th>3089757</th>\n",
       "      <td>20151231</td>\n",
       "      <td>tonya couch brought back to us from mexico whi...</td>\n",
       "    </tr>\n",
       "    <tr>\n",
       "      <th>3089758</th>\n",
       "      <td>20151231</td>\n",
       "      <td>top 10 beers of 2015</td>\n",
       "    </tr>\n",
       "    <tr>\n",
       "      <th>3089759</th>\n",
       "      <td>20151231</td>\n",
       "      <td>top carson aides resign from failing campaign</td>\n",
       "    </tr>\n",
       "    <tr>\n",
       "      <th>3089760</th>\n",
       "      <td>20151231</td>\n",
       "      <td>top five healthier snack options for the new year</td>\n",
       "    </tr>\n",
       "    <tr>\n",
       "      <th>3089761</th>\n",
       "      <td>20151231</td>\n",
       "      <td>top stories of 2015</td>\n",
       "    </tr>\n",
       "    <tr>\n",
       "      <th>3089762</th>\n",
       "      <td>20151231</td>\n",
       "      <td>toshiba and times square welcome 2016</td>\n",
       "    </tr>\n",
       "    <tr>\n",
       "      <th>3089763</th>\n",
       "      <td>20151231</td>\n",
       "      <td>towering inferno erupts at dubai luxury hotel ...</td>\n",
       "    </tr>\n",
       "    <tr>\n",
       "      <th>3089764</th>\n",
       "      <td>20151231</td>\n",
       "      <td>toy plane chants islamic prayer instead of jet...</td>\n",
       "    </tr>\n",
       "    <tr>\n",
       "      <th>3089765</th>\n",
       "      <td>20151231</td>\n",
       "      <td>tv actor wayne rogers has died</td>\n",
       "    </tr>\n",
       "    <tr>\n",
       "      <th>3089766</th>\n",
       "      <td>20151231</td>\n",
       "      <td>uber hits milestone 1 billion rides given by r...</td>\n",
       "    </tr>\n",
       "    <tr>\n",
       "      <th>3089767</th>\n",
       "      <td>20151231</td>\n",
       "      <td>useful tech gifts on secret wish lists</td>\n",
       "    </tr>\n",
       "    <tr>\n",
       "      <th>3089768</th>\n",
       "      <td>20151231</td>\n",
       "      <td>utah sports top 5 coolest people of 2015 they ...</td>\n",
       "    </tr>\n",
       "    <tr>\n",
       "      <th>3089769</th>\n",
       "      <td>20151231</td>\n",
       "      <td>utah sports top 5 morons of 2015 see if you ma...</td>\n",
       "    </tr>\n",
       "    <tr>\n",
       "      <th>3089770</th>\n",
       "      <td>20151231</td>\n",
       "      <td>utah sports top story of 2015 utah state f dav...</td>\n",
       "    </tr>\n",
       "    <tr>\n",
       "      <th>3089771</th>\n",
       "      <td>20151231</td>\n",
       "      <td>vaginal estrogen can improve postmenopausal se...</td>\n",
       "    </tr>\n",
       "    <tr>\n",
       "      <th>3089772</th>\n",
       "      <td>20151231</td>\n",
       "      <td>vegas fun the 2015 ford mustang</td>\n",
       "    </tr>\n",
       "    <tr>\n",
       "      <th>3089773</th>\n",
       "      <td>20151231</td>\n",
       "      <td>wallethub s 16 financial resolutions for the n...</td>\n",
       "    </tr>\n",
       "    <tr>\n",
       "      <th>3089774</th>\n",
       "      <td>20151231</td>\n",
       "      <td>what did we learn from the 49ers 2015</td>\n",
       "    </tr>\n",
       "    <tr>\n",
       "      <th>3089775</th>\n",
       "      <td>20151231</td>\n",
       "      <td>what lies ahead for hartford hockey 2016</td>\n",
       "    </tr>\n",
       "    <tr>\n",
       "      <th>3089776</th>\n",
       "      <td>20151231</td>\n",
       "      <td>which is better investment lego bricks or gold...</td>\n",
       "    </tr>\n",
       "    <tr>\n",
       "      <th>3089777</th>\n",
       "      <td>20151231</td>\n",
       "      <td>wild score three unanswered goals to defeat th...</td>\n",
       "    </tr>\n",
       "    <tr>\n",
       "      <th>3089778</th>\n",
       "      <td>20151231</td>\n",
       "      <td>with nasa and russia on the sidelines europe i...</td>\n",
       "    </tr>\n",
       "    <tr>\n",
       "      <th>3089779</th>\n",
       "      <td>20151231</td>\n",
       "      <td>wolf pack battling opponents officials on the ...</td>\n",
       "    </tr>\n",
       "    <tr>\n",
       "      <th>3089780</th>\n",
       "      <td>20151231</td>\n",
       "      <td>writespace hosts all genre open mic night</td>\n",
       "    </tr>\n",
       "  </tbody>\n",
       "</table>\n",
       "<p>3089781 rows × 2 columns</p>\n",
       "</div>"
      ],
      "text/plain": [
       "         publish_date                                    headline_tokens\n",
       "0            20100101          100 most anticipated books releasing 2010\n",
       "1            20100101          10 best films of 2009 what s on your list\n",
       "2            20100101  10 days of free admission at lan su chinese ga...\n",
       "3            20100101         10 playstation games to watch out for 2010\n",
       "4            20100101  10 resolutions for a happy new year for you an...\n",
       "5            20100101               10 tips to a healthy diet that works\n",
       "6            20100101  10 tips to avoid the drive thru and encourage ...\n",
       "7            20100101                              10 trends to end 2010\n",
       "8            20100101  11 year old girl and 15 year old boy accused o...\n",
       "9            20100101                      12 days of rotoff vijay singh\n",
       "10           20100101        12 new year s resolutions for better eating\n",
       "11           20100101                      14 hours of energy conference\n",
       "12           20100101                       2009 entertainment farewells\n",
       "13           20100101       2009 review climategate to copenhagen part i\n",
       "14           20100101    2009 review lacrosse inches into the mainstream\n",
       "15           20100101                     2009 s best pet moments for me\n",
       "16           20100101         2009 sprint cup season review clint bowyer\n",
       "17           20100101  2009 the year viral videos a retospective cove...\n",
       "18           20100101  2009 top 10 christian fiction atlanta based au...\n",
       "19           20100101  2009 was adam lambert s year to star 2010 shou...\n",
       "20           20100101     2009 was a year of great tunes and great shows\n",
       "21           20100101                            2009 weather highlights\n",
       "22           20100101                                             2010 1\n",
       "23           20100101                             2010 and beyond beyond\n",
       "24           20100101  2010 a new year and a new decade dawns what dr...\n",
       "25           20100101                            2010 a space fairy tale\n",
       "26           20100101                              2010 a whole new year\n",
       "27           20100101                  2010 a year of races gop gov race\n",
       "28           20100101  2010 ball drop video from times square happy n...\n",
       "29           20100101  2010 california fishing license no wear initia...\n",
       "...               ...                                                ...\n",
       "3089751      20151231  the strongest trump supporters are registered ...\n",
       "3089752      20151231  the wsj reports the nsa spied on israeli prime...\n",
       "3089753      20151231                 the year of the eater entrepreneur\n",
       "3089754      20151231  the year review impressive wines and wineries ...\n",
       "3089755      20151231  the young and the restless spoilers ashley abb...\n",
       "3089756      20151231  tips for successful achievement of new year re...\n",
       "3089757      20151231  tonya couch brought back to us from mexico whi...\n",
       "3089758      20151231                               top 10 beers of 2015\n",
       "3089759      20151231      top carson aides resign from failing campaign\n",
       "3089760      20151231  top five healthier snack options for the new year\n",
       "3089761      20151231                                top stories of 2015\n",
       "3089762      20151231              toshiba and times square welcome 2016\n",
       "3089763      20151231  towering inferno erupts at dubai luxury hotel ...\n",
       "3089764      20151231  toy plane chants islamic prayer instead of jet...\n",
       "3089765      20151231                     tv actor wayne rogers has died\n",
       "3089766      20151231  uber hits milestone 1 billion rides given by r...\n",
       "3089767      20151231             useful tech gifts on secret wish lists\n",
       "3089768      20151231  utah sports top 5 coolest people of 2015 they ...\n",
       "3089769      20151231  utah sports top 5 morons of 2015 see if you ma...\n",
       "3089770      20151231  utah sports top story of 2015 utah state f dav...\n",
       "3089771      20151231  vaginal estrogen can improve postmenopausal se...\n",
       "3089772      20151231                    vegas fun the 2015 ford mustang\n",
       "3089773      20151231  wallethub s 16 financial resolutions for the n...\n",
       "3089774      20151231              what did we learn from the 49ers 2015\n",
       "3089775      20151231           what lies ahead for hartford hockey 2016\n",
       "3089776      20151231  which is better investment lego bricks or gold...\n",
       "3089777      20151231  wild score three unanswered goals to defeat th...\n",
       "3089778      20151231  with nasa and russia on the sidelines europe i...\n",
       "3089779      20151231  wolf pack battling opponents officials on the ...\n",
       "3089780      20151231          writespace hosts all genre open mic night\n",
       "\n",
       "[3089781 rows x 2 columns]"
      ]
     },
     "execution_count": 20,
     "metadata": {},
     "output_type": "execute_result"
    }
   ],
   "source": [
    "dat= pd.read_csv('examiner-date-tokens.csv') #this file should be in your working directory - the same folder where this Jupyter Notebook is saved\n",
    "dat #view what it looks like"
   ]
  },
  {
   "cell_type": "markdown",
   "metadata": {},
   "source": [
    "*Preprocessing and Cleaning* \n",
    "\n",
    "From visually looking at the data, it is already pretty clean. Most importantly, letters are all lowercased, and punctuation removed. But we'll need to remove digits. And, the corpus needs to be re-structured for Word2Vec into a list of \"sentences\" or, in this case, headlines. Within each \"sentence\" we'll tokenize the string such that each word is a token.\n",
    "\n",
    "*Fake original text data, before being cleaned and pre-processed might have looked something like this:*\n",
    "\n",
    "    mydata= [These are words in the First sentence. These are words in the Second sentence! These are words in the Third sentence.] \n",
    "    \n",
    "*We want to clean it to be an object like this:*\n",
    "\n",
    "    sentences= [[these, are, words, in, the first, sentence], [these, are, words, in, the , second, sentence], [these, are, words, in, the , third, sentence]]\n",
    "\n",
    "\n",
    "More subjective choices for pre-processing in natural language processing commonly include removing stop words (words that are frequent but sometime considered meaningless, such as \"the\") and stemming words (e.g., reducing all words to a single tense, like \"running and \"runs\" to \"run\"). I do not remove stop words, since I do not buy that these are always \"meaningless,\" and from my understanding of Word2Vec, it is well equipped to extract any meaning from stop words if it is there (i.e., if it predicts other words' meaning), or place little emphasis on stop words (or noise) if they do not predict other words' meaning. Further, I do not stem words, since I see the endings of words as information. On smaller datasets stemming can be a strategy to reduce the vocabulary size and increase the number of instances of each vocabulary word."
   ]
  },
  {
   "cell_type": "code",
   "execution_count": 22,
   "metadata": {},
   "outputs": [
    {
     "name": "stdout",
     "output_type": "stream",
     "text": [
      "['best', 'films', 'of', 'what', 's', 'on', 'your', 'list']\n",
      "3089781\n"
     ]
    }
   ],
   "source": [
    "dat2= [str(i[1]) for i in dat.values] #only need the text of each headline in the 1st index, not the date, in the 0th index\n",
    "translator = str.maketrans(string.ascii_letters, string.ascii_letters, string.digits)\n",
    "\n",
    "sentences=[]\n",
    "for i in dat2:\n",
    "    headline= i.translate(translator)\n",
    "    headline= headline.strip()\n",
    "    sentences.append(headline.split())\n",
    "    \n",
    "print(sentences[1])\n",
    "print(len(sentences)) # check that it is actually around 3 million headlines here as supposed to be. its ok if not perfectly clean (i.e.  some words that are nonsensical) for these purposes"
   ]
  },
  {
   "cell_type": "code",
   "execution_count": 23,
   "metadata": {
    "collapsed": true
   },
   "outputs": [],
   "source": [
    "#does sentences look ok? then delete dat and dat2 to save up some space\n",
    "del(dat2)\n",
    "del(dat)"
   ]
  },
  {
   "cell_type": "markdown",
   "metadata": {},
   "source": [
    "#### Have your own dataset? Load it below. \n",
    "\n",
    "Note your sentences object should be an object of cleaned, pre-processed, tokenized text data, as described above. "
   ]
  },
  {
   "cell_type": "code",
   "execution_count": 97,
   "metadata": {
    "collapsed": true
   },
   "outputs": [],
   "source": [
    "sentences= open('your_tokenized_data_file_here.txt').read() "
   ]
  },
  {
   "cell_type": "markdown",
   "metadata": {},
   "source": [
    "#### Next, we'll train a Word2Vec model on our sentences object. Here are some hyperparameters involved:\n",
    "\n",
    "* For a review see [Rong 2014](https://arxiv.org/abs/1411.2738)  and the [Gensim documentation](https://radimrehurek.com/gensim/models/word2vec.html)\n",
    "\n",
    "Key hyperparameters for Word2Vec include the learning architecture (Skip Gram or Context Bag of Words), the dimensionality of the word-vectors we will learn, and the context window of words, \"window\". Skip-gram sets up the artificial neural network underlying Word2Vec to predict set of context words given a target word. CBOW, or Context Bag of Words, sets up the network to predict a target word given a set of context words. The number of context words used is set by the \"window\" parameter. \n",
    "\n",
    "* size = word vector dimensionality. usually ranges 50-500 with gains in model performance diminishing after 300 (Mikolov et al. 2013a). I've seen up to 1000, but usually see 100, 300, and sometimes 500 dimensions on larger corprora. If you have a smaller dataset, stick to smaller dimensionality, roughly 50-200. Even 100 dimensions is a lot to learn! And, if you are using the embeddings for a classifiation task down the road, it might be better to keep dimensionality low. \n",
    "* min_count = minimum word count. Any word that does not occur at least this many times across all documents is ignored. Default is 5. I often set this higher to learn only high quality word-vectors. \n",
    "* workers = number of threads to run in parallel, I set to 4. This speeds up training a lot, but to use make sure Cython is installed first. \n",
    "* window = context window size. This is the numebr of words used to predict a target word (in CBOW) or to be predicted from a target word (SG). A larger window captures topical similarity, smaller captures is semantic similarity (Goldberg 2016, Levy and Goldberg 2014).\n",
    "* seed= can set a seed for reproducibility, note you also cannot use multiple workers if you want a fully reproducible model.\n",
    "* sg = learning architecture: skip-gram (1) or CBOW (0). Skip-gram sets up the artificial neural network underlying Word2Vec to predict set of context words given a target word. CBOW, or Context Bag of Words, sets up the network to predict a target word given a set of context words. \n",
    "* hs= training algorithm to speed up computations: hierarchical softmax (1) or negative sampling (0)\n",
    "    "
   ]
  },
  {
   "cell_type": "markdown",
   "metadata": {},
   "source": [
    "#### Train Models with Four Combos of Hyperparameters"
   ]
  },
  {
   "cell_type": "markdown",
   "metadata": {},
   "source": [
    "Try a few combos of hyperparameters and see which performs best on your dataset by evaluating their accuracy in Part 2. "
   ]
  },
  {
   "cell_type": "markdown",
   "metadata": {},
   "source": [
    "Run bigram transformer, below, if you want bigrams (two-word phrases that are meaningful, like \"New York\"). This needs to be done before training the Word2Vec model. You can run one more times, such as to catch three-grams (like \"New York City\"), take a look at [Gensim documentaion for examples](https://radimrehurek.com/gensim/models/phrases.html).\n",
    "\n",
    "If you only want single word-tokens, then just use \"sentences\" when you feed into Word2Vec() rather than feeding in bigram_transformer[sentences] "
   ]
  },
  {
   "cell_type": "code",
   "execution_count": 24,
   "metadata": {
    "collapsed": true
   },
   "outputs": [],
   "source": [
    "#your \"sentences\" object with the cleaned text data. \n",
    "bigram_transformer = phrases.Phrases(sentences) \n",
    "bigram= phrases.Phraser(bigram_transformer)"
   ]
  },
  {
   "cell_type": "markdown",
   "metadata": {},
   "source": [
    "Try training models A, B, C, or D, which vary by learning architecture (Skip Gram vs Context Bag of Words) and training algorithm (negative sampling vs hierarchical softmax).\n",
    "Try other paramters, too. "
   ]
  },
  {
   "cell_type": "code",
   "execution_count": 25,
   "metadata": {
    "collapsed": true
   },
   "outputs": [],
   "source": [
    "modelA_ALLYEARS= word2vec.Word2Vec(bigram[sentences], workers=4, sg=0,size=500, min_count=40,window=5, sample=1e-3)"
   ]
  },
  {
   "cell_type": "code",
   "execution_count": 109,
   "metadata": {
    "collapsed": true
   },
   "outputs": [],
   "source": [
    "modelB_ALLYEARS= word2vec.Word2Vec(bigram[sentences], workers=4, sg=1, size=500, min_count=40, window=10, sample=1e-3)"
   ]
  },
  {
   "cell_type": "code",
   "execution_count": 110,
   "metadata": {
    "collapsed": true
   },
   "outputs": [],
   "source": [
    "modelC_ALLYEARS= word2vec.Word2Vec(bigram[sentences],  workers=4, sg=0, hs=1,size=500, min_count=40, window=10, sample=1e-3)"
   ]
  },
  {
   "cell_type": "code",
   "execution_count": 111,
   "metadata": {
    "collapsed": true
   },
   "outputs": [],
   "source": [
    "modelD_ALLYEARS= word2vec.Word2Vec(bigram[sentences], workers=4, sg=1, hs=1, size=500, min_count=40, window=10, sample=1e-3)"
   ]
  },
  {
   "cell_type": "markdown",
   "metadata": {},
   "source": [
    "Save your model to your working directory"
   ]
  },
  {
   "cell_type": "code",
   "execution_count": 28,
   "metadata": {
    "collapsed": true
   },
   "outputs": [],
   "source": [
    "modelA_ALLYEARS.init_sims(replace=True) #Precompute L2-normalized vectors. If replace is set to TRUE, forget the original vectors and only keep the normalized ones. Saves lots of memory, but can't continue to train the model."
   ]
  },
  {
   "cell_type": "code",
   "execution_count": 29,
   "metadata": {
    "collapsed": true
   },
   "outputs": [],
   "source": [
    "modelA_ALLYEARS.save(\"modelA\") #save your model for later use! change the name to something to remember the hyperparameters you trained it with"
   ]
  },
  {
   "cell_type": "markdown",
   "metadata": {},
   "source": [
    "<a id='Accuracy'></a> \n",
    "## Part 2: Word2Vec Model Accuracy"
   ]
  },
  {
   "cell_type": "markdown",
   "metadata": {},
   "source": [
    "The **Google Analogy Test** is one of the most accepted strategies to evaluate how \"good\" or high quality your model is. The Google Analogy Test includes a series of analogies divided up into 15 subsections, including world capitals, countries’ currencies, family, and a series of syntactic sections such as tense and plurality.  For example, an analogy in the semantic section of World Capitals will include: “Berlin: Germany as Paris: ?” and if the model responds correctly it will return: “France.” An analogy in the semantic section of family will include: “Mother: Father as Daughter: Son.” In the syntax section with tense, a sample analogy might be “Walk: Walked as Run: Ran.”  The Google Analogy test includes a total of 20,000 questions, and accuracy is the proportion of these questions that the model answers correctly. A \"better\" model should answer more questions correctly. As we'll see, this isn't the best measure but it is a good starting point. "
   ]
  },
  {
   "cell_type": "markdown",
   "metadata": {},
   "source": [
    "Upload your saved, trained model you want to evaluate:"
   ]
  },
  {
   "cell_type": "code",
   "execution_count": 31,
   "metadata": {
    "collapsed": true
   },
   "outputs": [],
   "source": [
    "currentmodel=  Word2Vec.load(\"modelA\") #name of YOUR model here, or file path to your model.\n",
    "\n",
    "#currentmodel=  Word2Vec.load(\"Word2VecModels/modelA_ALLYEARS_500dim_10CW\") #name of YOUR model here, or file path to your model. this is set for Alina's computer\n",
    "\n",
    "#    An example for a PC computer if your model is in your downloads folder, and you're using a model named \"modelA_ALLYEARS_500dim_10CW\" \n",
    "#currentmodel=  Word2Vec.load(\"C:/Users/Alina Arseniev/Downloads/modelA_ALLYEARS_500dim_10CW\")\n",
    "\n",
    "#   An example for a Mac if your model is in your downloads folder, and you're using a model named \"modelA_ALLYEARS_500dim_10CW\" \n",
    "#currentmodel=  Word2Vec.load(\"~/Downloads/modelA_ALLYEARS_500dim_10CW\")\n"
   ]
  },
  {
   "cell_type": "markdown",
   "metadata": {},
   "source": [
    "Or, download a pre-trained model on GoogleNews, find link to download on this [site](https://code.google.com/archive/p/word2vec/) or direct link to [download here](https://drive.google.com/file/d/0B7XkCwpI5KDYNlNUTTlSS21pQmM/edit?usp=sharing). Extract the files, and make sure you have the one called \"GoogleNews-vectors-negative300.bin.gz\" in your working directory"
   ]
  },
  {
   "cell_type": "code",
   "execution_count": 35,
   "metadata": {
    "collapsed": true
   },
   "outputs": [],
   "source": [
    "currentmodel = KeyedVectors.load_word2vec_format('GoogleNews-vectors-negative300.bin.gz', binary=True)\n",
    "\n",
    "#   An example for a PC computer if your model is in your downloads folder, and you're using the Google model \n",
    "#currentmodel=  KeyedVectors.load_word2vec_format('C:/Users/Alina Arseniev/Downloads/GoogleNews-vectors-negative300.bin.gz', binary=True)\n",
    "\n",
    "#   An example for a Mac if your model is in your downloads folder, and you're using the Google model \n",
    "#currentmodel=  KeyedVectors.load_word2vec_format(\"~/Downloads/GoogleNews-vectors-negative300.bin.gz\", binary=True)\n"
   ]
  },
  {
   "cell_type": "markdown",
   "metadata": {},
   "source": [
    "Now let's look at the model accuracy on the Google Analogy Test:"
   ]
  },
  {
   "cell_type": "code",
   "execution_count": 32,
   "metadata": {},
   "outputs": [
    {
     "name": "stdout",
     "output_type": "stream",
     "text": [
      "Accuracy on world_capitals1: 0.0\n",
      "Accuracy on world_capitals2: 0.0\n",
      "Accuracy on money: 0.0\n",
      "Accuracy on US_capitals: 0.0\n",
      "Accuracy on family: 0.0\n",
      "Accuracy on adj_to_adverbs: 0.0\n",
      "Accuracy on opposites: 0.0\n",
      "Accuracy on comparative: 0.0\n",
      "Accuracy on superlative: 0.0\n",
      "Accuracy on present_participle: 0.0\n",
      "Accuracy on nationality: 0.0011792452830188679\n",
      "Accuracy on past_tense: 0.0\n",
      "Accuracy on plural: 0.0\n",
      "Accuracy on plural_verbs: 0.0\n",
      "Accuracy on world_capitals3: 0.00010662117496534811\n",
      "\u001b[1mAverage Accuracy: 8.572443053228107e-05\u001b[0m\n"
     ]
    }
   ],
   "source": [
    "#Make sure you have downloaded three files into your working directory from this from the Github repo https://github.com/arsena-k/Word2Vec-bias-extraction: questions_words_pasted.txt, testing.py, and question-words.txt\n",
    "accuracy=currentmodel.wv.accuracy('questions_words_pasted.txt') \n",
    "\n",
    "accuracy_labels= ['world_capitals1', 'world_capitals2', 'money', 'US_capitals', 'family', 'adj_to_adverbs', 'opposites', 'comparative', 'superlative','present_participle', 'nationality', 'past_tense', 'plural', 'plural_verbs', 'world_capitals3']\n",
    "\n",
    "accuracy_tracker=[]\n",
    "for i in range(0, len(accuracy)):\n",
    "    sum_corr = len(accuracy[i]['correct'])\n",
    "    sum_incorr = len(accuracy[i]['incorrect'])\n",
    "    total = sum_corr + sum_incorr\n",
    "    print(\"Accuracy on \" + str(accuracy_labels[i]) + \": \"  + str(float(sum_corr)/(total)))\n",
    "    accuracy_tracker.append(float(sum_corr)/(total))\n",
    "\n",
    "print('\\033[1m' + \"Average Accuracy: \" + str(mean(accuracy_tracker)) + '\\033[0m')"
   ]
  },
  {
   "cell_type": "markdown",
   "metadata": {},
   "source": [
    "*Notes on the Google Analogy Test:*\n",
    "\n",
    "When originally published, Word2Vec averaged at around 60% across all sections of the Google Analogy Test. Models I've trained on a large news corpus tend to average between 50 and 60%. On smaller coropora, or more heterogenous corpora, accuracy rates might even hover around 0. The Google Analogy test is a useful benchmark, but may be more or less meaningful on different datasets. For example, we might not expect it provide useful infomration on a historical dataset, which contains different language and knoweldge (e.g., some currencies and capitals were likely different at the time the data was produced). For some datasets, it may be useful to select certain sections that are more meaninful than others, such as dropping the section on money for a data set on narratives. \n",
    "\n",
    "Even with low performance on this test, vectors might still contain meaningful, interesting information, but might not be robust or high quality enough for more complex tasks. You can also try twweaking the hyperparameters used to improve performance, especially the dimensionality, context window, and learning architecture. "
   ]
  },
  {
   "cell_type": "markdown",
   "metadata": {},
   "source": [
    "<a id='Results'></a> \n",
    "## Part 3: Explore and Visualize your Word2Vec Model"
   ]
  },
  {
   "cell_type": "markdown",
   "metadata": {},
   "source": [
    "If you're jumping right to here and didn't go though Part 2, look at first few lines of [Part 2](#Accuracy) for help to upload your own trained model or a pre-trained model you want to explore. "
   ]
  },
  {
   "cell_type": "markdown",
   "metadata": {},
   "source": [
    "How many vocabulary words were learned by the model? "
   ]
  },
  {
   "cell_type": "code",
   "execution_count": 37,
   "metadata": {},
   "outputs": [
    {
     "data": {
      "text/plain": [
       "3000000"
      ]
     },
     "execution_count": 37,
     "metadata": {},
     "output_type": "execute_result"
    }
   ],
   "source": [
    "len(currentmodel.wv.vocab) "
   ]
  },
  {
   "cell_type": "markdown",
   "metadata": {},
   "source": [
    "Let's look at the raw word-vector for 'woman'. These numbers aren't so meaninful to human readers on their own. "
   ]
  },
  {
   "cell_type": "code",
   "execution_count": 38,
   "metadata": {
    "collapsed": true
   },
   "outputs": [],
   "source": [
    "currentmodel['woman'] "
   ]
  },
  {
   "cell_type": "markdown",
   "metadata": {},
   "source": [
    "What are the most similar words to \"woman\"? What are the cosine simiarlties? \n",
    "\n",
    "* Cosine Similarity ranges 0-1 here, with 0 corresponding to two words that share NOTHING in common, and 1 suggesting they are the exact same meaning. For a review on cosine similarity for word-vector models, see this [article](http://blog.christianperone.com/2013/09/machine-learning-cosine-similarity-for-vector-space-models-part-iii/). \n",
    "* Surprised that a word like \"man\" is so similar to \"woman\"? While these two are opposites in terms of gender, otherwise they correpond to largely the same meaning (adults, humans, singular, nouns, etc.), so they should be very similar and close in space. "
   ]
  },
  {
   "cell_type": "code",
   "execution_count": 34,
   "metadata": {},
   "outputs": [
    {
     "data": {
      "text/plain": [
       "[('shasta', 0.19185668230056763),\n",
       " ('grain', 0.17193982005119324),\n",
       " ('darien', 0.1698988378047943),\n",
       " ('lentils', 0.16366681456565857),\n",
       " ('emily_maynard', 0.1633109152317047),\n",
       " ('discovery_channel', 0.16314801573753357),\n",
       " ('lightly', 0.15895523130893707),\n",
       " ('health_scare', 0.15843741595745087),\n",
       " ('ybor_city', 0.15725888311862946),\n",
       " ('missing_boy', 0.15360340476036072)]"
      ]
     },
     "execution_count": 34,
     "metadata": {},
     "output_type": "execute_result"
    }
   ],
   "source": [
    "currentmodel.most_similar('man', topn=10) "
   ]
  },
  {
   "cell_type": "markdown",
   "metadata": {},
   "source": [
    "Calculate cosine similarity of two words specifically"
   ]
  },
  {
   "cell_type": "code",
   "execution_count": 155,
   "metadata": {},
   "outputs": [
    {
     "name": "stdout",
     "output_type": "stream",
     "text": [
      "0.766401228292\n"
     ]
    }
   ],
   "source": [
    "print(1 - spatial.distance.cosine(currentmodel['woman'], currentmodel['man'])) "
   ]
  },
  {
   "cell_type": "markdown",
   "metadata": {},
   "source": [
    "Which words are FARTHEST from big? Doesn't work so well, results aren't usually meaninful. This shows how distance as can break down as a meaningful measure in this model compared to our intuitions.  "
   ]
  },
  {
   "cell_type": "code",
   "execution_count": 156,
   "metadata": {},
   "outputs": [
    {
     "data": {
      "text/plain": [
       "[('D.Earnhardt_Jr._###-###', 0.38161107897758484),\n",
       " ('M.Martin_###-###', 0.37538671493530273),\n",
       " ('G.Biffle_###-###', 0.3698088824748993),\n",
       " ('NewsTrack_Sports', 0.3603689968585968),\n",
       " ('J.Gordon_###-###', 0.3462575674057007),\n",
       " ('----------_-----------------------------------------------_GS##',\n",
       "  0.3396575152873993),\n",
       " ('Ky.Busch_##-###', 0.3247494101524353),\n",
       " ('E.Sadler_###-###', 0.3226693868637085),\n",
       " ('J.McMurray_###-###', 0.3169156610965729),\n",
       " ('By_SEAN_BARRON', 0.315515398979187)]"
      ]
     },
     "execution_count": 156,
     "metadata": {},
     "output_type": "execute_result"
    }
   ],
   "source": [
    "currentmodel.most_similar(negative=['big']) "
   ]
  },
  {
   "cell_type": "markdown",
   "metadata": {},
   "source": [
    "Let's try some tricks:"
   ]
  },
  {
   "cell_type": "markdown",
   "metadata": {},
   "source": [
    "Let's ask our model to solve the anaology, man is to king as woman is to ? \n",
    "\n",
    "Specifically, we ask the model to find the word-vector that is most similar to the vector leftover from the vector algebra: king + woman - man\n",
    "\n",
    "Another way to think about our expected relationship is:\n",
    "* A queen is a *feminine* king. \n",
    "* If we take *woman* and subtract *man*, we get just the parts that about being feminine, since we subtracted out parts that are shared between men and woman (e.g., being a human, adult, noun, singular, etc.). \n",
    "* If we take away the masculinity from king (subtract man), and add the femininity (add woman), we get the feminine version of a king- a queen! \n",
    "\n",
    "If you're model doesn't solve this correctly, try a few other tricks to see if it gets those."
   ]
  },
  {
   "cell_type": "code",
   "execution_count": 39,
   "metadata": {},
   "outputs": [
    {
     "name": "stdout",
     "output_type": "stream",
     "text": [
      "[('queen', 0.7118192911148071), ('monarch', 0.6189674139022827), ('princess', 0.5902431607246399), ('crown_prince', 0.5499460697174072), ('prince', 0.5377321243286133), ('kings', 0.5236844420433044), ('Queen_Consort', 0.5235945582389832), ('queens', 0.5181134343147278), ('sultan', 0.5098593235015869), ('monarchy', 0.5087411999702454)]\n"
     ]
    }
   ],
   "source": [
    "print(currentmodel.wv.most_similar(positive=['woman', 'king'], negative=['man'])) #man:king as woman:_?___ QUEEN! "
   ]
  },
  {
   "cell_type": "markdown",
   "metadata": {},
   "source": [
    "Try another analogy: boy is to man as girl is to? "
   ]
  },
  {
   "cell_type": "code",
   "execution_count": 40,
   "metadata": {},
   "outputs": [
    {
     "name": "stdout",
     "output_type": "stream",
     "text": [
      "[('boy', 0.874837338924408), ('teenager', 0.6932151913642883), ('teenage_girl', 0.6277071237564087), ('lad', 0.6241019368171692), ('kid', 0.6167631149291992), ('schoolboy', 0.6000924110412598), ('teen_ager', 0.5852149724960327), ('boys', 0.5807874202728271), ('youngster', 0.5773991346359253), ('guy', 0.5459756851196289)]\n"
     ]
    }
   ],
   "source": [
    "print(currentmodel.wv.most_similar(positive=['girl', 'man'], negative=['woman'])) #boy:man as girl:_?___ WOMAN!"
   ]
  },
  {
   "cell_type": "markdown",
   "metadata": {},
   "source": [
    "A trickier trick! Can Word2Vec which word doesn't match? It should be able to tell based on which word has the lowest cosine similarity to all the other words. "
   ]
  },
  {
   "cell_type": "code",
   "execution_count": 41,
   "metadata": {},
   "outputs": [
    {
     "data": {
      "text/plain": [
       "'noodle'"
      ]
     },
     "execution_count": 41,
     "metadata": {},
     "output_type": "execute_result"
    }
   ],
   "source": [
    "currentmodel.doesnt_match(\"noodle chicken turkey beef\".split()) #does it get that noodle is not a meat?"
   ]
  },
  {
   "cell_type": "code",
   "execution_count": 166,
   "metadata": {},
   "outputs": [
    {
     "data": {
      "text/plain": [
       "'toe'"
      ]
     },
     "execution_count": 166,
     "metadata": {},
     "output_type": "execute_result"
    }
   ],
   "source": [
    "currentmodel.doesnt_match(\"tomato potato toe\".split()) #does it get that a toe is not a fruit or veggie?"
   ]
  },
  {
   "cell_type": "markdown",
   "metadata": {},
   "source": [
    "Let's look at the most \"feminine\" and \"masculine\" words\n",
    "\n",
    "*Like how we asked Word2Vec to solve the anaology of king and queen, we're going to isolate gender. \n",
    "*If we take woman and subtract man, we get just the parts that about being feminine, since we subtracted out parts that are shared between men and woman (e.g., being a human, adult, noun, singular, etc.). Now we're asking what are the most similar words to this leftover vector, that represents femininity?"
   ]
  },
  {
   "cell_type": "code",
   "execution_count": 42,
   "metadata": {},
   "outputs": [
    {
     "name": "stdout",
     "output_type": "stream",
     "text": [
      "[('she', 0.45412713289260864), ('her', 0.39712798595428467), ('Certified_Nurse_Midwife', 0.3824717700481415), ('Ms.', 0.37514764070510864), ('silicone_gel_implant', 0.3704040050506592), ('girlhood', 0.37001776695251465), ('nurse_midwife', 0.369699090719223), ('undergo_hysterectomy', 0.36893025040626526), ('silicone_breast_implants', 0.3683786988258362), ('breastfeeds', 0.36699435114860535)]\n"
     ]
    }
   ],
   "source": [
    "print(currentmodel.wv.most_similar(positive=['woman'], negative=['man'], topn=10)) #what are the most feminine words?"
   ]
  },
  {
   "cell_type": "code",
   "execution_count": 168,
   "metadata": {},
   "outputs": [
    {
     "name": "stdout",
     "output_type": "stream",
     "text": [
      "[('Shaun_Maloney_Aiden_McGeady', 0.3502722382545471), ('tactically_adept', 0.3487197458744049), ('Matt_Bramald', 0.3400961458683014), ('strongside_LB', 0.3376367688179016), ('newboy', 0.33329281210899353), ('Philip_Boampong', 0.3315233886241913), ('joker', 0.3312978744506836), ('superpest', 0.330258846282959), ('TRENDING_UP', 0.33007559180259705), ('Felipe_Claybrooks', 0.3289524018764496)]\n"
     ]
    }
   ],
   "source": [
    "print(currentmodel.wv.most_similar(positive=['man'], negative=['woman'], topn=10)) #what are the most masculine words?"
   ]
  },
  {
   "cell_type": "markdown",
   "metadata": {},
   "source": [
    "**Visualize Word-Vector Neighborhoods**"
   ]
  },
  {
   "cell_type": "markdown",
   "metadata": {},
   "source": [
    "Try visualizing a set of words:"
   ]
  },
  {
   "cell_type": "code",
   "execution_count": 46,
   "metadata": {
    "collapsed": true
   },
   "outputs": [],
   "source": [
    "my_word_list=[]\n",
    "my_word_vectors=[]\n",
    "label=[]\n",
    "\n",
    "words_to_explore= ['woman', 'man', 'queen', 'king', 'human', 'person', 'girl', 'child', 'boy', 'salad', 'lettuce', 'tomato', 'soup', 'turnip', 'arugula', 'pepper', 'greens', 'barley', 'bean', 'stew', 'carrot']\n",
    "\n",
    "for i in words_to_explore:   \n",
    "    if my_word_list not in my_word_list:\n",
    "        my_word_list.append(i)\n",
    "        my_word_vectors.append(currentmodel.wv[i])"
   ]
  },
  {
   "cell_type": "markdown",
   "metadata": {},
   "source": [
    "OR, try the most feminine and most masculine words:"
   ]
  },
  {
   "cell_type": "code",
   "execution_count": 209,
   "metadata": {
    "collapsed": true
   },
   "outputs": [],
   "source": [
    "my_word_list=[]\n",
    "my_word_vectors=[]\n",
    "label=[]\n",
    "\n",
    "for i in currentmodel.wv.most_similar(positive=['woman'], negative=['man'], topn=30):   #30 most feminine words\n",
    "    if my_word_list not in my_word_list:\n",
    "        my_word_list.append(i[0])\n",
    "        my_word_vectors.append(currentmodel.wv[i[0]])\n",
    "        label.append('fem')\n",
    "\n",
    "for i in currentmodel.wv.most_similar(positive=['man'], negative=['woman'], topn=30):   #30 most masculine words\n",
    "    if my_word_list not in my_word_list:\n",
    "        my_word_list.append(i[0])\n",
    "        my_word_vectors.append(currentmodel.wv[i[0]])\n",
    "        label.append('masc')"
   ]
  },
  {
   "cell_type": "code",
   "execution_count": 47,
   "metadata": {
    "collapsed": true
   },
   "outputs": [],
   "source": [
    "#review of tsne: http://scikit-learn.org/stable/modules/generated/sklearn.manifold.TSNE.html\n",
    "#modified code from https://www.kaggle.com/jeffd23/visualizing-word-vectors-with-t-sne/code\n",
    "\n",
    "def tsne_plot(words, vectors, iterations, seed, title): \n",
    "    \"Creates and TSNE model and plots it\"\n",
    "    tsne_model = TSNE(perplexity=5, n_components=2, init='pca', n_iter=iterations, random_state=seed) #you may need to tune these, epsecially the perplexity. #Use PCA to reduce dimensionality to 2-D, an \"X\" and a \"Y \n",
    "    new_values = tsne_model.fit_transform(vectors)\n",
    "\n",
    "    x = []\n",
    "    y = []\n",
    "    for value in new_values:\n",
    "        x.append(value[0])\n",
    "        y.append(value[1])\n",
    "        \n",
    "    plt.figure(figsize=(10, 10)) \n",
    "    for i in range(len(x)):\n",
    "        plt.scatter(x[i],y[i])\n",
    "        plt.annotate(words[i],\n",
    "                     xy=(x[i], y[i]),\n",
    "                     xytext=(5, 2),\n",
    "                     textcoords='offset points',\n",
    "                     ha='right',\n",
    "                     va='bottom')\n",
    "    plt.ylabel(\"Latent Dimension 1\") #Some pyplot reminders: https://matplotlib.org/users/pyplot_tutorial.html\n",
    "    plt.xlabel(\"Latent Dimension 2\")\n",
    "    plt.title(title)\n",
    "    plt.show()"
   ]
  },
  {
   "cell_type": "code",
   "execution_count": 48,
   "metadata": {},
   "outputs": [
    {
     "data": {
      "image/png": "[encoded data removed]",
      "text/plain": [
       "<matplotlib.figure.Figure at 0x1ccc6428400>"
      ]
     },
     "metadata": {},
     "output_type": "display_data"
    }
   ],
   "source": [
    "tsne_plot(my_word_list, my_word_vectors, 3000, 23,  \"TSNE Visualization of Word-Vectors\") #don't use too many words, won't finish running"
   ]
  },
  {
   "cell_type": "markdown",
   "metadata": {},
   "source": [
    "If your plot doesn't look meaninful, want to see how robust the patterns are, or you want to understand TSNE better, try tuning parameters (especially the perplexity) and take a look at this great [article](https://distill.pub/2016/misread-tsne/)."
   ]
  }
 ],
 "metadata": {
  "kernelspec": {
   "display_name": "Python 3",
   "language": "python",
   "name": "python3"
  },
  "language_info": {
   "codemirror_mode": {
    "name": "ipython",
    "version": 3
   },
   "file_extension": ".py",
   "mimetype": "text/x-python",
   "name": "python",
   "nbconvert_exporter": "python",
   "pygments_lexer": "ipython3",
   "version": "3.6.3"
  }
 },
 "nbformat": 4,
 "nbformat_minor": 1
}
