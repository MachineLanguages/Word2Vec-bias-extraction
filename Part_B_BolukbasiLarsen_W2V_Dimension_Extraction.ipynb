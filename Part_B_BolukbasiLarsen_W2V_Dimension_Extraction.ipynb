{
 "cells": [
  {
   "cell_type": "markdown",
   "metadata": {},
   "source": [
    "Notebook to accompany article by Arseniev-Koehler and Foster, \"Teaching an algorithm what it means to be fat: machine-learning as a model for cultural learning.\" All code last checked on Python 3 in Windows 6/24/2018. Please cite our paper or [GitHub repo](https://github.com/arsena-k/Word2Vec-bias-extraction) if reused. "
   ]
  },
  {
   "cell_type": "markdown",
   "metadata": {},
   "source": [
    "# More Manly or Womanly? Measuring Cultural Dimensions in Word2Vec Models with the Bolukbasi and Larsen Methods\n",
    "\n",
    "This project explores how language around body weight in the news is loaded with meanings of gender, morality, healthiness, and socio-economic status (SES). For example, is \"obese\" more masculine or feminine? What about \"slender\"? \n",
    "\n",
    "In this notebook, extract cultural dimensioons correpondig to gender, morality, health, and SES, respectively. We use two methods, first the Bolukbasi method and then the Larsen method. The Bolukbasi method is inspired by [Bolukbasi et. al. 2016](https://arxiv.org/abs/1607.06520) and the Larsen method is inspoired by [Larsen et. al. 2016](https://arxiv.org/abs/1512.09300?context=cs). \n",
    "\n",
    "For a third method to classify words accoridng to these cultural dimensnons, that involves a quite different framework, see our notebook for [Part D](https://github.com/arsena-k/Word2Vec-bias-extraction). \n",
    "\n",
    "We start by loading up a trained Word2Vec model on news. We include two possible pre-trained models from our paper. See [Part A](https://github.com/arsena-k/Word2Vec-bias-extraction) of this project for a tutorial on training and understanding a Word2Vec model. Or, for a review of Word2Vec see this [blog post](http://mccormickml.com/2016/04/19/word2vec-tutorial-the-skip-gram-model/). "
   ]
  },
  {
   "cell_type": "markdown",
   "metadata": {},
   "source": [
    "**Table of Contents**\n",
    "\n",
    "* Part 1: [Load up libraries and a Word2Vec Model](#LoadUp)\n",
    "* Part 2: [Explanation of Classification Method](#Motivation)\n",
    "* Part 3: [Functions to Extract a Dimension](#HelperFunctions)\n",
    "* Part 4: [Robustness Checks](#Robustness)\n",
    "* Part 5: [Visualize how this Dimension Classifies words according to Gender, Morality, Health, and SES](#Results)\n",
    "\n",
    "\n",
    "*This is a long notebook. For an abbreviated version, just do Parts 1-2 to get the ideas and see simple examples in Python. Or, to jump to visualizing the results, skip Part 3.*"
   ]
  },
  {
   "cell_type": "markdown",
   "metadata": {},
   "source": [
    "<a id='LoadUp'></a>\n",
    "# Part 1. Load up libraries and a Word2Vec Model"
   ]
  },
  {
   "cell_type": "code",
   "execution_count": 1,
   "metadata": {},
   "outputs": [
    {
     "name": "stderr",
     "output_type": "stream",
     "text": [
      "C:\\Users\\Alina Arseniev\\Anaconda3\\lib\\site-packages\\gensim\\utils.py:1197: UserWarning: detected Windows; aliasing chunkize to chunkize_serial\n",
      "  warnings.warn(\"detected Windows; aliasing chunkize to chunkize_serial\")\n"
     ]
    }
   ],
   "source": [
    "#load up libraries (you may need to install some of these, with conda install or pip install, if not already installed)\n",
    "import numpy as np\n",
    "from csv import writer\n",
    "from sklearn.metrics import accuracy_score\n",
    "from sklearn.model_selection import KFold \n",
    "from gensim.models import Word2Vec, KeyedVectors\n",
    "from sklearn import preprocessing\n",
    "from statistics import mode, mean, stdev\n",
    "import matplotlib.pyplot as plt\n",
    "from scipy import spatial\n",
    "from seaborn import stripplot\n",
    "from pylab import rcParams\n",
    "from pylab import xlim\n",
    "from IPython.display import Image\n",
    "from IPython.core.display import HTML\n",
    "%matplotlib inline\n",
    "#np.set_printoptions(threshold=np.inf) #uncomment this to print full output, such as to see all elements in a high dimensional vector"
   ]
  },
  {
   "cell_type": "markdown",
   "metadata": {},
   "source": [
    "**Load up a pretrained Word2Vec Model**\n",
    "\n",
    "*Option 1:* Use the Word2Vec model that we used in our paper, and trained on New York Times articles on body weight and health. \n",
    "Please see our paper for training details. \n",
    "* Download our model, called 'modelA_ALLYEARS_500dim_10CW' from our [OSF](https://osf.io/jvarx/files/), and put it in your working directory. Your working directory is the folder where this Jupyter notebook is currently saved. As written, the code assumes that your downloads folder is your working directory. "
   ]
  },
  {
   "cell_type": "code",
   "execution_count": 2,
   "metadata": {
    "collapsed": true
   },
   "outputs": [],
   "source": [
    "#    An example for a PC computer if your model is in your downloads folder, and you're using a model named \"modelA_ALLYEARS_500dim_10CW\" \n",
    "#currentmodel=  Word2Vec.load(\"C:/Users/Alina Arseniev/Downloads/modelA_ALLYEARS_500dim_10CW\")\n",
    "\n",
    "#   An example for a Mac if your model is in your downloads folder, and you're using a model named \"modelA_ALLYEARS_500dim_10CW\" \n",
    "#currentmodel=  Word2Vec.load(\"~/Downloads/modelA_ALLYEARS_500dim_10CW\")\n",
    "\n",
    "#   An example based on my set-up of folders:\n",
    "currentmodel=  Word2Vec.load(\"Word2VecModels/modelA_ALLYEARS_500dim_10CW\") #load up a trained Word2Vec model. You'll need to tailor this path to your computer"
   ]
  },
  {
   "cell_type": "markdown",
   "metadata": {},
   "source": [
    "*Option 2:* Use a pretrained Word2Vec Model from Google, trained on Google News\n",
    "* Download a pre-trained model on GoogleNews, described on this [site](https://code.google.com/archive/p/word2vec/) and [download the model here](https://drive.google.com/file/d/0B7XkCwpI5KDYNlNUTTlSS21pQmM/edit?usp=sharing).\n",
    "* Extract the downloaded files, and make sure you have the file called \"GoogleNews-vectors-negative300.bin.gz\" in your working directory. Your working directory is the folder where this Jupyter notebook is currently saved. As written, the code assumes that your downloads folder is your working directory. \n",
    "* Some of the vocabulary words used in this notebook may not exist in the Google News model, since the vocabulary words used in this paper were selected based on a Word2Vec model trained on the New York Times. "
   ]
  },
  {
   "cell_type": "code",
   "execution_count": 2,
   "metadata": {
    "collapsed": true
   },
   "outputs": [],
   "source": [
    "#   An example for a PC computer if your model is in your downloads folder, and you're using the Google model \n",
    "#currentmodel=  KeyedVectors.load_word2vec_format('C:/Users/Alina Arseniev/Downloads/GoogleNews-vectors-negative300.bin.gz', limit=500000, binary=True)\n",
    "\n",
    "#   An example for a Mac if your model is in your downloads folder, and you're using the Google model \n",
    "#currentmodel=  KeyedVectors.load_word2vec_format(\"~/Downloads/GoogleNews-vectors-negative300.bin.gz\",limit=500000, binary=True)\n",
    "\n",
    "#   An example based on my set-up of folders:\n",
    "currentmodel=  KeyedVectors.load_word2vec_format('GoogleNews-vectors-negative300.bin.gz',limit=500000, binary=True) #the limit is how many of the vocabulary words (ordered by frequency) are included in the model, limiting the vocabulary makes it easier to load in the model\n"
   ]
  },
  {
   "cell_type": "code",
   "execution_count": 3,
   "metadata": {},
   "outputs": [
    {
     "name": "stderr",
     "output_type": "stream",
     "text": [
      "C:\\Users\\Alina Arseniev\\Anaconda3\\lib\\site-packages\\ipykernel_launcher.py:1: DeprecationWarning: Call to deprecated `most_similar` (Method will be removed in 4.0.0, use self.wv.most_similar() instead).\n",
      "  \"\"\"Entry point for launching an IPython kernel.\n"
     ]
    },
    {
     "data": {
      "text/plain": [
       "[('young_woman', 0.7615835070610046),\n",
       " ('girl', 0.6503051519393921),\n",
       " ('young_girl', 0.6443690061569214),\n",
       " ('housewife', 0.6167056560516357),\n",
       " ('man', 0.6113157868385315)]"
      ]
     },
     "execution_count": 3,
     "metadata": {},
     "output_type": "execute_result"
    }
   ],
   "source": [
    "currentmodel.most_similar('woman', topn=5) #a quick check to see if the model loaded correctly. If so, you'll see the 5 most similar words to \"woman\" "
   ]
  },
  {
   "cell_type": "markdown",
   "metadata": {},
   "source": [
    "<a id='Motivation'></a> \n",
    "# Part 2. Explanation of Overall Classification Method"
   ]
  },
  {
   "cell_type": "markdown",
   "metadata": {},
   "source": [
    "\"Dimension,\" \"direction\" and \"subspace\" are used in this notebook interchangeably to refer to a vector that captures a binary construct such as gender which is often portrayed as ranging continuously from hypermasculine to hyperfeminine, or socioeconomic status (SES) which ranges from poor to rich. \n",
    "\n",
    "To classify a word-vector according to a binary construct, we first find a dimension in a trained Word2Vec model that correponds to the binary construct (e.g., finding a dimension corresponding to gender). Then, we project the word-vector onto this dimension. This projection gives a scalar corresponding to how far the word-vector lies at one end of the dimension or another (e.g., how masculine or feminine the word-vector is). The Bolukbasi and Larsen methods are two different ways to extract a dimension more robustly, as will be explained shortly. \n"
   ]
  },
  {
   "cell_type": "markdown",
   "metadata": {},
   "source": [
    "__*For a more visual explanation, imagine a 3-D vector space with the word-vectors for woman and man:*__"
   ]
  },
  {
   "cell_type": "code",
   "execution_count": 2,
   "metadata": {
    "collapsed": true
   },
   "outputs": [],
   "source": [
    "Image(url= \"https://raw.githubusercontent.com/arsena-k/Word2Vec-bias-extraction/master/ProjectionExplanation1.jpg\")"
   ]
  },
  {
   "cell_type": "markdown",
   "metadata": {},
   "source": [
    "**MORE detail on how we can extract dimension (like gender)**\n",
    "\n",
    "\n",
    "Let's look at gender as an example. To extract a gender dimension, we want to find a vector that correspond to gender, which ranges from hypermasculinity to femininity. We'll call this vector $\\overrightarrow{g}$. This vector might be visualized as an axis ranging from negative (masculine) to positive (feminine) with gender-neutral at 0. We can find $\\overrightarrow{g}$ by subtracting feminine word-vectors from their masculine word-vector counterparts (such as $\\overrightarrow{woman}-\\overrightarrow{man}$). Specifically, if we assume that the meanings of woman and man are largely equivalent (both human, adults, nouns, singular, etc.) except for their opposite gender components, then subtraction cancels out all but the gender differences across each component. This gender component is our gender direction ($\\overrightarrow{g}$). \n",
    "\n",
    "Each word-vector in our model is made up of N components, where N is the dimensionality of the vector space. We can write each word-vector in terms of these N components, below. For example, the first component is $\\overrightarrow{X}$, the second component is $\\overrightarrow{Y}$, and the Nth component is $\\overrightarrow{N}$. For brevity, in the math below we refer to the word-vector for woman as $\\overrightarrow{w}$ and the word-vector for man as $\\overrightarrow{m}$.\n",
    "\n",
    "\n",
    "$\\overrightarrow{w} = w_{1}\\overrightarrow{X} + w_{2}\\overrightarrow{Y} + ... + w_{N}\\overrightarrow{N}$\n",
    "and \n",
    "$\\overrightarrow{m} = m_{1}\\overrightarrow{X} + m_{2}\\overrightarrow{Y} + ... + m_{N}\\overrightarrow{N}$\n",
    "\n",
    "\n",
    "We assume that $\\overrightarrow{w} - \\overrightarrow{m}$ = $\\overrightarrow{g}$, where $\\overrightarrow{g}$ is a gender difference vector as described above.\n",
    "\n",
    "\n",
    "$\\overrightarrow{w} - \\overrightarrow{m}$= $(w_{1}\\overrightarrow{X} + w_{2}\\overrightarrow{Y} + ... + w_{N}\\overrightarrow{N}) - ( m_{1}\\overrightarrow{X} + m_{2}\\overrightarrow{Y} + ... + m_{N}\\overrightarrow{N})$\n",
    "\n",
    "\n",
    "These components may be rearranged:\n",
    "\n",
    "$\\overrightarrow{w} - \\overrightarrow{m} = (w_{1}- m_{1})\\overrightarrow{X} + (w_{2}- m_{2})\\overrightarrow{Y} + ... + (w_{N} - m_{N})\\overrightarrow{N}$\n",
    "\n",
    "$\\overrightarrow{w} - \\overrightarrow{m} = g_{1}\\overrightarrow{X} +  g_{2}\\overrightarrow{Y} + ... + g_{N}\\overrightarrow{N}$\n",
    "\n",
    "This leaves us with a N-dimensional vector corresponding to the vector $\\overrightarrow{g}$, corresponding to *differences* between $\\overrightarrow{man}$ and $\\overrightarrow{woman}$.\n",
    "\n",
    "More specifically, $\\overrightarrow{+g}$ points to femininity and $\\overrightarrow{-g}$ points to masculinity, as illustrated below.\n",
    "\n",
    "$- ( \\overrightarrow{w} - \\overrightarrow{m}) = -\\overrightarrow{g}$\n",
    "\n",
    "$-  \\overrightarrow{w} + \\overrightarrow{m} = -\\overrightarrow{g}$\n",
    "\n",
    "$  \\overrightarrow{m} - \\overrightarrow{w} = \\overrightarrow{g}$\n",
    "\n",
    "\n",
    "* We can now use this gender dimension to classify a word as feminine or masculine, by projecting that new word onto the gender dimension. Since our vector points from hypermasculinity to hyperfemininity, a larger, positive projection of a word onto the gender dimension suggests this word is learned as highly feminine. And a larger, negative projection of a word onto the gender dimension suggests that this word is learned as highly masculine. A word with a projection near zero suggests that Word2Vec learned this word as gender-neutral. \n",
    "* Note that if we had subtracted $\\overrightarrow{woman}$ from $\\overrightarrow{man}$, we would get the same vector and substantive conclusions, but it would point the opposite direction. In other words, the signs would be opposite (e.g., a negative projection would correspond to femininity rather than masculinity).\n",
    "* In this notebook, we extract **gender, morality, health,** and **ses** in this way, adding a few tricks for robustness that will be explained in Part 2.\n",
    "\n",
    "\n"
   ]
  },
  {
   "cell_type": "markdown",
   "metadata": {},
   "source": [
    "### Extract a gender direction from our pretrained Word2Vec model"
   ]
  },
  {
   "cell_type": "code",
   "execution_count": 7,
   "metadata": {},
   "outputs": [
    {
     "name": "stderr",
     "output_type": "stream",
     "text": [
      "C:\\Users\\Alina Arseniev\\Anaconda3\\lib\\site-packages\\ipykernel_launcher.py:1: DeprecationWarning: Call to deprecated `__getitem__` (Method will be removed in 4.0.0, use self.wv.__getitem__() instead).\n",
      "  \"\"\"Entry point for launching an IPython kernel.\n"
     ]
    }
   ],
   "source": [
    "gender_direction_trial= currentmodel['woman']-currentmodel['man'] #subtracting the word-vector for man from that for woman\n",
    "print(gender_direction_trial) #this \"direction\" representing gender is just an N-dimensional vector. Not so meaningful to a human!"
   ]
  },
  {
   "cell_type": "markdown",
   "metadata": {},
   "source": [
    "### Now how do we use this gender direction to find how a word-vector is gendered? \n",
    "We [project](https://en.wikipedia.org/wiki/Vector_projection) the word-vector onto the gender direction! A more visual explantion below. "
   ]
  },
  {
   "cell_type": "markdown",
   "metadata": {},
   "source": [
    "__*Thinking more about our gender direction:*__"
   ]
  },
  {
   "cell_type": "code",
   "execution_count": 5,
   "metadata": {
    "collapsed": true
   },
   "outputs": [],
   "source": [
    "Image(url= \"https://raw.githubusercontent.com/arsena-k/Word2Vec-bias-extraction/master/ProjectionExplanation2.jpg\")"
   ]
  },
  {
   "cell_type": "markdown",
   "metadata": {},
   "source": [
    "***\n",
    "\n",
    "__*Projecting a word onto our gender direction:*__"
   ]
  },
  {
   "cell_type": "code",
   "execution_count": null,
   "metadata": {
    "collapsed": true
   },
   "outputs": [],
   "source": [
    "Image(url= \"https://raw.githubusercontent.com/arsena-k/Word2Vec-bias-extraction/master/ProjectionExplanation3.jpg\")"
   ]
  },
  {
   "cell_type": "markdown",
   "metadata": {},
   "source": [
    "***\n",
    "__*Projecting a word onto our gender direction:*__"
   ]
  },
  {
   "cell_type": "code",
   "execution_count": null,
   "metadata": {
    "collapsed": true
   },
   "outputs": [],
   "source": [
    "Image(url= \"https://raw.githubusercontent.com/arsena-k/Word2Vec-bias-extraction/master/ProjectionExplanation4.jpg\")"
   ]
  },
  {
   "cell_type": "markdown",
   "metadata": {},
   "source": [
    "Let's do this for a few words we think will be feminine or masculine, to check that this is working:\n",
    "\n",
    "First, load up a few helper functions:"
   ]
  },
  {
   "cell_type": "code",
   "execution_count": 59,
   "metadata": {
    "collapsed": true
   },
   "outputs": [],
   "source": [
    "%run helpers_parts_BandC.py"
   ]
  },
  {
   "cell_type": "markdown",
   "metadata": {},
   "source": [
    "Do the projections for a few words:"
   ]
  },
  {
   "cell_type": "code",
   "execution_count": 8,
   "metadata": {},
   "outputs": [
    {
     "name": "stderr",
     "output_type": "stream",
     "text": [
      "C:\\Users\\Alina Arseniev\\Anaconda3\\lib\\site-packages\\ipykernel_launcher.py:1: DeprecationWarning: Call to deprecated `__getitem__` (Method will be removed in 4.0.0, use self.wv.__getitem__() instead).\n",
      "  \"\"\"Entry point for launching an IPython kernel.\n",
      "C:\\Users\\Alina Arseniev\\Anaconda3\\lib\\site-packages\\ipykernel_launcher.py:2: DeprecationWarning: Call to deprecated `__getitem__` (Method will be removed in 4.0.0, use self.wv.__getitem__() instead).\n",
      "  \n",
      "C:\\Users\\Alina Arseniev\\Anaconda3\\lib\\site-packages\\ipykernel_launcher.py:3: DeprecationWarning: Call to deprecated `__getitem__` (Method will be removed in 4.0.0, use self.wv.__getitem__() instead).\n",
      "  This is separate from the ipykernel package so we can avoid doing imports until\n",
      "C:\\Users\\Alina Arseniev\\Anaconda3\\lib\\site-packages\\ipykernel_launcher.py:4: DeprecationWarning: Call to deprecated `__getitem__` (Method will be removed in 4.0.0, use self.wv.__getitem__() instead).\n",
      "  after removing the cwd from sys.path.\n"
     ]
    }
   ],
   "source": [
    "scalarproject_fem_1 = project(currentmodel['lady'],normalizeME(gender_direction_trial)) \n",
    "scalarproject_fem_2 = project(currentmodel['womanly'],normalizeME(gender_direction_trial))\n",
    "scalarproject_masc_1 = project(currentmodel['king'],normalizeME(gender_direction_trial))\n",
    "scalarproject_masc_2 = project(currentmodel['dude'],normalizeME(gender_direction_trial))"
   ]
  },
  {
   "cell_type": "code",
   "execution_count": 9,
   "metadata": {},
   "outputs": [
    {
     "name": "stdout",
     "output_type": "stream",
     "text": [
      "[0.00637948] [0.00459259] [-0.00783535] [-0.01045029]\n"
     ]
    }
   ],
   "source": [
    "print(scalarproject_fem_1, scalarproject_fem_2, scalarproject_masc_1, scalarproject_masc_2) #take a look at the projections"
   ]
  },
  {
   "cell_type": "markdown",
   "metadata": {},
   "source": [
    "If this is working on your trained Word2Vec model, you should see that the feminine words lie on one side of the gender direction, and the masculine words on the other side of the gender direction. In my model, for example, all the feminine words have positive scalar projections and all the masculine words have negative scalar projections. \n",
    "\n",
    "To find dimensions for other concepts, we just use other training words, like healthy-ill to find a \"health\" direction. Try it out by modifying the code above! "
   ]
  },
  {
   "cell_type": "markdown",
   "metadata": {},
   "source": [
    "### We can do this more robustly with the Bolukbasi or Larsen Method...\n",
    "\n",
    "...so far, our methods have captured the true gender difference alongside other differences and error. To extract a less noisy gender difference, we use either the Bolukbasi or Larsen Method.\n",
    "\n",
    "#### Bolukbasi Method\n",
    "\n",
    "In the Bolukbasi method, we use a variety of word pairs beyond woman and man, such as she-he, aunt-uncle, girl-boy  to get many versions of a \"gender dimension.\" Then, we use *Principal Component Analysis* to extract the dominant direction among all these versions, from the various other noisy directions and errors. \n",
    "\n",
    "Principal Component Analysis is a method to identify the main directions of variation (principal components) in a group of vectors. The eigenvalue of each principal component corresponds to how much of the variation the principal component explains; the principal component which explains the most variation is called the first principal component. If the group of vectors tend to represent a single direction with some noise (such as a gender direction with noise), then the first principal component will explain most of the variation in the dataset.\n",
    "\n",
    "#### Larsen Method\n",
    "The Larsen method uses a few exemplars to represent femininty and a few differnt exemplars to represent masculinity. Specifically, we take a variety of words representing femininity, such as she, her, and woman, and then take the *average* of these vectors to get a better proxy for femininity. We do the same for masculinity, by taking a variety of words representing masculinity, such as he, him, and man, and then take the *average* of these vectors to get a better proxy for masculinity. Then  we subtract these two averages to get a less noisy gender direction.\n",
    "\n",
    "\n",
    "The remainder of this notebook tries to extracts a more robust direction using both methods on a large set of training words. We look at three directions in this notebook: gender, morality, health, and SES. This notebook also includes steps to evaluate the robustness of the extracted direction on the training words, and on a new, unseen set of testing words. Finally, we project a new set of words, (obesity keyword) onto the direction to see the meaning of obesity with respect to gender, morality, health, and SES. "
   ]
  },
  {
   "cell_type": "markdown",
   "metadata": {},
   "source": [
    "### Now, let's extract a dimension more robustly\n",
    "\n",
    "<a id='HelperFunctions'></a> \n",
    "\n",
    "# Part 3. Some Helper Functions to Extract a Dimension"
   ]
  },
  {
   "cell_type": "code",
   "execution_count": 57,
   "metadata": {},
   "outputs": [],
   "source": [
    "%run helpers_parts_BandC.py\n",
    "#helpers_parts_BandC.py has a lot of longer functions that we'll use, in a separate file so that this notebook is more visually appealing\n",
    "#%load helpers_parts_BandC.py #uncomment and run this to directly see ALL contents of helpers_partB.py that we'll use, but the most important ones are explained below"
   ]
  },
  {
   "cell_type": "markdown",
   "metadata": {},
   "source": [
    "**select_training_set()** is a function to select correponding training words to represent the two ends of the dimension:\n",
    "\n",
    "* Under the hood, this function includes sets of words that represent extremes of the dimension we want to capture. \n",
    "* To look at the final list of words, check out \"pos_word_list\" and \"neg_word_list\" or refer to the code in helpers_partB.py\n",
    "* To keep track of the words, we refer to words at one end of any dimension as pos_words, and the other end as neg_words. \n",
    "* Our methods were developed using a Word2Vec model trained on the New York Times, so the vocabulary used in training and testing may not exactly match the vocabulary of your model. If a word is not in the vocabulary of your model, this function by default lets you know and then replaces the word with a generic word. For example, if \"teenage_girl\", or \"twin_sister\" is not in the vocabulary they will be replaced with the generic feminine word for the gender dimension, \"woman.\" \n",
    "\n",
    "It is *fed*:\n",
    "* the dimension we're interested in ('gender', 'moral', 'health', or 'ses')\n",
    "* our trained Word2Vec model we loaded earlier in this notebook, called currentmodel\n",
    "\n",
    "It *returns*:\n",
    "* pos_word_list= list of the words used for training the \"positive\" side of the dimension\n",
    "* neg_word_list= list of the words used for training the \"negative\" side of the dimension\n",
    "* pos_words= word-vectors corresponding to words used for training the \"positive\" side of the dimension\n",
    "* neg_words= word-vectors corresponding to words used for training the \"negative\" side of the dimension\n",
    "* train_classes_pos= expected classes of words used to train the \"positive\" side of the dimension\n",
    "* train_classes_neg= expected classes of words used to train the \"negative\" side of the dimension\n",
    "\n",
    "It also *prints* the number of positive and negative words used in training."
   ]
  },
  {
   "cell_type": "code",
   "execution_count": 14,
   "metadata": {},
   "outputs": [
    {
     "name": "stdout",
     "output_type": "stream",
     "text": [
      "Number of pos training words: 70 Number of neg training words: 70\n"
     ]
    }
   ],
   "source": [
    "#example of how to use\n",
    "pos_word_list, neg_word_list, pos_words, neg_words, train_classes_pos, train_classes_neg = select_training_set('gender', currentmodel)"
   ]
  },
  {
   "cell_type": "markdown",
   "metadata": {},
   "source": [
    "**PCA_get_directionVec** is a function to perform Principal Component Analysis (PCA) on the difference-vectors.\n",
    "\n",
    "It is *fed*:\n",
    "* pos_words= word-vectors corresponding to words used for training the \"positive\" side of the dimension\n",
    "* neg_words= word-vectors corresponding to words used for training the \"negative\" side of the dimension\n",
    "* optionally, indices to specify the set of training words from pos_words and neg_words we'll use, the default is None such that all training data is used.\n",
    "* our trained Word2Vec model we loaded earlier in this notebook, called currentmodel\n",
    "\n",
    "It *returns*:\n",
    "* a direction corresponding to the training words it was fed, such as direction to represent gender, as described earlier. \n",
    "* eigenvalues found in PCA that indicate how much signal for this direction there is in the data\n",
    "\n",
    "For a review of PCA, see [this article](http://sebastianraschka.com/Articles/2014_pca_step_by_step.html) which I modified code from to create this function. "
   ]
  },
  {
   "cell_type": "code",
   "execution_count": 10,
   "metadata": {
    "collapsed": true
   },
   "outputs": [],
   "source": [
    "#example of how to use, to get the direction (vector) based on the pos and neg training words it was fed\n",
    "genderdirectionVec= PCA_get_directionVec(pos_words, neg_words, currentmodel, train_index_list=None)[0] "
   ]
  },
  {
   "cell_type": "markdown",
   "metadata": {},
   "source": [
    "**MEAN_get_directionVec_differences()** is a function to take the difference between the means of two set of word-vectors. \n",
    "\n",
    "It is *fed*:\n",
    "* positive and negative training words we'll select with select_training_set()\n",
    "* our trained Word2Vec model we loaded earlier in this notebook, called currentmodel\n",
    "* optionally, indices to specify the set of training words from pos_words and neg_words we'll use, the default is None such that all training data is used.  \n",
    "\n",
    "It *returns*:\n",
    "* a direction corresponding to the training words it was fed, such as direction to represent gender, as described earlier. \n",
    "* for example, given the gender training word-vectors, it *returns* the difference between the mean of the feminine word-vecotrs and the mean of the masculine word-vectors."
   ]
  },
  {
   "cell_type": "code",
   "execution_count": null,
   "metadata": {
    "collapsed": true
   },
   "outputs": [],
   "source": [
    "#example of how to use\n",
    "genderdirectionVec= MEAN_get_directionVec_differences(pos_words, neg_words, currentmodel, train_index_list=None)"
   ]
  },
  {
   "cell_type": "markdown",
   "metadata": {},
   "source": [
    "\n",
    "<p> <span style=\"color:blue\">**AT THIS POINT,** </span> you can continue to Part 4 to examine the robustness of these methods, or skip right to [Part 5](#Results) to just get to some results. <p>\n",
    " "
   ]
  },
  {
   "cell_type": "markdown",
   "metadata": {},
   "source": [
    "<a id='Robustness'></a> \n",
    "# Part 4. Robustness Checks"
   ]
  },
  {
   "cell_type": "markdown",
   "metadata": {},
   "source": [
    "**FIRST, Let's see how robust our methods are to the specific training words we use. We'll do cross validation on training words:**\n",
    "\n",
    "Cross validation, with **do_kfold()** lets us see how well our dimension classifies our training words. More specifically, we use a subset of training words to extract the dimension and and look at how the dimension classifies 1) this subset of words and 2) the held-out words. We can do this for various subsets and look the range of accuracies. As coded, each training subset includes all but one training word (\"leave one out\" cross validation). This process tells us, for example, how robust our methods are to our word choices, and if there is any overfitting to the training words. \n",
    "\n",
    "This function is *fed* a dimenions ('gender', 'moral', 'health', or 'ses') and a trained Word2Vec model. We also specific the method we use to extract a dimension - either 'larsen' or 'bolukbasi'. This function *returns* the average and standard deviation of accuracies across the multiple training subset and held-out subsets. "
   ]
  },
  {
   "cell_type": "code",
   "execution_count": 31,
   "metadata": {},
   "outputs": [],
   "source": [
    "do_kfold('gender' , currentmodel, method='bolukbasi') "
   ]
  },
  {
   "cell_type": "code",
   "execution_count": null,
   "metadata": {
    "collapsed": true
   },
   "outputs": [],
   "source": [
    "do_kfold('moral' , currentmodel, method='bolukbasi') "
   ]
  },
  {
   "cell_type": "code",
   "execution_count": 17,
   "metadata": {},
   "outputs": [],
   "source": [
    "do_kfold('health' , currentmodel, method='bolukbasi') "
   ]
  },
  {
   "cell_type": "code",
   "execution_count": null,
   "metadata": {
    "collapsed": true
   },
   "outputs": [],
   "source": [
    "do_kfold('ses' , currentmodel, method='bolukbasi') "
   ]
  },
  {
   "cell_type": "markdown",
   "metadata": {},
   "source": [
    "**SECOND, for the Bolukbasi method, let's double check quality of the direction vector by plotting the eigenvalues**\n",
    "\n",
    "If there is indeed a specific \"direction\" amongst the many, noisy, difference vectors (such as the difference between the word-pair 'man' and 'woman', and between 'uncle' and 'aunt'), we should see that the eigenvalue of first componenent (the \"direction\") is by far larger than remaining components"
   ]
  },
  {
   "cell_type": "code",
   "execution_count": 105,
   "metadata": {},
   "outputs": [
    {
     "name": "stdout",
     "output_type": "stream",
     "text": [
      "\u001b[1mNumber of pos training words: \u001b[0m50\u001b[1m Number of neg training words: \u001b[0m50\n"
     ]
    },
    {
     "data": {
      "image/png": "[encoded data removed]",
      "text/plain": [
       "<matplotlib.figure.Figure at 0x1e2cc07ddd8>"
      ]
     },
     "metadata": {},
     "output_type": "display_data"
    }
   ],
   "source": [
    "#eig_plot_percent('gender', currentmodel, save=False) #saves to your working directory\n",
    "#eig_plot_percent('moral', currentmodel, save=False)\n",
    "#eig_plot_percent('health', currentmodel, save=False)\n",
    "#eig_plot_percent('ses', currentmodel, save=False)"
   ]
  },
  {
   "cell_type": "markdown",
   "metadata": {},
   "source": [
    "**THIRD, let's look to see if these directions are unique from each other**\n",
    "\n",
    "Our concern was that all these dimensions might just be capturing valence. "
   ]
  },
  {
   "cell_type": "code",
   "execution_count": null,
   "metadata": {
    "collapsed": true
   },
   "outputs": [],
   "source": [
    "#extract all four direction vectors, using the Bolukbasi method here:\n",
    "pos_word_list, neg_word_list, pos_words, neg_words, train_classes_pos, train_classes_neg = select_training_set('gender', currentmodel)\n",
    "genderdirectionVec= PCA_get_directionVec(pos_words, neg_words, currentmodel, train_index_list=None)[0] #for the Larsen method, change this to MEAN_get_directionVec_differences(pos_words, neg_words, currentmodel, train_index_list=None)\n",
    "\n",
    "pos_word_list, neg_word_list, pos_words, neg_words, train_classes_pos, train_classes_neg = select_training_set('moral', currentmodel)\n",
    "moraldirectionVec= PCA_get_directionVec(pos_words, neg_words, currentmodel, train_index_list=None)[0] #for the Larsen method, change this to MEAN_get_directionVec_differences(pos_words, neg_words, currentmodel, train_index_list=None)\n",
    "\n",
    "pos_word_list, neg_word_list, pos_words, neg_words, train_classes_pos, train_classes_neg = select_training_set('health', currentmodel)\n",
    "healthdirectionVec= PCA_get_directionVec(pos_words, neg_words, currentmodel, train_index_list=None)[0] #for the Larsen method, change this to MEAN_get_directionVec_differences(pos_words, neg_words, currentmodel, train_index_list=None)\n",
    "\n",
    "pos_word_list, neg_word_list, pos_words, neg_words, train_classes_pos, train_classes_neg = select_training_set('ses', currentmodel)\n",
    "sesdirectionVec= PCA_get_directionVec(pos_words, neg_words, currentmodel, train_index_list=None)[0] #for the Larsen method, change this to MEAN_get_directionVec_differences(pos_words, neg_words, currentmodel, train_index_list=None)\n",
    "\n",
    "#look at the cosine simiarlity between each possible pair of direction vectors. Cosine similarity will tell us if these directions are capturing the exact same meaning, in which case the cosine similarity will be -1 or 1. \n",
    "print(\"Cosine Similarity between gender and morality is: \" + str(1 - spatial.distance.cosine(genderdirectionVec, moraldirectionVec))) #similarity is 1-distance\n",
    "print(\"Cosine Similarity between gender and health is: \" + str(1 - spatial.distance.cosine(genderdirectionVec, healthdirectionVec))) #similarity is 1-distance\n",
    "print(\"Cosine Similarity between gender and ses is: \" + str(1 - spatial.distance.cosine(genderdirectionVec, sesdirectionVec))) #similarity is 1-distance\n",
    "print(\"Cosine Similarity between morality and health is: \" + str(1 - spatial.distance.cosine(moraldirectionVec, healthdirectionVec))) #similarity is 1-distance\n",
    "print(\"Cosine Similarity between morality and ses is: \" + str(1 - spatial.distance.cosine(moraldirectionVec, sesdirectionVec))) #similarity is 1-distance\n",
    "print(\"Cosine Similarity between health and ses is: \" + str(1 - spatial.distance.cosine(healthdirectionVec, sesdirectionVec))) #similarity is 1-distance"
   ]
  },
  {
   "cell_type": "markdown",
   "metadata": {},
   "source": [
    "**FOURTH, let's check how simialr the directions extracted from both methods are to each other**"
   ]
  },
  {
   "cell_type": "code",
   "execution_count": 18,
   "metadata": {},
   "outputs": [
    {
     "name": "stdout",
     "output_type": "stream",
     "text": [
      "Number of pos training words: 70 Number of neg training words: 70\n",
      "Number of pos training words: 80 Number of neg training words: 80\n",
      "Number of pos training words: 65 Number of neg training words: 65\n",
      "Number of pos training words: 50 Number of neg training words: 50\n",
      "Cosine Similarity between larsen and bolukbasi methods for gender direction: 0.9740058078933279\n",
      "Cosine Similarity between larsen and bolukbasi methods for morality direction: -0.9683411186335131\n",
      "Cosine Similarity between larsen and bolukbasi methods for health direction: -0.9745905649811046\n",
      "Cosine Similarity between larsen and bolukbasi methods for ses direction: -0.9761921333985202\n"
     ]
    }
   ],
   "source": [
    "#extract all four direction vectors:\n",
    "pos_word_list, neg_word_list, pos_words, neg_words, train_classes_pos, train_classes_neg = select_training_set('gender', currentmodel)\n",
    "genderdirectionVec_larsen= MEAN_get_directionVec_differences(pos_words, neg_words, currentmodel, train_index_list=None)\n",
    "genderdirectionVec_boluk= PCA_get_directionVec(pos_words, neg_words, currentmodel, train_index_list=None)[0] \n",
    "\n",
    "pos_word_list, neg_word_list, pos_words, neg_words, train_classes_pos, train_classes_neg = select_training_set('moral', currentmodel)\n",
    "moraldirectionVec_larsen= MEAN_get_directionVec_differences(pos_words, neg_words, currentmodel, train_index_list=None)\n",
    "moraldirectionVec_boluk= PCA_get_directionVec(pos_words, neg_words, currentmodel, train_index_list=None)[0] \n",
    "\n",
    "pos_word_list, neg_word_list, pos_words, neg_words, train_classes_pos, train_classes_neg = select_training_set('health', currentmodel)\n",
    "healthdirectionVec_larsen= MEAN_get_directionVec_differences(pos_words, neg_words, currentmodel, train_index_list=None)\n",
    "healthdirectionVec_boluk= PCA_get_directionVec(pos_words, neg_words, currentmodel, train_index_list=None)[0] \n",
    "\n",
    "pos_word_list, neg_word_list, pos_words, neg_words, train_classes_pos, train_classes_neg = select_training_set('ses', currentmodel)\n",
    "sesdirectionVec_larsen= MEAN_get_directionVec_differences(pos_words, neg_words, currentmodel, train_index_list=None)\n",
    "sesdirectionVec_boluk= PCA_get_directionVec(pos_words, neg_words, currentmodel, train_index_list=None)[0] \n",
    "\n",
    "#look at cosine simiarlity between each possible pair of direction vectors. Cosine similarity will tell us if these directions are capturing the exact same meaning, in which case the cosine similarity will be -1 or 1. \n",
    "print(\"Cosine Similarity between larsen and bolukbasi methods for gender direction: \" + str(1 - spatial.distance.cosine(genderdirectionVec_larsen, genderdirectionVec_boluk))) #similarity is 1-distance\n",
    "print(\"Cosine Similarity between larsen and bolukbasi methods for morality direction: \" + str(1 - spatial.distance.cosine(moraldirectionVec_larsen, moraldirectionVec_boluk))) #similarity is 1-distance\n",
    "print(\"Cosine Similarity between larsen and bolukbasi methods for health direction: \" + str(1 - spatial.distance.cosine(healthdirectionVec_larsen, healthdirectionVec_boluk))) #similarity is 1-distance\n",
    "print(\"Cosine Similarity between larsen and bolukbasi methods for ses direction: \" + str(1 - spatial.distance.cosine(sesdirectionVec_larsen, sesdirectionVec_boluk))) #similarity is 1-distance\n"
   ]
  },
  {
   "cell_type": "markdown",
   "metadata": {},
   "source": [
    "You'll notice that, for each of the four dimensions, the cosine simiarlities between the version ectracted with the Bolukbasi method and the version extracted with the Larsen method is close to 1 or -1. A cosine simialrity close to 1 suggests the two versions are nearly the same vector and pointing in the same direction. A cosine similarity close close to -1, suggests the two vesrions are nearly the same vector, but pointing in exactly opposite directions. "
   ]
  },
  {
   "cell_type": "markdown",
   "metadata": {},
   "source": [
    "<a id='Results'></a> \n",
    "# Part 5: Let's extract a dimension (gender, morality, health, or socioeconomic status) and then see how words are classified according to that dimension"
   ]
  },
  {
   "cell_type": "markdown",
   "metadata": {},
   "source": [
    "For each dimension, we'll look at how the dimension classifies the **training** words used to find the dimension and then a fresh set of **testing** words *not* used to find the dimension.\n",
    "\n",
    "Finally, we'll look at how the dimension classifies a set of **words about obesity and body weight**. Is obesity connoted with feminininity or masculinity? Morality or immorality? Health or illness? Wealth or poverty?  Here you can stick in your own words too and see how they are classified. "
   ]
  },
  {
   "cell_type": "markdown",
   "metadata": {},
   "source": [
    "#### Select the subspace you want to examine below, with our trained model: "
   ]
  },
  {
   "cell_type": "code",
   "execution_count": 65,
   "metadata": {
    "collapsed": true
   },
   "outputs": [],
   "source": [
    "current_subspace = subspaceselector(\"ses\") #choose, gender, moral, health, or ses"
   ]
  },
  {
   "cell_type": "markdown",
   "metadata": {},
   "source": [
    "Run **do_projections()** to lump together a lot of the functions we've used so far, to classify words!\n",
    "\n",
    "In brief, this function gives us predictions, words, and expected classes for our training and testing set. It will then print the training and testing accuracy for the subspace you selected in subspaceselector(), above. \n",
    "\n",
    "It is *fed*:\n",
    "* the dimension we're interested in ('gender', 'moral', 'health', or 'ses'), which you specified abvoe with subspaceselector\n",
    "* optionally, a set of words you want to classify (we'll look at obese lexicon later).\n",
    "* our trained Word2Vec model we loaded earlier in this notebook, called currentmodel\n",
    "* extraction method, either 'bolukbasi' or 'larsen'\n",
    "\n",
    "It *returns*:\n",
    "* train_word_list = set of training words\n",
    "* predictions_train = predicted classes for the training words. 1 is feminine/moral/healthy/high SES. 0 is masculine/immoral/unhealthy/low SES.\n",
    "* projections_train = predictions (scalars) for the training words. Postive values are feminine/moral/healthy/high SES. Negative values are masculine/immoral/unhealthy/low SES.\n",
    "* train_classes = expected classes for the training set of words. 1 is feminine/moral/healthy/high SES. 0 is masculine/immoral/unhealthy/low SES.\n",
    "* test_word_list = set of testing words. \n",
    "* predictions_test = predicted classes for the testing words. 1 is feminine/moral/healthy/high SES. 0 is masculine/immoral/unhealthy/low SES.\n",
    "* projections_test = predictions (scalars) for the testing words. Postive values are feminine/moral/healthy/high SES. Negative values are masculine/immoral/unhealthy/low SES.\n",
    "* test_classes = expected classes for the testing set of words. 1 is feminine/moral/healthy/high SES. 0 is masculine/immoral/unhealthy/low SES.\n",
    "* predictions_new_word_list = predicted classes for the new words of interest. 1 is feminine/moral/healthy/high SES. 0 is masculine/immoral/unhealthy/low SES.\n",
    "* projections_new_word_list = predictions (scalars) for the new words of interest. Postive values are feminine/moral/healthy/high SES. Negative values are masculine/immoral/unhealthy/low SES.\n"
   ]
  },
  {
   "cell_type": "code",
   "execution_count": 66,
   "metadata": {},
   "outputs": [
    {
     "name": "stdout",
     "output_type": "stream",
     "text": [
      "Number of pos training words: 50 Number of neg training words: 50\n",
      "\u001b[1mNumber of test words in model vocabulary, out of 60: \u001b[0m60\n",
      "\u001b[1mPercent- Training accuracy: \u001b[0m0.93\u001b[1m Testing accuracy: \u001b[0m1.0\n",
      "\u001b[1mNumber- Training accuracy: \u001b[0m93\u001b[1m Testing accuracy: \u001b[0m60\n"
     ]
    }
   ],
   "source": [
    "train_word_list, predictions_train, projections_train, train_classes, test_word_list, predictions_test, projections_test,\\\n",
    "    test_classes, predictions_new_word_list, projections_new_word_list \\\n",
    "    = do_projections(current_subspace.subspaceselection, None, currentmodel, method= 'bolukbasi')"
   ]
  },
  {
   "cell_type": "markdown",
   "metadata": {},
   "source": [
    "####  Visualize Performance of Our Classification Method on Test Words for the Dimension Selected Above (in subspaceselector):"
   ]
  },
  {
   "cell_type": "code",
   "execution_count": 51,
   "metadata": {},
   "outputs": [
    {
     "name": "stdout",
     "output_type": "stream",
     "text": [
      "Number of pos training words: 70 Number of neg training words: 70\n",
      "\u001b[1mNumber of test words in model vocabulary, out of 60: \u001b[0m45\n",
      "\u001b[1mPercent- Training accuracy: \u001b[0m0.8642857142857143\u001b[1m Testing accuracy: \u001b[0m0.8888888888888888\n",
      "\u001b[1mNumber- Training accuracy: \u001b[0m121\u001b[1m Testing accuracy: \u001b[0m40\n"
     ]
    },
    {
     "data": {
      "image/png": "[encoded data removed]",
      "text/plain": [
       "<matplotlib.figure.Figure at 0x24ef8f8ee10>"
      ]
     },
     "metadata": {},
     "output_type": "display_data"
    }
   ],
   "source": [
    "#get words, predictions, and classes for training and testing set\n",
    "train_word_list, predictions_train, projections_train, train_classes, test_word_list, predictions_test, projections_test,\\\n",
    "    test_classes, predictions_new_word_list, projections_new_word_list \\\n",
    "    = do_projections(current_subspace.subspaceselection, None, currentmodel, method='bolukbasi')\n",
    "    \n",
    "#visualization\n",
    "rcParams['figure.figsize'] = 9,9\n",
    "#xlim([-.03, .03])\n",
    "\n",
    "test_classes_relabeled=[] #quick hack to get legend to show Positive/Negative instead of 0/1\n",
    "for i in test_classes:\n",
    "    if i==1:\n",
    "        test_classes_relabeled.append(current_subspace.pos_coded)\n",
    "    else:\n",
    "        test_classes_relabeled.append(current_subspace.neg_coded)\n",
    "\n",
    "myplot= stripplot(projections_test, test_word_list, test_classes_relabeled, jitter=True, size=10)\n",
    "plt.legend(loc=\"upper left\", bbox_to_anchor=[0, 1],\n",
    "           ncol=2, shadow=True, title=\"True Class\", fancybox=True)\n",
    "\n",
    "plt.axvline(x=0, color='r', linestyle='-')\n",
    "plt.title('Test words for '+ current_subspace.subspaceselection + ' dimension')\n",
    "plt.xlabel('Predicted' + '\\n Positive is Predicted ' + current_subspace.pos_coded + '\\n Negative is Predicted ' + current_subspace.neg_coded)\n",
    "myplot.grid(b=True, linestyle='dashed')\n",
    "plt.show()"
   ]
  },
  {
   "cell_type": "markdown",
   "metadata": {},
   "source": [
    "#### Now lets try with words about body weight and health:"
   ]
  },
  {
   "cell_type": "code",
   "execution_count": 53,
   "metadata": {},
   "outputs": [
    {
     "name": "stderr",
     "output_type": "stream",
     "text": [
      "C:\\Users\\Alina Arseniev\\Anaconda3\\lib\\site-packages\\ipykernel_launcher.py:10: DeprecationWarning: Call to deprecated `__getitem__` (Method will be removed in 4.0.0, use self.wv.__getitem__() instead).\n",
      "  # Remove the CWD from sys.path while we load stuff.\n"
     ]
    },
    {
     "name": "stdout",
     "output_type": "stream",
     "text": [
      "Number of pos training words: 70 Number of neg training words: 70\n",
      "\u001b[1mNumber of test words in model vocabulary, out of 60: \u001b[0m45\n",
      "\u001b[1mPercent- Training accuracy: \u001b[0m0.8642857142857143\u001b[1m Testing accuracy: \u001b[0m0.8888888888888888\n",
      "\u001b[1mNumber- Training accuracy: \u001b[0m121\u001b[1m Testing accuracy: \u001b[0m40\n"
     ]
    },
    {
     "data": {
      "image/png": "[encoded data removed]",
      "text/plain": [
       "<matplotlib.figure.Figure at 0x24ef8f7eb70>"
      ]
     },
     "metadata": {},
     "output_type": "display_data"
    }
   ],
   "source": [
    "obese_words_seeifinmodel=['obese', 'obesity', 'diabetic', 'diabetes', 'weight', 'overweight', 'thin', 'slender', 'burly',\n",
    "                'muscular', 'diet', 'dieting', 'health', 'healthy', 'unhealthy', 'fat', 'anorexic', 'anorexia', 'bulimia', \n",
    "                'beautiful', 'handsome', 'overeating', 'exercise', 'sedentary', 'bulimic', 'morbidly_obese', 'normal_weight',\n",
    "                'seriously_overweight']\n",
    "obese_words= []\n",
    "\n",
    "#check if these words are in your model\n",
    "for i in obese_words_seeifinmodel:\n",
    "    try:\n",
    "        currentmodel[i]\n",
    "        obese_words.append(i)\n",
    "    except:\n",
    "        print(str(i) + \" was not in this model's vocabulary and has been removed\")\n",
    "        continue\n",
    "    \n",
    "#get words, predictions, and classes for training and obesity set\n",
    "train_word_list, predictions_train, projections_train, train_classes, test_word_list, predictions_test, projections_test,\\\n",
    "    test_classes, predictions_new_word_list, projections_new_word_list \\\n",
    "    = do_projections(current_subspace.subspaceselection, obese_words, currentmodel, method= 'bolukbasi')\n",
    "    \n",
    "#visualization\n",
    "rcParams['figure.figsize'] = 7, 7\n",
    "#xlim([-.03, .03])\n",
    "myplot= stripplot(projections_new_word_list, obese_words, color= 'blue', jitter=True, size=10)\n",
    "plt.axvline(x=0, color='r', linestyle='-')\n",
    "plt.title('Obesity lexicon for '+ current_subspace.subspaceselection + ' dimension')\n",
    "plt.xlabel('Predicted' + '\\n Positive is Predicted ' + current_subspace.pos_coded + '\\n Negative is Predicted ' + current_subspace.neg_coded)\n",
    "myplot.grid(b=True, linestyle='dashed')\n",
    "plt.show()"
   ]
  },
  {
   "cell_type": "markdown",
   "metadata": {},
   "source": [
    "#### Write projection for training/testing/obese keywords results to a CSV"
   ]
  },
  {
   "cell_type": "code",
   "execution_count": null,
   "metadata": {
    "collapsed": true
   },
   "outputs": [],
   "source": [
    "train_word_list, predictions_train, projections_train, train_classes, test_word_list, predictions_test, \\\n",
    "    projections_test, test_classes, predictions_new_word_list, projections_new_word_list \\\n",
    "    = do_projections(current_subspace.subspaceselection, currentmodel, obese_words, method='bolukbasi')\n",
    "\n",
    "with open(r'Results.csv', 'a') as f:\n",
    "    writer0 = writer(f)\n",
    "    writer0.writerow([current_subspace.subspaceselection + '_Train']*len(train_word_list))  #change the headings as needed for Gender,Moral, Health, SES\n",
    "    writer0.writerow(train_word_list)\n",
    "    writer0.writerow(train_classes)\n",
    "    writer0.writerow(predictions_train)\n",
    "    writer0.writerow(projections_train)\n",
    "\n",
    "    writer0.writerow([current_subspace.subspaceselection + '_Test']*len(test_word_list)) #change the headings as needed for Gender, Moral, Health, SES\n",
    "    writer0.writerow(test_word_list)\n",
    "    writer0.writerow(test_classes)\n",
    "    writer0.writerow(predictions_test)\n",
    "    writer0.writerow(projections_test)\n",
    "    \n",
    "    writer0.writerow([current_subspace.subspaceselection + '_Obesity']*len(obese_words)) #change the headings as needed for Gender, Moral, Health, SES, and if another set of words other than the obese_words are used here\n",
    "    writer0.writerow(obese_words)\n",
    "    writer0.writerow(predictions_new_word_list)\n",
    "    writer0.writerow(projections_new_word_list)"
   ]
  },
  {
   "cell_type": "markdown",
   "metadata": {
    "collapsed": true
   },
   "source": [
    "#### Extra - For gender, examine how a few stereotypically gendered words are classified with this method"
   ]
  },
  {
   "cell_type": "code",
   "execution_count": null,
   "metadata": {
    "collapsed": true
   },
   "outputs": [],
   "source": [
    "gender_stereotypes_seeifinmodel=['petite', 'cooking', 'graceful',  'housework', 'soft', 'whisper', 'flirtatious', 'accepting', 'blonde', 'blond', 'doll', 'dolls','nurse',  'estrogen', 'lipstick','pregnant', 'nanny', 'pink', \n",
    "                 'sewing', 'modeling', 'dainty', 'gentle', 'children','pregnancy', 'nurturing', 'depressed', 'nice', 'emotional','depression', 'home', 'kitchen', 'quiet', 'submissive',\n",
    "                   'soldier', 'army', 'drafted', 'military',   'beard', 'mustache', 'genius', 'engineering', 'math', \n",
    "                  'brilliant', 'strong', 'strength',  'politician', 'programmer','doctor', 'sexual', 'aggressive', \n",
    "                    'testosterone', 'tall', 'competitive', 'big', 'powerful', 'mean', 'sports', 'fighting', 'confident', 'rough', 'loud', 'worldly',\n",
    "                   'experienced', 'insensitive', 'ambitious', 'dominant']\n",
    "gender_stereotypes= []\n",
    "\n",
    "#check if these words are in your model\n",
    "for i in gender_stereotypes_seeifinmodel:\n",
    "    try:\n",
    "        currentmodel[i]\n",
    "        gender_stereotypes.append(i)\n",
    "    except:\n",
    "        print(str(i) + \" was not in this model's vocabulary and has been removed\")\n",
    "        continue\n",
    "\n",
    "\n",
    "train_word_list, predictions_train, projections_train, train_classes, test_word_list, predictions_test, projections_test, test_classes, predictions_new_word_list, projections_new_word_list  = do_projections('gender', gender_stereotypes, currentmodel,  method='bolukbasi')\n",
    "\n",
    "#Visualization\n",
    "rcParams['figure.figsize'] = 9,9\n",
    "#xlim([-.03, .03])\n",
    "myplot= stripplot(projections_new_word_list, gender_stereotypes, color= 'blue', jitter=True, size=10)\n",
    "plt.axvline(x=0, color='r', linestyle='-')\n",
    "plt.title('Predicted Gender of Stereotypically Gendered Words')\n",
    "plt.xlabel('Negative projection is masculine, positive projection is feminine')\n",
    "myplot.grid(b=True, linestyle='dashed')\n",
    "plt.show()"
   ]
  },
  {
   "cell_type": "code",
   "execution_count": null,
   "metadata": {
    "collapsed": true
   },
   "outputs": [],
   "source": []
  }
 ],
 "metadata": {
  "kernelspec": {
   "display_name": "Python 3",
   "language": "python",
   "name": "python3"
  },
  "language_info": {
   "codemirror_mode": {
    "name": "ipython",
    "version": 3
   },
   "file_extension": ".py",
   "mimetype": "text/x-python",
   "name": "python",
   "nbconvert_exporter": "python",
   "pygments_lexer": "ipython3",
   "version": "3.6.3"
  }
 },
 "nbformat": 4,
 "nbformat_minor": 1
}
